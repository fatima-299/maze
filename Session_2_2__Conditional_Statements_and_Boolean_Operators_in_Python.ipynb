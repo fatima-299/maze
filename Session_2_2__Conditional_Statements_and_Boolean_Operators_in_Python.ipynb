{
  "nbformat": 4,
  "nbformat_minor": 0,
  "metadata": {
    "colab": {
      "provenance": [],
      "include_colab_link": true
    },
    "kernelspec": {
      "name": "python3",
      "display_name": "Python 3"
    },
    "language_info": {
      "name": "python"
    }
  },
  "cells": [
    {
      "cell_type": "markdown",
      "metadata": {
        "id": "view-in-github",
        "colab_type": "text"
      },
      "source": [
        "<a href=\"https://colab.research.google.com/github/fatima-299/maze/blob/main/Session_2_2__Conditional_Statements_and_Boolean_Operators_in_Python.ipynb\" target=\"_parent\"><img src=\"https://colab.research.google.com/assets/colab-badge.svg\" alt=\"Open In Colab\"/></a>"
      ]
    },
    {
      "cell_type": "markdown",
      "metadata": {
        "id": "7bbdf22a"
      },
      "source": [
        "## Conditional Statements in Python\n",
        "\n",
        "Conditional statements allow a program to make decisions. They let you run certain pieces of code only if specific conditions are true."
      ]
    },
    {
      "cell_type": "markdown",
      "metadata": {
        "id": "d998a0e1"
      },
      "source": [
        "### The if Statement\n",
        "\n",
        "The simplest conditional is the `if` statement:\n",
        "\n",
        "```python\n",
        "age = 20\n",
        "if age >= 18:\n",
        "    print(\"You are an adult.\")\n",
        "```"
      ]
    },
    {
      "cell_type": "markdown",
      "metadata": {
        "id": "5ee2b224"
      },
      "source": [
        "### if...else Statement\n",
        "\n",
        "You can provide an alternative with `else`:\n",
        "\n",
        "```python\n",
        "age = 16\n",
        "if age >= 18:\n",
        "    print(\"You are an adult.\")\n",
        "else:\n",
        "    print(\"You are underage.\")\n",
        "```"
      ]
    },
    {
      "cell_type": "markdown",
      "metadata": {
        "id": "61b23161"
      },
      "source": [
        "### if...elif...else Chain\n",
        "\n",
        "When you have multiple conditions, use `elif` (short for *else if*):\n",
        "\n",
        "```python\n",
        "score = 85\n",
        "if score >= 90:\n",
        "    print(\"Grade A\")\n",
        "elif score >= 80:\n",
        "    print(\"Grade B\")\n",
        "else:\n",
        "    print(\"Keep working!\")\n",
        "```"
      ]
    },
    {
      "cell_type": "markdown",
      "metadata": {
        "id": "4a800de1"
      },
      "source": [
        "### Indentation\n",
        "\n",
        "Python uses **indentation** to define blocks of code. Always indent inside `if`, `elif`, and `else`. If indentation is wrong, Python will give an error."
      ]
    },
    {
      "cell_type": "markdown",
      "metadata": {
        "id": "f598f083"
      },
      "source": [
        "### Nested Conditionals\n",
        "\n",
        "You can put an `if` inside another `if`. This is called nesting:\n",
        "\n",
        "```python\n",
        "x = 5\n",
        "y = 10\n",
        "if x > 0:\n",
        "    if y > 0:\n",
        "        print(\"Both are positive\")\n",
        "```"
      ]
    },
    {
      "cell_type": "markdown",
      "source": [
        "### Booleans\n",
        "\n",
        "Conditions are using the Booleans we discovered in session 3.\n",
        "\n",
        "```python\n",
        "if x > 2:\n",
        "  print(\"yes!\")\n",
        "\n",
        "# is equivalent to\n",
        "cond = x > 2\n",
        "if cond:\n",
        "  print(\"yes!\")\n",
        "```\n",
        "\n",
        "You can check that cond is a Boolean using the `type` built-in function\n",
        "```python\n",
        "type(cond)\n",
        "```"
      ],
      "metadata": {
        "id": "ejTTnGwpi885"
      }
    },
    {
      "cell_type": "markdown",
      "metadata": {
        "id": "7115d165"
      },
      "source": [
        "### Combining Conditions\n",
        "\n",
        "You can combine conditions with boolean operators like `and` and `or`:\n",
        "\n",
        "```python\n",
        "age = 25\n",
        "has_ticket = True\n",
        "if age >= 18 and has_ticket:\n",
        "    print(\"You can enter.\")\n",
        "```"
      ]
    },
    {
      "cell_type": "markdown",
      "metadata": {
        "id": "b8eacfd2"
      },
      "source": [
        "### Common Pitfall !!!\n",
        "\n",
        "Remember: `=` is assignment, `==` is comparison. Mixing them will cause errors or unexpected behavior."
      ]
    },
    {
      "cell_type": "markdown",
      "metadata": {
        "id": "a6209ec8"
      },
      "source": [
        "### Algorithmic Thinking\n",
        "\n",
        "Conditionals allow us to branch our program into different paths. Each path is leading to different results. The more conditions you check, the more complex your program logic becomes. Business often rely on complex nested conditions (instead of machine learning or advanced algorithms)."
      ]
    },
    {
      "cell_type": "markdown",
      "metadata": {
        "id": "f73d9496"
      },
      "source": [
        "### Algorithmic Complexity\n",
        "\n",
        "Algorithmic complexity measures how the number of operations grows with input size. Even though we don’t use loops yet, every extra condition is an extra branch to evaluate. For now, remember:\n",
        "\n",
        "* **Constant time O(1):** a fixed number of checks, independent of input size.\n",
        "* **Logarithmic time O(log n):** the number of checks grows very slowly as input increases. Past a certain point, the input can keep growing without much affecting the number of steps.\n",
        "* **Linear time O(n):** the number of checks grows proportionally to input size (twice the input → roughly twice the work). The load can get heavy, but it scales in a predictable way.\n",
        "* **Quadratic time O(n²):** the number of checks grows with the square of input size (becomes infeasible very quickly as input grows).\n",
        "\n",
        "Later, when we introduce loops and nested loops, complexity will matter even more!\n",
        "\n",
        "Here, **“time” means steps**. It’s independent of the machine and of any parallelisation capabilities. Even though a powerful computer might run twice as fast in *seconds*, it still performs the same number of operations as a slower one. That’s why complexity is such a valuable way to compare how smart the logic of an algorithm is.\n",
        "\n",
        "By contrast, **running time** refers to the actual clock time spent computing on a given machine."
      ]
    },
    {
      "cell_type": "markdown",
      "metadata": {
        "id": "f8661b53"
      },
      "source": [
        "Question\n",
        "\n",
        "Ask the user's age. If age is 18 or above, print `Welcome to the nightclub!`, otherwise print `You are too young.`"
      ]
    },
    {
      "cell_type": "code",
      "execution_count": 4,
      "metadata": {
        "id": "0552e10f",
        "colab": {
          "base_uri": "https://localhost:8080/"
        },
        "outputId": "f7621732-4a8d-4dfb-9cf2-5da2f5981d1e"
      },
      "outputs": [
        {
          "output_type": "stream",
          "name": "stdout",
          "text": [
            "Please enter your age: 13\n",
            "You are Too young.\n"
          ]
        }
      ],
      "source": [
        "### =====                ==== ####\n",
        "###       YOUR CODE HERE      ####\n",
        "### =====                ==== ####\n",
        "age = int(input(\"Please enter your age: \"))\n",
        "if age>=18:\n",
        "  print(\"Welcome to the night club!\")\n",
        "else:\n",
        "  print(\"You are Too young.\")\n"
      ]
    },
    {
      "cell_type": "markdown",
      "metadata": {
        "id": "11e4ff0e"
      },
      "source": [
        "Question\n",
        "\n",
        "Ask for a student's score. If the score is 10 or above, print `Pass`, else print `Fail`."
      ]
    },
    {
      "cell_type": "code",
      "execution_count": 5,
      "metadata": {
        "id": "17e9b7e1",
        "colab": {
          "base_uri": "https://localhost:8080/"
        },
        "outputId": "d4356503-cb3f-49c0-9d27-2c95f63571ae"
      },
      "outputs": [
        {
          "output_type": "stream",
          "name": "stdout",
          "text": [
            "Enter the student score:9\n",
            "Fail\n"
          ]
        }
      ],
      "source": [
        "### =====                ==== ####\n",
        "###       YOUR CODE HERE      ####\n",
        "### =====                ==== ####\n",
        "score=int(input(\"Enter the student score:\"))\n",
        "if score>=10:\n",
        "  print(\"Pass\")\n",
        "else:\n",
        "  print(\"Fail\")"
      ]
    },
    {
      "cell_type": "markdown",
      "metadata": {
        "id": "c7a78fbd"
      },
      "source": [
        "Question\n",
        "\n",
        "Ask the user for a number. Print whether it is positive, negative, or zero."
      ]
    },
    {
      "cell_type": "code",
      "execution_count": 7,
      "metadata": {
        "id": "a2cb85f7",
        "colab": {
          "base_uri": "https://localhost:8080/"
        },
        "outputId": "88d92f7a-e2d8-4db6-de77-fd5447e915ea"
      },
      "outputs": [
        {
          "output_type": "stream",
          "name": "stdout",
          "text": [
            "Enter a number: -8.8\n",
            "The number is negative.\n"
          ]
        }
      ],
      "source": [
        "### =====                ==== ####\n",
        "###       YOUR CODE HERE      ####\n",
        "### =====                ==== ####\n",
        "number = float(input(\"Enter a number: \"))\n",
        "\n",
        "# Check if the number is positive, negative, or zero\n",
        "if number > 0:\n",
        "    print(\"The number is positive.\")\n",
        "elif number < 0:\n",
        "    print(\"The number is negative.\")\n",
        "else:\n",
        "    print(\"The number is zero.\")"
      ]
    },
    {
      "cell_type": "markdown",
      "metadata": {
        "id": "99cbd4af"
      },
      "source": [
        "Question\n",
        "\n",
        "Ask for two numbers. Print the larger one."
      ]
    },
    {
      "cell_type": "code",
      "execution_count": 10,
      "metadata": {
        "id": "a4fef7d2",
        "colab": {
          "base_uri": "https://localhost:8080/"
        },
        "outputId": "dafdb2f9-aaa6-4eca-82cf-e2c8bb75b611"
      },
      "outputs": [
        {
          "output_type": "stream",
          "name": "stdout",
          "text": [
            "Enter the first number: 13.4\n",
            "Enter the second number: 21.8\n",
            "The larger number is: 21.8\n"
          ]
        }
      ],
      "source": [
        "### =====                ==== ####\n",
        "###       YOUR CODE HERE      ####\n",
        "### =====                ==== ####\n",
        "num1 = float(input(\"Enter the first number: \"))\n",
        "num2 = float(input(\"Enter the second number: \"))\n",
        "if num1 > num2:\n",
        "    print(\"The larger number is:\", num1)\n",
        "elif num2 > num1:\n",
        "    print(\"The larger number is:\", num2)\n",
        "else:\n",
        "    print(\"Both numbers are equal.\")\n",
        "\n"
      ]
    },
    {
      "cell_type": "markdown",
      "metadata": {
        "id": "9487436b"
      },
      "source": [
        "Question\n",
        "\n",
        "Ask for three numbers. Print the maximum one (use nested if statements)."
      ]
    },
    {
      "cell_type": "code",
      "execution_count": 11,
      "metadata": {
        "id": "9b159d51",
        "colab": {
          "base_uri": "https://localhost:8080/"
        },
        "outputId": "20add604-3321-4a85-c56c-219d575a0149"
      },
      "outputs": [
        {
          "output_type": "stream",
          "name": "stdout",
          "text": [
            "Enter the first number: 12\n",
            "Enter the second number: 4\n",
            "Enter the third number:67\n",
            "The largest number is: 67.0\n"
          ]
        }
      ],
      "source": [
        "### =====                ==== ####\n",
        "###       YOUR CODE HERE      ####\n",
        "### =====                ==== ####\n",
        "num1 = float(input(\"Enter the first number: \"))\n",
        "num2 = float(input(\"Enter the second number: \"))\n",
        "num3 = float(input(\"Enter the third number:\"))\n",
        "if num1>num2:\n",
        "  if num1>num3:\n",
        "    print(\"The larger number is:\", num1)\n",
        "  else:\n",
        "        print(\"The largest number is:\", num3)\n",
        "else:\n",
        "    if num2 > num3:\n",
        "        print(\"The largest number is:\", num2)\n",
        "    else:\n",
        "        print(\"The largest number is:\", num3)\n"
      ]
    },
    {
      "cell_type": "markdown",
      "metadata": {
        "id": "f2e67863"
      },
      "source": [
        "Question\n",
        "\n",
        "Ticket pricing system: If age < 12 → `Child ticket`, if age < 65 → `Adult ticket`, otherwise → `Senior ticket`."
      ]
    },
    {
      "cell_type": "code",
      "execution_count": 13,
      "metadata": {
        "id": "be023c85",
        "colab": {
          "base_uri": "https://localhost:8080/"
        },
        "outputId": "18ee2f37-40fd-45e8-b8ba-684bc5e56024"
      },
      "outputs": [
        {
          "output_type": "stream",
          "name": "stdout",
          "text": [
            "What is your age?44\n",
            "Here is your adult ticket\n"
          ]
        }
      ],
      "source": [
        "### =====                ==== ####\n",
        "###       YOUR CODE HERE      ####\n",
        "### =====                ==== ####\n",
        "age = int(input(\"What is your age?\"))\n",
        "if age<12:\n",
        "  print(\"Here is your child ticket\")\n",
        "elif age>65:\n",
        "  print(\"Here is your senior ticket\")\n",
        "else:\n",
        "  print(\"Here is your adult ticket\")"
      ]
    },
    {
      "cell_type": "markdown",
      "metadata": {
        "id": "0e685ae2"
      },
      "source": [
        "Question\n",
        "\n",
        "Temperature classifier: If < 10 → `Cold`, if between 10 and 25 → `Warm`, otherwise → `Hot`."
      ]
    },
    {
      "cell_type": "code",
      "execution_count": 14,
      "metadata": {
        "id": "1be5a3db",
        "colab": {
          "base_uri": "https://localhost:8080/"
        },
        "outputId": "d7e48709-036f-44a2-e788-fab1220b5730"
      },
      "outputs": [
        {
          "output_type": "stream",
          "name": "stdout",
          "text": [
            "Enter the temperature: 20\n",
            "Warm\n"
          ]
        }
      ],
      "source": [
        "### =====                ==== ####\n",
        "###       YOUR CODE HERE      ####\n",
        "### =====                ==== ####\n",
        "temp = float(input(\"Enter the temperature: \"))\n",
        "\n",
        "# Classify the temperature\n",
        "if temp < 10:\n",
        "    print(\"Cold\")\n",
        "elif temp <= 25:\n",
        "    print(\"Warm\")\n",
        "else:\n",
        "    print(\"Hot\")"
      ]
    },
    {
      "cell_type": "markdown",
      "metadata": {
        "id": "4859656c"
      },
      "source": [
        "Question\n",
        "\n",
        "Ask the user for a letter. Print whether it is a vowel or a consonant."
      ]
    },
    {
      "cell_type": "code",
      "execution_count": 18,
      "metadata": {
        "id": "0c2563e1",
        "colab": {
          "base_uri": "https://localhost:8080/"
        },
        "outputId": "35791dd0-d93a-4ff7-ebf6-5bf94ab6f854"
      },
      "outputs": [
        {
          "output_type": "stream",
          "name": "stdout",
          "text": [
            "Enter a single letter: d\n",
            "It's a consonant.\n"
          ]
        }
      ],
      "source": [
        "from ctypes import c_char\n",
        "### =====                ==== ####\n",
        "###       YOUR CODE HERE      ####\n",
        "### =====                ==== ####\n",
        "letter = input(\"Enter a single letter: \").lower()\n",
        "\n",
        "# Check if it's a vowel or consonant\n",
        "if letter in ('a', 'e', 'i', 'o', 'u'):\n",
        "    print(\"It's a vowel.\")\n",
        "elif letter.isalpha() and len(letter) == 1:\n",
        "    print(\"It's a consonant.\")\n",
        "else:\n",
        "    print(\"Please enter a single alphabet letter.\")"
      ]
    },
    {
      "cell_type": "markdown",
      "metadata": {
        "id": "3d6228de"
      },
      "source": [
        "Question\n",
        "\n",
        "Ask the user for a string. Print `Contains a digit` if at least one character is a digit."
      ]
    },
    {
      "cell_type": "code",
      "execution_count": 20,
      "metadata": {
        "id": "03a3704b",
        "colab": {
          "base_uri": "https://localhost:8080/"
        },
        "outputId": "1164231e-aadf-44c6-949a-bb8da6f90133"
      },
      "outputs": [
        {
          "output_type": "stream",
          "name": "stdout",
          "text": [
            "Enter a string: I love you\n",
            "Does not contain a digit\n"
          ]
        }
      ],
      "source": [
        "### =====                ==== ####\n",
        "###       YOUR CODE HERE      ####\n",
        "### =====                ==== ####\n",
        "text = input(\"Enter a string: \")\n",
        "\n",
        "# Assume there are no digits\n",
        "has_digit = False\n",
        "\n",
        "# Check each character\n",
        "for ch in text:\n",
        "    if ch.isdigit():\n",
        "        has_digit = True\n",
        "        break  # Stop checking once a digit is found\n",
        "\n",
        "# Print the result\n",
        "if has_digit:\n",
        "    print(\"Contains a digit\")\n",
        "else:\n",
        "    print(\"Does not contain a digit\")\n"
      ]
    },
    {
      "cell_type": "markdown",
      "metadata": {
        "id": "a35f5c5c"
      },
      "source": [
        "Question\n",
        "\n",
        "Simulate a login: If username = `admin` and password = `1234`, print `Login successful`, else print `Login failed`."
      ]
    },
    {
      "cell_type": "code",
      "execution_count": 21,
      "metadata": {
        "id": "77afee40",
        "colab": {
          "base_uri": "https://localhost:8080/"
        },
        "outputId": "513438fd-f671-4c9e-918d-51be16593195"
      },
      "outputs": [
        {
          "output_type": "stream",
          "name": "stdout",
          "text": [
            "Enter username: ali\n",
            "Enter password: 567\n",
            "Login failed\n"
          ]
        }
      ],
      "source": [
        "### =====                ==== ####\n",
        "###       YOUR CODE HERE      ####\n",
        "### =====                ==== ####\n",
        "username = input(\"Enter username: \")\n",
        "password = input(\"Enter password: \")\n",
        "\n",
        "# Check credentials\n",
        "if username == \"admin\" and password == \"1234\":\n",
        "    print(\"Login successful\")\n",
        "else:\n",
        "    print(\"Login failed\")"
      ]
    },
    {
      "cell_type": "markdown",
      "metadata": {
        "id": "9826bc2d"
      },
      "source": [
        "Question\n",
        "\n",
        "Discount system: If purchase amount > 100, apply a 10% discount and print final price, otherwise print the original price."
      ]
    },
    {
      "cell_type": "code",
      "execution_count": 25,
      "metadata": {
        "id": "af5b86f4",
        "colab": {
          "base_uri": "https://localhost:8080/"
        },
        "outputId": "4a710784-e0c6-401b-a892-8ab75c6ad96b"
      },
      "outputs": [
        {
          "output_type": "stream",
          "name": "stdout",
          "text": [
            "Enter the price:33\n",
            "The original price is: 33.0\n"
          ]
        }
      ],
      "source": [
        "### =====                ==== ####\n",
        "###       YOUR CODE HERE      ####\n",
        "### =====                ==== ####\n",
        "purchase_amout= float(input(\"Enter the price:\"))\n",
        "if purchase_amout>100:\n",
        "  final_price=purchase_amout*90/100\n",
        "  print(\"The final price is:\", final_price)\n",
        "else:\n",
        "  print(\"The original price is:\",purchase_amout)"
      ]
    },
    {
      "cell_type": "markdown",
      "metadata": {
        "id": "433e9296"
      },
      "source": [
        "Question\n",
        "\n",
        "Ask for three numbers. Check if they can form a triangle (triangle inequality: sum of any two sides > the third)."
      ]
    },
    {
      "cell_type": "code",
      "execution_count": 26,
      "metadata": {
        "id": "00bdd05f",
        "colab": {
          "base_uri": "https://localhost:8080/"
        },
        "outputId": "78250959-7127-4d5d-9ffb-71584a6225c6"
      },
      "outputs": [
        {
          "output_type": "stream",
          "name": "stdout",
          "text": [
            "Enter the first number: 2\n",
            "Enter the second number: 3\n",
            "Enter the third number:4\n",
            "a,b, and c form a triangle\n"
          ]
        }
      ],
      "source": [
        "### =====                ==== ####\n",
        "###       YOUR CODE HERE      ####\n",
        "### =====                ==== ####\n",
        "a = float(input(\"Enter the first number: \"))\n",
        "b = float(input(\"Enter the second number: \"))\n",
        "c = float(input(\"Enter the third number:\"))\n",
        "if (a+b)>c and (a+c)>b and (b+c)>a:\n",
        "  print (\"a,b, and c form a triangle\")\n",
        "else:\n",
        "  print(\"a,b, and c do not form a triangle\")"
      ]
    },
    {
      "cell_type": "markdown",
      "metadata": {
        "id": "383d204f"
      },
      "source": [
        "Question\n",
        "\n",
        "Ask for a number. Print `Fizz` if divisible by 3, `Buzz` if divisible by 5, and `FizzBuzz` if divisible by both.\n",
        "\n",
        "You can check // and % operators."
      ]
    },
    {
      "cell_type": "code",
      "execution_count": 28,
      "metadata": {
        "id": "f32f52b8",
        "colab": {
          "base_uri": "https://localhost:8080/"
        },
        "outputId": "9025aafd-21b7-4ea6-d425-50a37ff663f3"
      },
      "outputs": [
        {
          "output_type": "stream",
          "name": "stdout",
          "text": [
            "Enter a number:15\n",
            "FizzBuzz\n"
          ]
        }
      ],
      "source": [
        "### =====                ==== ####\n",
        "###       YOUR CODE HERE      ####\n",
        "### =====                ==== ####\n",
        "n= int(input(\"Enter a number:\"))\n",
        "if n%3 == 0 and n%5 == 0:\n",
        "  print (\"FizzBuzz\")\n",
        "elif n%3 == 0:\n",
        "  print(\"Fizz\")\n",
        "elif n%5 ==0:\n",
        "  print(\"Buzz\")\n",
        "else:\n",
        "  print(\"num\")"
      ]
    },
    {
      "cell_type": "markdown",
      "metadata": {
        "id": "fcfdd5c3"
      },
      "source": [
        "Question\n",
        "\n",
        "Rock-paper-scissors: Given two players' choices (strings), print who wins or if it's a tie."
      ]
    },
    {
      "cell_type": "code",
      "execution_count": 30,
      "metadata": {
        "id": "359a0f81",
        "colab": {
          "base_uri": "https://localhost:8080/"
        },
        "outputId": "d660cfdd-dcc1-48f3-f548-4d55136fec25"
      },
      "outputs": [
        {
          "output_type": "stream",
          "name": "stdout",
          "text": [
            "Player 1, enter rock, paper, or scissors: rock\n",
            "Player 2, enter rock, paper, or scissors: scissors\n",
            "Player 1 wins!\n"
          ]
        }
      ],
      "source": [
        "### =====                ==== ####\n",
        "###       YOUR CODE HERE      ####\n",
        "### =====                ==== ####\n",
        "player1 = input(\"Player 1, enter rock, paper, or scissors: \").lower()\n",
        "player2 = input(\"Player 2, enter rock, paper, or scissors: \").lower()\n",
        "\n",
        "# Determine the winner\n",
        "if player1 == player2:\n",
        "    print(\"It's a tie!\")\n",
        "elif (player1 == \"rock\" and player2 == \"scissors\") or \\\n",
        "     (player1 == \"scissors\" and player2 == \"paper\") or \\\n",
        "     (player1 == \"paper\" and player2 == \"rock\"):\n",
        "    print(\"Player 1 wins!\")\n",
        "else:\n",
        "    print(\"Player 2 wins!\")"
      ]
    },
    {
      "cell_type": "markdown",
      "metadata": {
        "id": "2b27d07d"
      },
      "source": [
        "Question\n",
        "\n",
        "Ask for coordinates (x, y). Print whether the point is inside the square defined by 0 ≤ x ≤ 10 and 0 ≤ y ≤ 10."
      ]
    },
    {
      "cell_type": "code",
      "execution_count": 31,
      "metadata": {
        "id": "cc4ed330",
        "colab": {
          "base_uri": "https://localhost:8080/"
        },
        "outputId": "112093ed-1620-4d88-e087-8da0eb19f00d"
      },
      "outputs": [
        {
          "output_type": "stream",
          "name": "stdout",
          "text": [
            "Enter x-coordinate: 5\n",
            "Enter y-coordinate: 4\n",
            "The point is inside the square.\n"
          ]
        }
      ],
      "source": [
        "### =====                ==== ####\n",
        "###       YOUR CODE HERE      ####\n",
        "### =====                ==== ####\n",
        "x = float(input(\"Enter x-coordinate: \"))\n",
        "y = float(input(\"Enter y-coordinate: \"))\n",
        "\n",
        "# Check if the point is inside the square\n",
        "if 0 <= x <= 10 and 0 <= y <= 10:\n",
        "    print(\"The point is inside the square.\")\n",
        "else:\n",
        "    print(\"The point is outside the square.\")"
      ]
    },
    {
      "cell_type": "markdown",
      "metadata": {
        "id": "aab02a2c"
      },
      "source": [
        "Question\n",
        "\n",
        "Advanced: Given four numbers, print them in ascending order using only conditionals (no loops, no functions)."
      ]
    },
    {
      "cell_type": "code",
      "execution_count": 32,
      "metadata": {
        "id": "0bff9924",
        "colab": {
          "base_uri": "https://localhost:8080/"
        },
        "outputId": "a65aa956-40a6-47cb-ab99-1e96f66e36a2"
      },
      "outputs": [
        {
          "output_type": "stream",
          "name": "stdout",
          "text": [
            "Enter the first number: 1\n",
            "Enter the second number: 5\n",
            "Enter the third number: 7\n",
            "Enter the fourth number: 2\n",
            "Numbers in ascending order: 1.0 2.0 5.0 7.0\n"
          ]
        }
      ],
      "source": [
        "### =====                ==== ####\n",
        "###       YOUR CODE HERE      ####\n",
        "### =====                ==== ####\n",
        "a = float(input(\"Enter the first number: \"))\n",
        "b = float(input(\"Enter the second number: \"))\n",
        "c = float(input(\"Enter the third number: \"))\n",
        "d = float(input(\"Enter the fourth number: \"))\n",
        "\n",
        "# Swap numbers to sort them in ascending order\n",
        "if a > b: a, b = b, a\n",
        "if a > c: a, c = c, a\n",
        "if a > d: a, d = d, a\n",
        "if b > c: b, c = c, b\n",
        "if b > d: b, d = d, b\n",
        "if c > d: c, d = d, c\n",
        "\n",
        "print(\"Numbers in ascending order:\", a, b, c, d)"
      ]
    },
    {
      "cell_type": "markdown",
      "metadata": {
        "id": "db7d034c"
      },
      "source": [
        "Question\n",
        "\n",
        "A bank wants to decide if a customer gets a loan. The decision depends on the applicant’s **monthly income** and **credit score**. High income and a strong credit score make approval easy, but lower scores need further review, and low income leads to a rejection. Write a program that prints the decision."
      ]
    },
    {
      "cell_type": "code",
      "execution_count": 1,
      "metadata": {
        "id": "95c25d29",
        "colab": {
          "base_uri": "https://localhost:8080/"
        },
        "outputId": "80a4bee3-450d-4aba-cb83-9c01b89a9343"
      },
      "outputs": [
        {
          "output_type": "stream",
          "name": "stdout",
          "text": [
            "Enter applicant's monthly income: 4000\n",
            "Enter applicant's credit score: 650\n",
            "Decision: Further Review Needed\n"
          ]
        }
      ],
      "source": [
        "### =====                ==== ####\n",
        "###       YOUR CODE HERE      ####\n",
        "### =====                ==== ####\n",
        "income = float(input(\"Enter applicant's monthly income: \"))\n",
        "credit_score = int(input(\"Enter applicant's credit score: \"))\n",
        "\n",
        "# Decision logic\n",
        "if income >= 5000 and credit_score >= 700:\n",
        "    decision = \"Loan Approved\"\n",
        "elif income >= 3000 and credit_score >= 600:\n",
        "    decision = \"Further Review Needed\"\n",
        "else:\n",
        "    decision = \"Loan Rejected\"\n",
        "\n",
        "# Print result\n",
        "print(\"Decision:\", decision)"
      ]
    },
    {
      "cell_type": "markdown",
      "metadata": {
        "id": "bdd078db"
      },
      "source": [
        "Question\n",
        "\n",
        "An e-commerce website applies different shipping fees depending on the **order amount** and whether the customer has a **premium membership**. Sometimes shipping is free, sometimes it has a small fee, and sometimes it’s more expensive. Write a program that determines the correct shipping option."
      ]
    },
    {
      "cell_type": "code",
      "execution_count": 2,
      "metadata": {
        "id": "b5e06d6f",
        "colab": {
          "base_uri": "https://localhost:8080/"
        },
        "outputId": "4e444202-0882-444c-f427-b9f6b90d6d52"
      },
      "outputs": [
        {
          "output_type": "stream",
          "name": "stdout",
          "text": [
            "Enter the order amount: 70\n",
            "Does the customer have a premium membership? (yes/no): yes\n",
            "Shipping is FREE.\n"
          ]
        }
      ],
      "source": [
        "### =====                ==== ####\n",
        "###       YOUR CODE HERE      ####\n",
        "### =====                ==== ####\n",
        "# Shipping fee calculator\n",
        "\n",
        "# Get user input\n",
        "order_amount = float(input(\"Enter the order amount: \"))\n",
        "is_premium = input(\"Does the customer have a premium membership? (yes/no): \").strip().lower()\n",
        "\n",
        "# Determine shipping fee\n",
        "if is_premium == \"yes\":\n",
        "    if order_amount >= 50:\n",
        "        shipping_fee = 0\n",
        "    else:\n",
        "        shipping_fee = 5\n",
        "else:\n",
        "    if order_amount >= 100:\n",
        "        shipping_fee = 0\n",
        "    elif order_amount >= 50:\n",
        "        shipping_fee = 10\n",
        "    else:\n",
        "        shipping_fee = 15\n",
        "\n",
        "# Display the result\n",
        "if shipping_fee == 0:\n",
        "    print(\"Shipping is FREE.\")\n",
        "else:\n",
        "    print(f\"Shipping fee: ${shipping_fee:.2f}\")\n"
      ]
    },
    {
      "cell_type": "markdown",
      "metadata": {
        "id": "843b13b4"
      },
      "source": [
        "Question\n",
        "\n",
        "An insurance company adjusts premiums depending on the **driver’s age** and the **type of car** they own. Younger drivers with sports cars are charged the most, while older drivers with regular cars pay less. Write a program that classifies the premium level."
      ]
    },
    {
      "cell_type": "code",
      "execution_count": 3,
      "metadata": {
        "id": "671d2319",
        "colab": {
          "base_uri": "https://localhost:8080/"
        },
        "outputId": "20b19830-2f7d-4c46-e29e-2725847e581a"
      },
      "outputs": [
        {
          "output_type": "stream",
          "name": "stdout",
          "text": [
            "Enter driver's age: 33\n",
            "Enter car type (sports/regular): sports\n",
            "Insurance Premium Level: Medium Premium\n"
          ]
        }
      ],
      "source": [
        "### =====                ==== ####\n",
        "###       YOUR CODE HERE      ####\n",
        "### =====                ==== ####\n",
        "# Insurance premium classifier\n",
        "\n",
        "# Get user input\n",
        "age = int(input(\"Enter driver's age: \"))\n",
        "car_type = input(\"Enter car type (sports/regular): \").strip().lower()\n",
        "\n",
        "# Determine premium level\n",
        "if age < 25 and car_type == \"sports\":\n",
        "    premium = \"High Premium\"\n",
        "elif age < 25 and car_type == \"regular\":\n",
        "    premium = \"Medium Premium\"\n",
        "elif age >= 25 and car_type == \"sports\":\n",
        "    premium = \"Medium Premium\"\n",
        "else:\n",
        "    premium = \"Low Premium\"\n",
        "\n",
        "# Display the result\n",
        "print(\"Insurance Premium Level:\", premium)\n",
        "\n"
      ]
    },
    {
      "cell_type": "markdown",
      "metadata": {
        "id": "4c76feab"
      },
      "source": [
        "Question\n",
        "\n",
        "A company awards bonuses based on two factors: the **employee’s performance rating** and their **years of service**. Outstanding employees with longer tenure get the highest bonus, while lower performance or short service results in smaller bonuses—or none at all. Write a program that outputs the bonus category."
      ]
    },
    {
      "cell_type": "code",
      "execution_count": 4,
      "metadata": {
        "id": "3028af1f",
        "colab": {
          "base_uri": "https://localhost:8080/"
        },
        "outputId": "eccc5b66-6687-4f83-da2d-ec7555a2477b"
      },
      "outputs": [
        {
          "output_type": "stream",
          "name": "stdout",
          "text": [
            "Enter performance rating (Outstanding/Good/Average/Poor): good\n",
            "Enter years of service: 12\n",
            "Bonus Category: Medium Bonus\n"
          ]
        }
      ],
      "source": [
        "### =====                ==== ####\n",
        "###       YOUR CODE HERE      ####\n",
        "### =====                ==== ####\n",
        "# Bonus category calculator\n",
        "\n",
        "# Get user input\n",
        "rating = input(\"Enter performance rating (Outstanding/Good/Average/Poor): \").strip().lower()\n",
        "years = int(input(\"Enter years of service: \"))\n",
        "\n",
        "# Determine bonus category\n",
        "if rating == \"outstanding\" and years >= 10:\n",
        "    bonus = \"High Bonus\"\n",
        "elif rating == \"outstanding\" and years < 10:\n",
        "    bonus = \"Medium Bonus\"\n",
        "elif rating == \"good\" and years >= 5:\n",
        "    bonus = \"Medium Bonus\"\n",
        "elif rating in [\"good\", \"average\"] and years < 5:\n",
        "    bonus = \"Low Bonus\"\n",
        "else:\n",
        "    bonus = \"No Bonus\"\n",
        "\n",
        "# Display the result\n",
        "print(\"Bonus Category:\", bonus)\n",
        "\n"
      ]
    },
    {
      "cell_type": "markdown",
      "metadata": {
        "id": "b12f8569"
      },
      "source": [
        "Question\n",
        "\n",
        "A university looks at two things for admissions: the student’s **GPA** and whether they have **extracurricular involvement**. Students with very strong GPA may get a scholarship, others may be admitted normally or waitlisted, and weaker GPA leads to rejection. Write a program that decides the outcome."
      ]
    },
    {
      "cell_type": "code",
      "execution_count": 5,
      "metadata": {
        "id": "965f3af7",
        "colab": {
          "base_uri": "https://localhost:8080/"
        },
        "outputId": "9f0d7234-fa06-4da3-a49d-d6ababffd899"
      },
      "outputs": [
        {
          "output_type": "stream",
          "name": "stdout",
          "text": [
            "Enter student's GPA (0.0 - 4.0): 3.8\n",
            "Does the student have extracurricular involvement? (yes/no): no\n",
            "Admission Decision: Admitted with Scholarship\n"
          ]
        }
      ],
      "source": [
        "### =====                ==== ####\n",
        "###       YOUR CODE HERE      ####\n",
        "### =====                ==== ####\n",
        "# University admissions decision program\n",
        "\n",
        "# Get user input\n",
        "gpa = float(input(\"Enter student's GPA (0.0 - 4.0): \"))\n",
        "has_extracurricular = input(\"Does the student have extracurricular involvement? (yes/no): \").strip().lower()\n",
        "\n",
        "# Determine admission outcome\n",
        "if gpa >= 3.8:\n",
        "    outcome = \"Admitted with Scholarship\"\n",
        "elif gpa >= 3.0 and has_extracurricular == \"yes\":\n",
        "    outcome = \"Admitted\"\n",
        "elif gpa >= 2.5:\n",
        "    outcome = \"Waitlisted\"\n",
        "else:\n",
        "    outcome = \"Rejected\"\n",
        "\n",
        "# Display the result\n",
        "print(\"Admission Decision:\", outcome)\n"
      ]
    }
  ]
}