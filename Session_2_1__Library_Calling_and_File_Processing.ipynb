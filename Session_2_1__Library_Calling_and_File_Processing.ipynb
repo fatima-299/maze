{
  "cells": [
    {
      "cell_type": "markdown",
      "metadata": {
        "id": "view-in-github",
        "colab_type": "text"
      },
      "source": [
        "<a href=\"https://colab.research.google.com/github/fatima-299/maze/blob/main/Session_2_1__Library_Calling_and_File_Processing.ipynb\" target=\"_parent\"><img src=\"https://colab.research.google.com/assets/colab-badge.svg\" alt=\"Open In Colab\"/></a>"
      ]
    },
    {
      "cell_type": "markdown",
      "id": "d2685f70",
      "metadata": {
        "id": "d2685f70"
      },
      "source": [
        "# Library Calling and File Processing"
      ]
    },
    {
      "cell_type": "markdown",
      "id": "d235c1c7",
      "metadata": {
        "id": "d235c1c7"
      },
      "source": [
        "### Libraries in Python\n",
        "\n",
        "Python comes with many built-in features, but sometimes you need extra functionality. This is where **libraries** (also called modules) come in. Libraries are collections of code written by others that you can use in your programs."
      ]
    },
    {
      "cell_type": "markdown",
      "id": "2c383c38",
      "metadata": {
        "id": "2c383c38"
      },
      "source": [
        "### Importing Libraries\n",
        "\n",
        "To use a library, you must import it with the `import` statement. For example:\n",
        "\n",
        "```python\n",
        "import math\n",
        "print(math.sqrt(16))\n",
        "```"
      ]
    },
    {
      "cell_type": "markdown",
      "id": "4def615b",
      "metadata": {
        "id": "4def615b"
      },
      "source": [
        "### Importing Specific Functions\n",
        "\n",
        "You can also import only certain parts of a library using `from ... import ...`. For example:\n",
        "\n",
        "```python\n",
        "from math import pi, sqrt\n",
        "print(pi)\n",
        "print(sqrt(25))\n",
        "```"
      ]
    },
    {
      "cell_type": "markdown",
      "id": "3a803229",
      "metadata": {
        "id": "3a803229"
      },
      "source": [
        "### Aliases for Libraries\n",
        "\n",
        "You can give a library an alias (a shorter name) using `as`. This is common for libraries like NumPy (`import numpy as np`). Example:\n",
        "\n",
        "```python\n",
        "import math as m\n",
        "print(m.cos(0))\n",
        "```"
      ]
    },
    {
      "cell_type": "markdown",
      "id": "dca3bfa2",
      "metadata": {
        "id": "dca3bfa2"
      },
      "source": [
        "### Built-in Libraries\n",
        "\n",
        "Python includes many useful built-in libraries, such as `math`, `random`, and `datetime`. These provide functions for mathematical operations, random numbers, and working with dates and times."
      ]
    },
    {
      "cell_type": "markdown",
      "id": "75b31d9d",
      "metadata": {
        "id": "75b31d9d"
      },
      "source": [
        "### File Processing in Python\n",
        "\n",
        "Python allows you to read from and write to files. This is useful for saving data or loading data from outside sources."
      ]
    },
    {
      "cell_type": "markdown",
      "id": "ba8227ef",
      "metadata": {
        "id": "ba8227ef"
      },
      "source": [
        "### Opening Files\n",
        "\n",
        "To open a file, use the `open()` function. It requires at least a filename and a mode (`'r'` for read, `'w'` for write, `'a'` for append). Example:\n",
        "\n",
        "```python\n",
        "f = open('example.txt', 'r')\n",
        "```"
      ]
    },
    {
      "cell_type": "markdown",
      "id": "c16984a4",
      "metadata": {
        "id": "c16984a4"
      },
      "source": [
        "### Reading Files\n",
        "\n",
        "You can read the entire file with `.read()`, or one line at a time with `.readline()` or `.readlines()`. Example:\n",
        "\n",
        "```python\n",
        "f = open('example.txt', 'r')\n",
        "content = f.read()\n",
        "print(content)\n",
        "f.close()\n",
        "```"
      ]
    },
    {
      "cell_type": "markdown",
      "id": "a3373187",
      "metadata": {
        "id": "a3373187"
      },
      "source": [
        "### Writing Files\n",
        "\n",
        "When opening a file in `'w'` mode, you can write text into it using `.write()`. Be careful: `'w'` erases the file first. Example:\n",
        "\n",
        "```python\n",
        "f = open('output.txt', 'w')\n",
        "f.write('Hello, file!')\n",
        "f.close()\n",
        "```"
      ]
    },
    {
      "cell_type": "markdown",
      "id": "ba74a5bb",
      "metadata": {
        "id": "ba74a5bb"
      },
      "source": [
        "### Appending to Files\n",
        "\n",
        "If you want to add to an existing file without erasing it, use `'a'` mode (append). Example:\n",
        "\n",
        "```python\n",
        "f = open('output.txt', 'a')\n",
        "f.write('\\nNew line added.')\n",
        "f.close()\n",
        "```"
      ]
    },
    {
      "cell_type": "markdown",
      "id": "e8a25370",
      "metadata": {
        "id": "e8a25370"
      },
      "source": [
        "### Closing Files\n",
        "\n",
        "Always close a file after you finish with it, using `.close()`. This ensures that changes are saved and resources are freed."
      ]
    },
    {
      "cell_type": "markdown",
      "id": "f697ab33",
      "metadata": {
        "id": "f697ab33"
      },
      "source": [
        "### With Statement\n",
        "\n",
        "A better way to handle files is with the `with` statement. It automatically closes the file for you:\n",
        "\n",
        "```python\n",
        "with open('example.txt', 'r') as f:\n",
        "    data = f.read()\n",
        "    print(data)\n",
        "```"
      ]
    },
    {
      "cell_type": "markdown",
      "id": "7bb04f19",
      "metadata": {
        "id": "7bb04f19"
      },
      "source": [
        "### Reading by Lines\n",
        "\n",
        "When using `with`, you can loop through each line in a file:\n",
        "\n",
        "```python\n",
        "with open('example.txt', 'r') as f:\n",
        "    for line in f:\n",
        "        print(line)\n",
        "```"
      ]
    },
    {
      "cell_type": "markdown",
      "id": "feed8c77",
      "metadata": {
        "id": "feed8c77"
      },
      "source": [
        "### Handling Nonexistent Files\n",
        "\n",
        "If you try to open a file that does not exist, Python raises an error. This is something we will handle later with exceptions, but for now just remember that the file must exist for reading."
      ]
    },
    {
      "cell_type": "markdown",
      "id": "f23aad4e",
      "metadata": {
        "id": "f23aad4e"
      },
      "source": [
        "### Writing Lists of Strings\n",
        "\n",
        "The method `.writelines()` can write multiple strings at once:\n",
        "\n",
        "```python\n",
        "lines = ['First line\\n', 'Second line\\n']\n",
        "with open('example.txt', 'w') as f:\n",
        "    f.writelines(lines)\n",
        "```"
      ]
    },
    {
      "cell_type": "markdown",
      "id": "0410d56c",
      "metadata": {
        "id": "0410d56c"
      },
      "source": [
        "### File Modes Summary\n",
        "\n",
        "The most common file modes are:\n",
        "- `'r'`: read (file must exist)\n",
        "- `'w'`: write (creates or overwrites file)\n",
        "- `'a'`: append (adds to end of file)\n",
        "- `'r+'`: read and write"
      ]
    },
    {
      "cell_type": "markdown",
      "id": "a880efbe",
      "metadata": {
        "id": "a880efbe"
      },
      "source": [
        "### Working with Paths\n",
        "\n",
        "You can open files with relative or absolute paths. Relative paths are based on your current working directory. Absolute paths specify the full location on your system."
      ]
    },
    {
      "cell_type": "markdown",
      "id": "f95204ca",
      "metadata": {
        "id": "f95204ca"
      },
      "source": [
        "### Practical Use\n",
        "\n",
        "File processing is often combined with libraries: for example, reading a `.csv` file and then analyzing it with a data analysis library. For now, we will focus only on basic text file operations."
      ]
    },
    {
      "cell_type": "markdown",
      "id": "a94017aa",
      "metadata": {
        "id": "a94017aa"
      },
      "source": [
        "### Strings and Files\n",
        "\n",
        "Remember that when you read from a file, the content is always returned as a string. You can then split or process this string as needed."
      ]
    },
    {
      "cell_type": "markdown",
      "id": "f7ac1320",
      "metadata": {
        "id": "f7ac1320"
      },
      "source": [
        "Question\n",
        "\n",
        "Import the `math` library and print the square root of 81."
      ]
    },
    {
      "cell_type": "code",
      "execution_count": 61,
      "id": "52b5f8da",
      "metadata": {
        "colab": {
          "base_uri": "https://localhost:8080/"
        },
        "id": "52b5f8da",
        "outputId": "a81cffc6-9e95-47f7-ea81-8b8945fb2994"
      },
      "outputs": [
        {
          "output_type": "stream",
          "name": "stdout",
          "text": [
            "9.0\n"
          ]
        }
      ],
      "source": [
        "# YOUR CODE HERE\n",
        "import math\n",
        "print(math.sqrt(81))"
      ]
    },
    {
      "cell_type": "markdown",
      "id": "2cd67e88",
      "metadata": {
        "id": "2cd67e88"
      },
      "source": [
        "Question\n",
        "\n",
        "From the `math` library, import only the constant `pi` and print it."
      ]
    },
    {
      "cell_type": "code",
      "execution_count": 62,
      "id": "2d8034c5",
      "metadata": {
        "colab": {
          "base_uri": "https://localhost:8080/"
        },
        "id": "2d8034c5",
        "outputId": "af1bf6a8-e81e-412b-89d2-2fe270831bf0"
      },
      "outputs": [
        {
          "output_type": "stream",
          "name": "stdout",
          "text": [
            "3.141592653589793\n"
          ]
        }
      ],
      "source": [
        "# YOUR CODE HERE\n",
        "from math import pi\n",
        "print (pi)"
      ]
    },
    {
      "cell_type": "markdown",
      "id": "b4dcd18e",
      "metadata": {
        "id": "b4dcd18e"
      },
      "source": [
        "Question\n",
        "\n",
        "Import the `random` library and generate a random integer between 1 and 10."
      ]
    },
    {
      "cell_type": "code",
      "execution_count": 63,
      "id": "df67f7a5",
      "metadata": {
        "id": "df67f7a5"
      },
      "outputs": [],
      "source": [
        "# YOUR CODE HERE\n",
        "import random\n",
        "rand_num= random.randint"
      ]
    },
    {
      "cell_type": "markdown",
      "id": "ced531df",
      "metadata": {
        "id": "ced531df"
      },
      "source": [
        "Question\n",
        "\n",
        "Use an alias `rd` for the `random` library and generate a random float between 0 and 1."
      ]
    },
    {
      "cell_type": "code",
      "execution_count": 64,
      "id": "8919b8c5",
      "metadata": {
        "colab": {
          "base_uri": "https://localhost:8080/"
        },
        "id": "8919b8c5",
        "outputId": "ba09c863-7933-4e71-8498-37eb093f6a0e"
      },
      "outputs": [
        {
          "output_type": "stream",
          "name": "stdout",
          "text": [
            "0.7001917557252199\n"
          ]
        }
      ],
      "source": [
        "# YOUR CODE HERE\n",
        "import random as rd\n",
        "rand_float = rd.random()\n",
        "\n",
        "print(rand_float)"
      ]
    },
    {
      "cell_type": "markdown",
      "id": "290d7c39",
      "metadata": {
        "id": "290d7c39"
      },
      "source": [
        "Question\n",
        "\n",
        "Import the `datetime` library and print today's date."
      ]
    },
    {
      "cell_type": "code",
      "execution_count": 65,
      "id": "dfde34e5",
      "metadata": {
        "colab": {
          "base_uri": "https://localhost:8080/"
        },
        "id": "dfde34e5",
        "outputId": "f45c2ca9-f3c5-43ec-ae54-ca87b5f75c41"
      },
      "outputs": [
        {
          "output_type": "stream",
          "name": "stdout",
          "text": [
            "Today's date is: 2025-10-14\n"
          ]
        }
      ],
      "source": [
        "# YOUR CODE HERE\n",
        "import datetime\n",
        "\n",
        "# Get today's date\n",
        "today = datetime.date.today()\n",
        "\n",
        "print(\"Today's date is:\", today)"
      ]
    },
    {
      "cell_type": "markdown",
      "id": "2a455588",
      "metadata": {
        "id": "2a455588"
      },
      "source": [
        "Question\n",
        "\n",
        "Open a new file called `test.txt` in write mode and write the sentence: `Python is fun!`."
      ]
    },
    {
      "cell_type": "code",
      "execution_count": 66,
      "id": "911ab3e5",
      "metadata": {
        "id": "911ab3e5"
      },
      "outputs": [],
      "source": [
        "# YOUR CODE HERE\n",
        "f = open('test.txt', 'w')\n",
        "f.write('Python is fun!')\n",
        "f.close()"
      ]
    },
    {
      "cell_type": "markdown",
      "id": "662fcd69",
      "metadata": {
        "id": "662fcd69"
      },
      "source": [
        "Question\n",
        "\n",
        "Open the file `test.txt` in read mode and display its contents."
      ]
    },
    {
      "cell_type": "code",
      "execution_count": 67,
      "id": "5101a49c",
      "metadata": {
        "colab": {
          "base_uri": "https://localhost:8080/"
        },
        "id": "5101a49c",
        "outputId": "a91fbe6b-7b1f-4e91-c7f3-666bbb9b6ee1"
      },
      "outputs": [
        {
          "output_type": "stream",
          "name": "stdout",
          "text": [
            "Python is fun!\n"
          ]
        }
      ],
      "source": [
        "# YOUR CODE HERE\n",
        "f = open('test.txt', 'r')\n",
        "content = f.read()\n",
        "print(content)\n",
        "f.close()"
      ]
    },
    {
      "cell_type": "markdown",
      "id": "8c4c872e",
      "metadata": {
        "id": "8c4c872e"
      },
      "source": [
        "Question\n",
        "\n",
        "Append a new line `I am learning file handling.` to `test.txt`."
      ]
    },
    {
      "cell_type": "code",
      "execution_count": 68,
      "id": "d3e3b2cc",
      "metadata": {
        "id": "d3e3b2cc"
      },
      "outputs": [],
      "source": [
        "# YOUR CODE HERE\n",
        "f = open('test.txt','a')\n",
        "f.write(' \\n I am learning file handling')\n",
        "f.close()"
      ]
    },
    {
      "cell_type": "markdown",
      "id": "118d55f7",
      "metadata": {
        "id": "118d55f7"
      },
      "source": [
        "Question\n",
        "\n",
        "Read `test.txt` line by line and print each line separately."
      ]
    },
    {
      "cell_type": "code",
      "execution_count": 69,
      "id": "7953cfa2",
      "metadata": {
        "colab": {
          "base_uri": "https://localhost:8080/"
        },
        "id": "7953cfa2",
        "outputId": "cd3160e6-9310-4dec-90a5-1552513599e3"
      },
      "outputs": [
        {
          "output_type": "stream",
          "name": "stdout",
          "text": [
            "Python is fun! \n",
            " I am learning file handling\n"
          ]
        }
      ],
      "source": [
        "# YOUR CODE HERE\n",
        "with open('test.txt', 'r') as f:\n",
        "  data = f.read()\n",
        "  print(data)"
      ]
    },
    {
      "cell_type": "markdown",
      "id": "91e2544c",
      "metadata": {
        "id": "91e2544c"
      },
      "source": [
        "Question\n",
        "\n",
        "Use a `with` block to open `test.txt` and read its contents safely."
      ]
    },
    {
      "cell_type": "code",
      "execution_count": 70,
      "id": "8dc2e8c4",
      "metadata": {
        "colab": {
          "base_uri": "https://localhost:8080/"
        },
        "id": "8dc2e8c4",
        "outputId": "facd9b31-a458-4e45-fd27-4a6cc3c16313"
      },
      "outputs": [
        {
          "output_type": "stream",
          "name": "stdout",
          "text": [
            "Python is fun! \n",
            " I am learning file handling\n"
          ]
        }
      ],
      "source": [
        "# YOUR CODE HERE\n",
        "with open('test.txt', 'r') as f:\n",
        "  data = f.read()\n",
        "  print(data)"
      ]
    },
    {
      "cell_type": "markdown",
      "id": "b9350e02",
      "metadata": {
        "id": "b9350e02"
      },
      "source": [
        "Question\n",
        "\n",
        "Write a list of three sentences to a file `list.txt` using `.writelines()`."
      ]
    },
    {
      "cell_type": "code",
      "execution_count": 71,
      "id": "719ee0ec",
      "metadata": {
        "id": "719ee0ec"
      },
      "outputs": [],
      "source": [
        "# YOUR CODE HERE\n",
        "lines = ['First line\\n', 'Second line\\n','Third line\\n']\n",
        "with open('list.txt', 'w') as f:\n",
        "    f.writelines(lines)"
      ]
    },
    {
      "cell_type": "markdown",
      "id": "fbfb49bd",
      "metadata": {
        "id": "fbfb49bd"
      },
      "source": [
        "Question\n",
        "\n",
        "Open `list.txt` and print the total number of characters in it."
      ]
    },
    {
      "cell_type": "code",
      "execution_count": 72,
      "id": "16725132",
      "metadata": {
        "colab": {
          "base_uri": "https://localhost:8080/"
        },
        "id": "16725132",
        "outputId": "941d05f2-2001-4a1f-d21e-662fc8f34487"
      },
      "outputs": [
        {
          "output_type": "stream",
          "name": "stdout",
          "text": [
            "Total number of characters in the file: 34\n"
          ]
        }
      ],
      "source": [
        "# YOUR CODE HERE\n",
        "with open(\"list.txt\", \"r\") as file:\n",
        "    content = file.read()  # Read the entire content\n",
        "    total_chars = len(content)\n",
        "\n",
        "print(\"Total number of characters in the file:\", total_chars)"
      ]
    },
    {
      "cell_type": "markdown",
      "id": "7166a65f",
      "metadata": {
        "id": "7166a65f"
      },
      "source": [
        "Question\n",
        "\n",
        "Write a program that creates a file `numbers.txt` and writes numbers 1 to 10 (each on a new line)."
      ]
    },
    {
      "cell_type": "code",
      "execution_count": 81,
      "id": "39c5f059",
      "metadata": {
        "colab": {
          "base_uri": "https://localhost:8080/"
        },
        "id": "39c5f059",
        "outputId": "11756ca9-ccd1-4628-8724-d3035e3132d5"
      },
      "outputs": [
        {
          "output_type": "stream",
          "name": "stdout",
          "text": [
            "numbers.txt has been created with numbers 1 to 10.\n"
          ]
        }
      ],
      "source": [
        "# YOUR CODE HERE\n",
        "with open(\"numbers.txt\", \"w\") as file:\n",
        "    for i in range(1, 11):\n",
        "        file.write(str(i) + \"\\n\")  # Write number and newline\n",
        "\n",
        "print(\"numbers.txt has been created with numbers 1 to 10.\")"
      ]
    },
    {
      "cell_type": "markdown",
      "id": "dff50837",
      "metadata": {
        "id": "dff50837"
      },
      "source": [
        "Question\n",
        "\n",
        "Read `numbers.txt` and calculate the sum of the numbers inside it."
      ]
    },
    {
      "cell_type": "code",
      "execution_count": 82,
      "id": "e68668f0",
      "metadata": {
        "colab": {
          "base_uri": "https://localhost:8080/"
        },
        "id": "e68668f0",
        "outputId": "301cb9a9-f3b5-45b9-e3e8-22b64dcb23c0"
      },
      "outputs": [
        {
          "output_type": "stream",
          "name": "stdout",
          "text": [
            "The sum of numbers in numbers.txt is: 55\n"
          ]
        }
      ],
      "source": [
        "# YOUR CODE HERE\n",
        "with open(\"numbers.txt\", \"r\") as file:\n",
        "    total = 0\n",
        "    for line in file:\n",
        "        total += int(line.strip())  # Convert each line to integer and add to total\n",
        "\n",
        "print(\"The sum of numbers in numbers.txt is:\", total)"
      ]
    },
    {
      "cell_type": "markdown",
      "id": "063e549c",
      "metadata": {
        "id": "063e549c"
      },
      "source": [
        "Question\n",
        "\n",
        "Write a program that copies the content of `numbers.txt` into a new file `copy.txt`."
      ]
    },
    {
      "cell_type": "code",
      "execution_count": 83,
      "id": "682f7a62",
      "metadata": {
        "colab": {
          "base_uri": "https://localhost:8080/"
        },
        "id": "682f7a62",
        "outputId": "b365b13d-ee8b-4967-ad7b-888f2aa1ffa1"
      },
      "outputs": [
        {
          "output_type": "stream",
          "name": "stdout",
          "text": [
            "Content of numbers.txt has been copied to copy.txt.\n"
          ]
        }
      ],
      "source": [
        "# YOUR CODE HERE\n",
        "with open(\"numbers.txt\", \"r\") as source_file, open(\"copy.txt\", \"w\") as dest_file:\n",
        "    for line in source_file:\n",
        "        dest_file.write(line)\n",
        "\n",
        "print(\"Content of numbers.txt has been copied to copy.txt.\")"
      ]
    },
    {
      "cell_type": "markdown",
      "id": "1fd7825c",
      "metadata": {
        "id": "1fd7825c"
      },
      "source": [
        "Question\n",
        "\n",
        "Write a program that counts how many lines are in `numbers.txt`."
      ]
    },
    {
      "cell_type": "code",
      "execution_count": 84,
      "id": "6f5a8bec",
      "metadata": {
        "colab": {
          "base_uri": "https://localhost:8080/"
        },
        "id": "6f5a8bec",
        "outputId": "31107f71-69b2-4723-94a7-e3fc5f29e3a7"
      },
      "outputs": [
        {
          "output_type": "stream",
          "name": "stdout",
          "text": [
            "The number of lines in numbers.txt is: 10\n"
          ]
        }
      ],
      "source": [
        "# YOUR CODE HERE\n",
        "with open(\"numbers.txt\", \"r\") as file:\n",
        "    line_count = sum(1 for line in file)  # Count each line\n",
        "\n",
        "print(\"The number of lines in numbers.txt is:\", line_count)"
      ]
    },
    {
      "cell_type": "markdown",
      "id": "02688243",
      "metadata": {
        "id": "02688243"
      },
      "source": [
        "Question\n",
        "\n",
        "Create a program that asks the user for input and writes it to a file `user_input.txt`."
      ]
    },
    {
      "cell_type": "code",
      "execution_count": 85,
      "id": "6229ebd4",
      "metadata": {
        "colab": {
          "base_uri": "https://localhost:8080/"
        },
        "id": "6229ebd4",
        "outputId": "03f36d48-f686-43fa-f50d-0fb7cf164d2b"
      },
      "outputs": [
        {
          "output_type": "stream",
          "name": "stdout",
          "text": [
            "Enter some text: Hello world\n",
            "Your input has been saved to user_input.txt.\n"
          ]
        }
      ],
      "source": [
        "# YOUR CODE HERE\n",
        "user_text = input(\"Enter some text: \")\n",
        "\n",
        "# Open the file in write mode (creates the file if it doesn't exist)\n",
        "with open(\"user_input.txt\", \"w\") as file:\n",
        "    file.write(user_text + \"\\n\")  # Write the input to the file\n",
        "\n",
        "print(\"Your input has been saved to user_input.txt.\")"
      ]
    },
    {
      "cell_type": "markdown",
      "id": "6e4c4797",
      "metadata": {
        "id": "6e4c4797"
      },
      "source": [
        "Question\n",
        "\n",
        "Write a program that checks if `user_input.txt` exists before trying to read it."
      ]
    },
    {
      "cell_type": "code",
      "execution_count": 86,
      "id": "b99ab1a8",
      "metadata": {
        "colab": {
          "base_uri": "https://localhost:8080/"
        },
        "id": "b99ab1a8",
        "outputId": "1e3ef2fe-7de0-4ed2-946a-c94874bc885c"
      },
      "outputs": [
        {
          "output_type": "stream",
          "name": "stdout",
          "text": [
            "Content of user_input.txt:\n",
            "Hello world\n",
            "\n"
          ]
        }
      ],
      "source": [
        "# YOUR CODE HERE\n",
        "import os\n",
        "\n",
        "# Check if the file exists\n",
        "if os.path.exists(\"user_input.txt\"):\n",
        "    # Open and read the file\n",
        "    with open(\"user_input.txt\", \"r\") as file:\n",
        "        content = file.read()\n",
        "    print(\"Content of user_input.txt:\")\n",
        "    print(content)\n",
        "else:\n",
        "    print(\"The file user_input.txt does not exist.\")"
      ]
    },
    {
      "cell_type": "markdown",
      "id": "9740557b",
      "metadata": {
        "id": "9740557b"
      },
      "source": [
        "Question\n",
        "\n",
        "Write a program that reads `list.txt` and prints only lines that contain the letter `a`."
      ]
    },
    {
      "cell_type": "code",
      "execution_count": 87,
      "id": "0f91396a",
      "metadata": {
        "id": "0f91396a"
      },
      "outputs": [],
      "source": [
        "# YOUR CODE HERE\n",
        "with open(\"list.txt\", \"r\") as file:\n",
        "    for line in file:\n",
        "        if 'a' in line:  # Check if 'a' is in the line\n",
        "            print(line.strip())"
      ]
    },
    {
      "cell_type": "markdown",
      "id": "64a94fe2",
      "metadata": {
        "id": "64a94fe2"
      },
      "source": [
        "Question\n",
        "\n",
        "Write a program that reads a file and prints all words in alphabetical order."
      ]
    },
    {
      "cell_type": "code",
      "execution_count": 88,
      "id": "6368693b",
      "metadata": {
        "colab": {
          "base_uri": "https://localhost:8080/"
        },
        "id": "6368693b",
        "outputId": "2f30a4f8-011c-426d-d93c-b9014ca9d3db"
      },
      "outputs": [
        {
          "output_type": "stream",
          "name": "stdout",
          "text": [
            "Words in alphabetical order:\n",
            "First\n",
            "Second\n",
            "Third\n",
            "line\n",
            "line\n",
            "line\n"
          ]
        }
      ],
      "source": [
        "# YOUR CODE HERE\n",
        "with open(\"list.txt\", \"r\") as file:\n",
        "    content = file.read()  # Read the entire content\n",
        "\n",
        "# Split the content into words (separated by whitespace)\n",
        "words = content.split()\n",
        "\n",
        "# Sort the words alphabetically\n",
        "words.sort()\n",
        "\n",
        "# Print the sorted words\n",
        "print(\"Words in alphabetical order:\")\n",
        "for word in words:\n",
        "    print(word)"
      ]
    }
  ],
  "metadata": {
    "language_info": {
      "name": "python"
    },
    "colab": {
      "provenance": [],
      "include_colab_link": true
    },
    "kernelspec": {
      "name": "python3",
      "display_name": "Python 3"
    }
  },
  "nbformat": 4,
  "nbformat_minor": 5
}