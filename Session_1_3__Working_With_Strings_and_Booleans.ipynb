{
  "nbformat": 4,
  "nbformat_minor": 0,
  "metadata": {
    "colab": {
      "provenance": [],
      "collapsed_sections": [
        "xpnGCOLkZy-k",
        "B-zMn_eFtPba"
      ],
      "include_colab_link": true
    },
    "kernelspec": {
      "name": "python3",
      "display_name": "Python 3"
    },
    "language_info": {
      "name": "python"
    }
  },
  "cells": [
    {
      "cell_type": "markdown",
      "metadata": {
        "id": "view-in-github",
        "colab_type": "text"
      },
      "source": [
        "<a href=\"https://colab.research.google.com/github/fatima-299/maze/blob/main/Session_1_3__Working_With_Strings_and_Booleans.ipynb\" target=\"_parent\"><img src=\"https://colab.research.google.com/assets/colab-badge.svg\" alt=\"Open In Colab\"/></a>"
      ]
    },
    {
      "cell_type": "markdown",
      "source": [
        "# Strings and Booleans"
      ],
      "metadata": {
        "id": "R50XXDf1g8JN"
      }
    },
    {
      "cell_type": "markdown",
      "source": [
        "## Strings in Python\n",
        "\n",
        "Strings are one of the most common data types in Python. A string is simply a sequence of characters enclosed in quotes. You can use either single quotes `'...'` or double quotes `\"...\"` or even triple quotes for multiline printing `'''...'''` or equivalently `\"\"\"...\"\"\"`. Both create the same type of object."
      ],
      "metadata": {
        "id": "xpnGCOLkZy-k"
      }
    },
    {
      "cell_type": "code",
      "source": [
        "t1 = 'This is it'\n",
        "t2 = \"This is it\"\n",
        "t3 = \"\"\"This is it\"\"\"\n",
        "t4 = '''This is it'''\n",
        "print(t1)\n",
        "print(t2)\n",
        "print(t3)\n",
        "print(t4)"
      ],
      "metadata": {
        "colab": {
          "base_uri": "https://localhost:8080/"
        },
        "id": "u7PL-snoaE6j",
        "outputId": "de8d8097-cfe7-4a51-9c93-ede9dfa6cbc3"
      },
      "execution_count": null,
      "outputs": [
        {
          "output_type": "stream",
          "name": "stdout",
          "text": [
            "This is it\n",
            "This is it\n",
            "This is it\n",
            "This is it\n"
          ]
        }
      ]
    },
    {
      "cell_type": "code",
      "source": [
        "t_multiple = \"\"\"This\n",
        "is\n",
        "a\n",
        "cool\n",
        "way\n",
        "to\n",
        "see\n",
        "what\n",
        "you\n",
        "get\"\"\"\n",
        "print(t_multiple)"
      ],
      "metadata": {
        "colab": {
          "base_uri": "https://localhost:8080/"
        },
        "id": "U62byt1daqXG",
        "outputId": "4d23aa5e-97c8-4fd6-8357-58cbda4301a7"
      },
      "execution_count": null,
      "outputs": [
        {
          "output_type": "stream",
          "name": "stdout",
          "text": [
            "This\n",
            "is\n",
            "a\n",
            "cool\n",
            "way\n",
            "to\n",
            "see\n",
            "what\n",
            "you\n",
            "get\n"
          ]
        }
      ]
    },
    {
      "cell_type": "markdown",
      "source": [
        "Using double quotes prevents errors when text contains punctuation marks"
      ],
      "metadata": {
        "id": "wOtpZj9haU6o"
      }
    },
    {
      "cell_type": "code",
      "source": [
        "t = \"That's it\"\n",
        "# You can try the version with simple quotes to understand the mess: 'That's it'\n",
        "print(t)"
      ],
      "metadata": {
        "id": "J0O6_OkZacab",
        "colab": {
          "base_uri": "https://localhost:8080/"
        },
        "outputId": "dd36ce04-dd08-4306-eab0-1b12e9759fe2"
      },
      "execution_count": null,
      "outputs": [
        {
          "output_type": "stream",
          "name": "stdout",
          "text": [
            "That's it\n"
          ]
        }
      ]
    },
    {
      "cell_type": "markdown",
      "source": [
        "Strings have a length, which you can measure with the built-in function `len()`. This is useful to know how many characters a word or sentence contains.\n"
      ],
      "metadata": {
        "id": "Y3XKbWJ6bICE"
      }
    },
    {
      "cell_type": "code",
      "source": [
        "len(t)"
      ],
      "metadata": {
        "colab": {
          "base_uri": "https://localhost:8080/"
        },
        "id": "B7a8CILubItu",
        "outputId": "d1ccbb21-f440-4583-8b9f-579f782d108d"
      },
      "execution_count": null,
      "outputs": [
        {
          "output_type": "execute_result",
          "data": {
            "text/plain": [
              "9"
            ]
          },
          "metadata": {},
          "execution_count": 6
        }
      ]
    },
    {
      "cell_type": "markdown",
      "source": [
        "Because strings are sequences, you can access individual characters using indexing. The first character has index `0`, the second has index `1`, and so on. You can also count backwards using negative indexes: `-1` gives you the last character, `-2` the one before it, etc.\n"
      ],
      "metadata": {
        "id": "GdsleQ9ibLi2"
      }
    },
    {
      "cell_type": "code",
      "source": [
        "print(t[0])\n",
        "print(t[1])\n",
        "print(t[-1])"
      ],
      "metadata": {
        "colab": {
          "base_uri": "https://localhost:8080/"
        },
        "id": "TcpHFQ7HbMEo",
        "outputId": "59ca4a18-ea59-4e28-a662-f7aa043dead3"
      },
      "execution_count": null,
      "outputs": [
        {
          "output_type": "stream",
          "name": "stdout",
          "text": [
            "T\n",
            "h\n",
            "t\n"
          ]
        }
      ]
    },
    {
      "cell_type": "markdown",
      "source": [
        "You can extract parts of a string with slicing. The notation `[start:end]` returns the characters between those positions. Leaving out `start` or `end` will default to the beginning or the end of the string. You can also add a step with `[start:end:step]`. A common trick is `[::-1]`, which reverses a string.\n"
      ],
      "metadata": {
        "id": "ok73NmQZbTjd"
      }
    },
    {
      "cell_type": "code",
      "source": [
        "print(t_multiple[:9])\n",
        "print()\n",
        "print(t_multiple[:-20])\n",
        "print()\n",
        "print(t_multiple[15:-16])\n",
        "\n",
        "# Reverse string\n",
        "print()\n",
        "print(t[::-1])\n",
        "print()\n",
        "print(t[2::-1])\n",
        "print(t[:2:-1])"
      ],
      "metadata": {
        "colab": {
          "base_uri": "https://localhost:8080/"
        },
        "id": "MDbo-wdybUAi",
        "outputId": "a070585f-c86a-42af-d615-085d33edfbf9"
      },
      "execution_count": null,
      "outputs": [
        {
          "output_type": "stream",
          "name": "stdout",
          "text": [
            "This\n",
            "is\n",
            "a\n",
            "\n",
            "This\n",
            "is\n",
            "a\n",
            "cool\n",
            "way\n",
            "\n",
            "way\n",
            "to\n",
            "\n",
            "\n",
            "ti s'tahT\n",
            "\n",
            "ahT\n",
            "ti s't\n"
          ]
        }
      ]
    },
    {
      "cell_type": "markdown",
      "source": [
        "Strings can be combined with the `+` operator, which concatenates them. You can also repeat strings with the `*` operator. For example, `\"Hi\" * 3` produces `\"HiHiHi\"`.\n"
      ],
      "metadata": {
        "id": "uRsKAcsHcUXh"
      }
    },
    {
      "cell_type": "code",
      "source": [
        "t1 = \"Hello\"\n",
        "t2 = \"you\"\n",
        "\n",
        "print(t1 + t2)\n",
        "print(t1 + 3*t2)"
      ],
      "metadata": {
        "colab": {
          "base_uri": "https://localhost:8080/"
        },
        "id": "phk__aQGcU9d",
        "outputId": "a5cf782d-d95f-475e-d894-0a6166b3095f"
      },
      "execution_count": null,
      "outputs": [
        {
          "output_type": "stream",
          "name": "stdout",
          "text": [
            "Helloyou\n",
            "Helloyouyouyou\n"
          ]
        }
      ]
    },
    {
      "cell_type": "markdown",
      "source": [
        "Splitting and joining are powerful operations. `.split()` breaks a string into a list of words, while `.join()` does the opposite: it glues a list of strings together using a chosen separator.\n"
      ],
      "metadata": {
        "id": "VZaoNUfhcjoU"
      }
    },
    {
      "cell_type": "code",
      "source": [
        "# Join\n",
        "print(' '.join([t1, t2]))\n",
        "print(', '.join([t1, t2]))"
      ],
      "metadata": {
        "colab": {
          "base_uri": "https://localhost:8080/"
        },
        "id": "842Ik3w_ckMv",
        "outputId": "f2f80939-74be-4424-9e25-50545086b347"
      },
      "execution_count": null,
      "outputs": [
        {
          "output_type": "stream",
          "name": "stdout",
          "text": [
            "Hello you\n",
            "Hello, you\n"
          ]
        }
      ]
    },
    {
      "cell_type": "code",
      "source": [
        "# Split\n",
        "print(t4.split())\n",
        "print(t4.split('i'))\n",
        "print(t_multiple.split())"
      ],
      "metadata": {
        "colab": {
          "base_uri": "https://localhost:8080/"
        },
        "id": "yeWwfoqBc16H",
        "outputId": "619a3b7f-51a7-4be9-d10e-f49c190f0e15"
      },
      "execution_count": null,
      "outputs": [
        {
          "output_type": "stream",
          "name": "stdout",
          "text": [
            "['This', 'is', 'it']\n",
            "['Th', 's ', 's ', 't']\n",
            "['This', 'is', 'a', 'cool', 'way', 'to', 'see', 'what', 'you', 'get']\n"
          ]
        }
      ]
    },
    {
      "cell_type": "markdown",
      "source": [
        "You can test if a substring exists inside a string with the keyword `in`. For example, `\"cat\" in \"concatenate\"` will return `True`. The opposite check is done with `not in`.\n"
      ],
      "metadata": {
        "id": "x0wECC_hdEQu"
      }
    },
    {
      "cell_type": "code",
      "source": [
        "print('this' in t_multiple)\n",
        "print('this' not in t_multiple)"
      ],
      "metadata": {
        "colab": {
          "base_uri": "https://localhost:8080/"
        },
        "id": "0u-d54QjdEyF",
        "outputId": "ee0d239b-cbf0-48ec-d9a5-efe78ab71aa8"
      },
      "execution_count": null,
      "outputs": [
        {
          "output_type": "stream",
          "name": "stdout",
          "text": [
            "False\n",
            "True\n"
          ]
        }
      ]
    },
    {
      "cell_type": "markdown",
      "source": [
        "Python offers many built-in methods for strings. You can change the case with `.lower()` and `.upper()`. You can remove extra spaces with `.strip()`, or only on one side with `.lstrip()` and `.rstrip()`. You can replace parts of a string with `.replace(old, new)`."
      ],
      "metadata": {
        "id": "ajh6Syn_dMu7"
      }
    },
    {
      "cell_type": "code",
      "source": [
        "print(t4.upper())\n",
        "print(t4.lower())\n",
        "\n",
        "t5 = '    woowww    '\n",
        "print(t5.strip())\n",
        "print(t5.lstrip())\n",
        "print(t5.replace(' ', 'a'))\n",
        "print(t5.lstrip().replace(' ', 'a'))\n",
        "print(t5.rstrip().replace(' ', 'a'))"
      ],
      "metadata": {
        "colab": {
          "base_uri": "https://localhost:8080/"
        },
        "id": "xV2gk2kEdNQq",
        "outputId": "85ecd71d-4e9d-49e3-c894-9ac29e919ee7"
      },
      "execution_count": null,
      "outputs": [
        {
          "output_type": "stream",
          "name": "stdout",
          "text": [
            "THIS IS IT\n",
            "this is it\n",
            "woowww\n",
            "woowww    \n",
            "aaaawoowwwaaaa\n",
            "woowwwaaaa\n",
            "aaaawoowww\n"
          ]
        }
      ]
    },
    {
      "cell_type": "markdown",
      "source": [
        "If you need to locate text inside a string, `.find()` and `.index()` return the position of a substring. You can also check beginnings and endings with `.startswith()` and `.endswith()`."
      ],
      "metadata": {
        "id": "59JENuOedvEy"
      }
    },
    {
      "cell_type": "code",
      "source": [
        "print(t4.find('T'))\n",
        "print(t4.find('h'))\n",
        "print(t4.find('i'))\n",
        "print(t4.find('s'))\n",
        "print()\n",
        "print(t4.find('is', ))  # Th(is) contains \"is\"!\n",
        "print(t4.find('it', ))\n",
        "print()\n",
        "print(t4.startswith('it'))\n",
        "print(t4.startswith('this'))  # Case!\n",
        "print(t4.startswith('This'))\n",
        "print(t4.lower().startswith('this'))\n",
        "print()\n",
        "print(t4.endswith('it'))\n"
      ],
      "metadata": {
        "colab": {
          "base_uri": "https://localhost:8080/"
        },
        "id": "tT96LU95dv7n",
        "outputId": "150e4407-df3f-4495-ec49-09ad973e0a34"
      },
      "execution_count": null,
      "outputs": [
        {
          "output_type": "stream",
          "name": "stdout",
          "text": [
            "0\n",
            "1\n",
            "2\n",
            "3\n",
            "\n",
            "2\n",
            "8\n",
            "\n",
            "False\n",
            "False\n",
            "True\n",
            "True\n",
            "\n",
            "True\n"
          ]
        }
      ]
    },
    {
      "cell_type": "markdown",
      "source": [
        "Sometimes you need special characters. These are written with a backslash `\\`. For example, `\\n` makes a new line, `\\t` makes a tab, and `\\\"` allows quotes inside a string."
      ],
      "metadata": {
        "id": "KBV9zZIgfAje"
      }
    },
    {
      "cell_type": "code",
      "source": [
        "print(\"Hello\\nyou\")\n",
        "print()\n",
        "print(\"\\tOne\")\n",
        "print(\"\\t\\tTwo\")\n",
        "print(\"\\t\\t\\tThree\")\n",
        "print()\n",
        "print('That\\'s ok actually')"
      ],
      "metadata": {
        "colab": {
          "base_uri": "https://localhost:8080/"
        },
        "id": "D4HxndXkfBMw",
        "outputId": "ca80a377-2b32-44a4-b6d5-f8aca8f06a1b"
      },
      "execution_count": null,
      "outputs": [
        {
          "output_type": "stream",
          "name": "stdout",
          "text": [
            "Hello\n",
            "you\n",
            "\n",
            "\tOne\n",
            "\t\tTwo\n",
            "\t\t\tThree\n",
            "\n",
            "That's ok actually\n"
          ]
        }
      ]
    },
    {
      "cell_type": "markdown",
      "source": [
        "The print function itself has several methods that might be interesting for you"
      ],
      "metadata": {
        "id": "QkzHo4IXfWV7"
      }
    },
    {
      "cell_type": "code",
      "source": [
        "print(\"Hello\", end='\\n\\n')\n",
        "print(\"you\")\n",
        "print()\n",
        "print(\"Hello\", end='\\t')\n",
        "print(\"you\")\n",
        "print()\n",
        "print(\"Hello\", end='\\r')  # Tricky one, useful for dynamic text like in the bus ;)\n",
        "print(\"you\")"
      ],
      "metadata": {
        "colab": {
          "base_uri": "https://localhost:8080/"
        },
        "id": "upVrvLUNfbj1",
        "outputId": "e12d17f3-9d3f-4c21-dc5d-e8fc6c368a28"
      },
      "execution_count": null,
      "outputs": [
        {
          "output_type": "stream",
          "name": "stdout",
          "text": [
            "Hello\n",
            "\n",
            "you\n",
            "\n",
            "Hello\tyou\n",
            "\n",
            "Hello\ryou\n"
          ]
        }
      ]
    },
    {
      "cell_type": "markdown",
      "source": [
        "Finally, remember that strings in Python are **immutable**. This means you cannot directly change a character once the string is created. Every modification actually creates a new string. As opposed to lists and dictionaries."
      ],
      "metadata": {
        "id": "rW_QH2XHZtaN"
      }
    },
    {
      "cell_type": "markdown",
      "source": [
        "### Exercises!"
      ],
      "metadata": {
        "id": "p2ZHEnD4hMds"
      }
    },
    {
      "cell_type": "markdown",
      "metadata": {
        "id": "436282b4"
      },
      "source": [
        "Question\n",
        "\n",
        "Create a string containing your name and print it."
      ]
    },
    {
      "cell_type": "code",
      "execution_count": null,
      "metadata": {
        "id": "5e435757",
        "colab": {
          "base_uri": "https://localhost:8080/"
        },
        "outputId": "3bd77c26-2a95-4a45-ab76-551ac390aa3e"
      },
      "outputs": [
        {
          "output_type": "stream",
          "name": "stdout",
          "text": [
            "Fatima\n"
          ]
        }
      ],
      "source": [
        "### =====                ==== ####\n",
        "###       YOUR CODE HERE      ####\n",
        "### =====                ==== ####\n",
        "s= 'Fatima'\n",
        "print(s)"
      ]
    },
    {
      "cell_type": "markdown",
      "metadata": {
        "id": "c8fde419"
      },
      "source": [
        "Question\n",
        "\n",
        "Find the length of the string `'Python'`."
      ]
    },
    {
      "cell_type": "code",
      "execution_count": null,
      "metadata": {
        "id": "248c4783",
        "colab": {
          "base_uri": "https://localhost:8080/"
        },
        "outputId": "5abc2091-2c57-4271-bd82-4fcce9de7798"
      },
      "outputs": [
        {
          "output_type": "execute_result",
          "data": {
            "text/plain": [
              "6"
            ]
          },
          "metadata": {},
          "execution_count": 2
        }
      ],
      "source": [
        "### =====                ==== ####\n",
        "###       YOUR CODE HERE      ####\n",
        "### =====                ==== ####\n",
        "len('Python')\n"
      ]
    },
    {
      "cell_type": "markdown",
      "metadata": {
        "id": "0dddab53"
      },
      "source": [
        "Question\n",
        "\n",
        "Print the first character of the string `'Hello'`."
      ]
    },
    {
      "cell_type": "code",
      "execution_count": null,
      "metadata": {
        "id": "898e9a8e",
        "colab": {
          "base_uri": "https://localhost:8080/"
        },
        "outputId": "6fe53558-0ed9-4ec1-9e99-5b8696339ea2"
      },
      "outputs": [
        {
          "output_type": "stream",
          "name": "stdout",
          "text": [
            "H\n"
          ]
        }
      ],
      "source": [
        "### =====                ==== ####\n",
        "###       YOUR CODE HERE      ####\n",
        "### =====                ==== ####\n",
        "a='Hello'\n",
        "print(a[0])"
      ]
    },
    {
      "cell_type": "markdown",
      "metadata": {
        "id": "380da933"
      },
      "source": [
        "Question\n",
        "\n",
        "Slice the string `'AlbertSchool'` to get `'Albert'`."
      ]
    },
    {
      "cell_type": "code",
      "execution_count": null,
      "metadata": {
        "id": "aa23d3e0"
      },
      "outputs": [],
      "source": [
        "### =====                ==== ####\n",
        "###       YOUR CODE HERE      ####\n",
        "### =====                ==== ####\n"
      ]
    },
    {
      "cell_type": "markdown",
      "metadata": {
        "id": "01d9e5bf"
      },
      "source": [
        "Question\n",
        "\n",
        "Reverse the string `'Python'` using slicing."
      ]
    },
    {
      "cell_type": "code",
      "execution_count": null,
      "metadata": {
        "id": "a4a7bb51",
        "colab": {
          "base_uri": "https://localhost:8080/"
        },
        "outputId": "abd0c9d8-6a42-425f-e85c-9ee071d576f9"
      },
      "outputs": [
        {
          "output_type": "stream",
          "name": "stdout",
          "text": [
            "nohtyP\n"
          ]
        }
      ],
      "source": [
        "### =====                ==== ####\n",
        "###       YOUR CODE HERE      ####\n",
        "### =====                ==== ####\n",
        "text = \"Python\"\n",
        "reversed_text = text[::-1]\n",
        "\n",
        "print(reversed_text)"
      ]
    },
    {
      "cell_type": "markdown",
      "metadata": {
        "id": "335db435"
      },
      "source": [
        "Question\n",
        "\n",
        "Concatenate `'Hello'` and `'World'` into one string with a space."
      ]
    },
    {
      "cell_type": "code",
      "execution_count": null,
      "metadata": {
        "id": "c75256de",
        "colab": {
          "base_uri": "https://localhost:8080/"
        },
        "outputId": "8bb1b134-e2ec-4332-c1fe-306eb6490fce"
      },
      "outputs": [
        {
          "output_type": "stream",
          "name": "stdout",
          "text": [
            "Hello World\n"
          ]
        }
      ],
      "source": [
        "### =====                ==== ####\n",
        "###       YOUR CODE HERE      ####\n",
        "### =====                ==== ####\n",
        "s1 = \"Hello\"\n",
        "s2 = \"World\"\n",
        "\n",
        "result = s1 + \" \" + s2\n",
        "print(result)"
      ]
    },
    {
      "cell_type": "markdown",
      "metadata": {
        "id": "dab773ed"
      },
      "source": [
        "Question\n",
        "\n",
        "Repeat the string `'I am a legend, but humble - '` 3 times."
      ]
    },
    {
      "cell_type": "code",
      "execution_count": null,
      "metadata": {
        "id": "59339002",
        "colab": {
          "base_uri": "https://localhost:8080/"
        },
        "outputId": "daab9a6b-346b-4ef5-b9ed-94d7f4354e91"
      },
      "outputs": [
        {
          "output_type": "stream",
          "name": "stdout",
          "text": [
            "I am a legend, but humble - I am a legend, but humble - I am a legend, but humble - \n"
          ]
        }
      ],
      "source": [
        "### =====                ==== ####\n",
        "###       YOUR CODE HERE      ####\n",
        "### =====                ==== ####\n",
        "phrase= 'I am a legend, but humble - '\n",
        "print(3*phrase)"
      ]
    },
    {
      "cell_type": "markdown",
      "metadata": {
        "id": "bbb69eab"
      },
      "source": [
        "Question\n",
        "\n",
        "Check if `'cat'` is in the string `'concatenate'`."
      ]
    },
    {
      "cell_type": "code",
      "execution_count": null,
      "metadata": {
        "id": "5c663b86",
        "colab": {
          "base_uri": "https://localhost:8080/"
        },
        "outputId": "ce7f405b-1aae-4e78-f42a-1eecce06aceb"
      },
      "outputs": [
        {
          "output_type": "stream",
          "name": "stdout",
          "text": [
            "True\n"
          ]
        }
      ],
      "source": [
        "### =====                ==== ####\n",
        "###       YOUR CODE HERE      ####\n",
        "### =====                ==== ####\n",
        "text = \"concatenate\"\n",
        "\n",
        "print('cat' in text)"
      ]
    },
    {
      "cell_type": "markdown",
      "metadata": {
        "id": "7170bae9"
      },
      "source": [
        "Question\n",
        "\n",
        "Convert the string `'good morning'` to uppercase."
      ]
    },
    {
      "cell_type": "code",
      "execution_count": null,
      "metadata": {
        "id": "98bcb83b",
        "colab": {
          "base_uri": "https://localhost:8080/"
        },
        "outputId": "6842d6a1-5ce3-4d11-b322-645890ef8aa5"
      },
      "outputs": [
        {
          "output_type": "stream",
          "name": "stdout",
          "text": [
            "GOOD MORNING\n"
          ]
        }
      ],
      "source": [
        "### =====                ==== ####\n",
        "###       YOUR CODE HERE      ####\n",
        "### =====                ==== ####\n",
        "g= 'good morning'\n",
        "print(g.upper())"
      ]
    },
    {
      "cell_type": "markdown",
      "metadata": {
        "id": "457dde97"
      },
      "source": [
        "Question\n",
        "\n",
        "Remove spaces from the string `'   trim me   '`."
      ]
    },
    {
      "cell_type": "code",
      "execution_count": null,
      "metadata": {
        "id": "Hv-kA8T5ZL-3",
        "colab": {
          "base_uri": "https://localhost:8080/"
        },
        "outputId": "22223877-1f41-4e58-cc5c-fcb4f889dbb7"
      },
      "outputs": [
        {
          "output_type": "stream",
          "name": "stdout",
          "text": [
            "trim me\n"
          ]
        }
      ],
      "source": [
        "### =====                ==== ####\n",
        "###       YOUR CODE HERE      ####\n",
        "### =====                ==== ####\n",
        "text='trim me'\n",
        "print(text.strip())"
      ]
    },
    {
      "cell_type": "markdown",
      "metadata": {
        "id": "e7b9d47f"
      },
      "source": [
        "Question\n",
        "\n",
        "Replace all occurrences of `'a'` with `'o'` in `'banana'`."
      ]
    },
    {
      "cell_type": "code",
      "execution_count": null,
      "metadata": {
        "id": "QnjiAf8nZMZF",
        "colab": {
          "base_uri": "https://localhost:8080/"
        },
        "outputId": "58493c1c-53df-48eb-b2f6-15837e9de826"
      },
      "outputs": [
        {
          "output_type": "stream",
          "name": "stdout",
          "text": [
            "bonono\n"
          ]
        }
      ],
      "source": [
        "### =====                ==== ####\n",
        "###       YOUR CODE HERE      ####\n",
        "### =====                ==== ####\n",
        "x='banana'\n",
        "print(x.replace('a','o'))"
      ]
    },
    {
      "cell_type": "markdown",
      "metadata": {
        "id": "36de4d0a"
      },
      "source": [
        "Question\n",
        "\n",
        "Find the index of `'on'` in `'Python'`."
      ]
    },
    {
      "cell_type": "code",
      "execution_count": null,
      "metadata": {
        "id": "S8qJ2IhiZN6B",
        "colab": {
          "base_uri": "https://localhost:8080/"
        },
        "outputId": "abf5bef2-4912-4f37-c397-ff877c84da90"
      },
      "outputs": [
        {
          "output_type": "stream",
          "name": "stdout",
          "text": [
            "4\n"
          ]
        }
      ],
      "source": [
        "### =====                ==== ####\n",
        "###       YOUR CODE HERE      ####\n",
        "### =====                ==== ####\n",
        "t5='Python'\n",
        "print(t5.find('on'))"
      ]
    },
    {
      "cell_type": "markdown",
      "metadata": {
        "id": "1e354e2f"
      },
      "source": [
        "Question\n",
        "\n",
        "Check if `'Python'` starts with `'Py'`."
      ]
    },
    {
      "cell_type": "code",
      "execution_count": null,
      "metadata": {
        "id": "OWmP-t5hZObT",
        "colab": {
          "base_uri": "https://localhost:8080/"
        },
        "outputId": "9c3872a7-aae9-4cc1-fe90-ac55daf12398"
      },
      "outputs": [
        {
          "output_type": "stream",
          "name": "stdout",
          "text": [
            "True\n"
          ]
        }
      ],
      "source": [
        "### =====                ==== ####\n",
        "###       YOUR CODE HERE      ####\n",
        "### =====                ==== ####\n",
        "print(t5.startswith('Py'))"
      ]
    },
    {
      "cell_type": "markdown",
      "metadata": {
        "id": "08cf391e"
      },
      "source": [
        "Question\n",
        "\n",
        "Split the string `'I love Python programming'` into words."
      ]
    },
    {
      "cell_type": "code",
      "execution_count": null,
      "metadata": {
        "id": "34fd0820",
        "colab": {
          "base_uri": "https://localhost:8080/"
        },
        "outputId": "51bd2668-c253-4470-97bb-f77d25f0540e"
      },
      "outputs": [
        {
          "output_type": "stream",
          "name": "stdout",
          "text": [
            "['I', 'love', 'Python', 'programming']\n"
          ]
        }
      ],
      "source": [
        "### =====                ==== ####\n",
        "###       YOUR CODE HERE      ####\n",
        "### =====                ==== ####\n",
        "t6='I love Python programming'\n",
        "print(t6.split())"
      ]
    },
    {
      "cell_type": "markdown",
      "metadata": {
        "id": "eb417425"
      },
      "source": [
        "Question\n",
        "\n",
        "Join the list `['I','love','Python']` into a string with spaces."
      ]
    },
    {
      "cell_type": "code",
      "execution_count": null,
      "metadata": {
        "id": "94d787d7",
        "colab": {
          "base_uri": "https://localhost:8080/"
        },
        "outputId": "d5d01e6f-97f2-4733-8766-56dccda9fbc3"
      },
      "outputs": [
        {
          "output_type": "stream",
          "name": "stdout",
          "text": [
            "I love Python\n"
          ]
        }
      ],
      "source": [
        "### =====                ==== ####\n",
        "###       YOUR CODE HERE      ####\n",
        "### =====                ==== ####\n",
        "l=['I','love','Python']\n",
        "print(\" \".join(l))\n"
      ]
    },
    {
      "cell_type": "markdown",
      "metadata": {
        "id": "6e64afa5"
      },
      "source": [
        "Question\n",
        "\n",
        "Use an f-string to print: `My name is Alexis and I am getting smarter everyday`.\n",
        "\n",
        "You should store your own name in a variable that you incorporate in the f-string."
      ]
    },
    {
      "cell_type": "code",
      "execution_count": null,
      "metadata": {
        "id": "91b9ac10",
        "colab": {
          "base_uri": "https://localhost:8080/"
        },
        "outputId": "bf7764d1-5fcc-48b7-95de-28b866d6b7df"
      },
      "outputs": [
        {
          "output_type": "stream",
          "name": "stdout",
          "text": [
            "My name is Alexis and I am getting smarter everyday.\n"
          ]
        }
      ],
      "source": [
        "### =====                ==== ####\n",
        "###       YOUR CODE HERE      ####\n",
        "### =====                ==== ####\n",
        "name = \"Alexis\"\n",
        "\n",
        "print(f\"My name is {name} and I am getting smarter everyday.\")\n"
      ]
    },
    {
      "cell_type": "markdown",
      "metadata": {
        "id": "ee71c93e"
      },
      "source": [
        "Question\n",
        "\n",
        "Remove punctuation (`,` and `.`) from `'Hello, world.'`."
      ]
    },
    {
      "cell_type": "code",
      "execution_count": null,
      "metadata": {
        "id": "f426da72",
        "colab": {
          "base_uri": "https://localhost:8080/"
        },
        "outputId": "d88259b1-4e8d-4846-bdca-52ea34dd1c2f"
      },
      "outputs": [
        {
          "output_type": "stream",
          "name": "stdout",
          "text": [
            "Hello world\n"
          ]
        }
      ],
      "source": [
        "### =====                ==== ####\n",
        "###       YOUR CODE HERE      ####\n",
        "### =====                ==== ####\n",
        "text = \"Hello, world.\"\n",
        "\n",
        "# Remove comma and period\n",
        "clean_text = text.replace(\",\", \"\").replace(\".\", \"\")\n",
        "\n",
        "print(clean_text)"
      ]
    },
    {
      "cell_type": "markdown",
      "metadata": {
        "id": "521836bb"
      },
      "source": [
        "Question\n",
        "\n",
        "Create an acronym from `'World Health Organization'` (WHO)."
      ]
    },
    {
      "cell_type": "code",
      "execution_count": null,
      "metadata": {
        "id": "9e49963d",
        "colab": {
          "base_uri": "https://localhost:8080/"
        },
        "outputId": "a12c56c5-190e-40cd-c8cb-e740b687625b"
      },
      "outputs": [
        {
          "output_type": "stream",
          "name": "stdout",
          "text": [
            "WHO\n"
          ]
        }
      ],
      "source": [
        "### =====                ==== ####\n",
        "###       YOUR CODE HERE      ####\n",
        "### =====                ==== ####\n",
        "text = \"World Health Organization\"\n",
        "\n",
        "# Take the first letter of each word and join them\n",
        "acronym = \"\".join(word[0] for word in text.split()).upper()\n",
        "\n",
        "print(acronym)"
      ]
    },
    {
      "cell_type": "markdown",
      "metadata": {
        "id": "e82b1ec5"
      },
      "source": [
        "Question\n",
        "\n",
        "Check if `'radar'` is a palindrome (same forwards and backwards)."
      ]
    },
    {
      "cell_type": "code",
      "execution_count": null,
      "metadata": {
        "id": "16189448",
        "colab": {
          "base_uri": "https://localhost:8080/"
        },
        "outputId": "805ae546-fa1b-43d1-80bd-deffd805ea93"
      },
      "outputs": [
        {
          "output_type": "stream",
          "name": "stdout",
          "text": [
            "True\n"
          ]
        }
      ],
      "source": [
        "### =====                ==== ####\n",
        "###       YOUR CODE HERE      ####\n",
        "### =====                ==== ####\n",
        "word = \"radar\"\n",
        "\n",
        "# Reverse the string using reversed()\n",
        "reversed_word = word[::-1]\n",
        "reversed_word\n",
        "is_palindorm= word== reversed_word\n",
        "print(is_palindorm)\n"
      ]
    },
    {
      "cell_type": "markdown",
      "metadata": {
        "id": "Tkht3pa7tPba"
      },
      "source": [
        "## Booleans"
      ]
    },
    {
      "cell_type": "markdown",
      "metadata": {
        "id": "B-zMn_eFtPba"
      },
      "source": [
        "### Operators of comparison"
      ]
    },
    {
      "cell_type": "markdown",
      "metadata": {
        "id": "AxYnRKbvtPba"
      },
      "source": [
        "The following are **operators of comparison**. They enable comparisons between objects of the same type (by default).\n",
        "\n",
        "The result is a boolean (True or False). The result is often used in conditional structures (if, elif, else)."
      ]
    },
    {
      "cell_type": "code",
      "execution_count": null,
      "metadata": {
        "id": "ICcLNx5xtPba",
        "outputId": "a6c88c37-c312-4ff7-b224-0799c6496198"
      },
      "outputs": [
        {
          "name": "stdout",
          "output_type": "stream",
          "text": [
            "False\n",
            "True\n",
            "False\n",
            "False\n",
            "True\n",
            "True\n",
            "False\n",
            "True\n",
            "True\n",
            "False\n",
            "True\n",
            "False\n",
            "True\n",
            "False\n"
          ]
        }
      ],
      "source": [
        "# Each object (integers, strings, lists, etc.) has its own operator\n",
        "# which means that \"greater than\" when comparing integers\n",
        "# has a different meaning than \"greater than\" for comparing lists\n",
        "# ps: you will see later how to define operators for your own objects\n",
        "print(1 > 2)\n",
        "print(1 < 2)\n",
        "print(1 < 1)\n",
        "print(1 >= 2)\n",
        "print(1 <= 2)\n",
        "print(1 <= 1)\n",
        "print(1 == 2)\n",
        "print(1 != 2)\n",
        "print(1 == 1)\n",
        "print(1 != 1)\n",
        "print('a' < 'b')\n",
        "print('a' > 'b')\n",
        "print([1] < [2, 3])\n",
        "print([1] > [2, 3])"
      ]
    },
    {
      "cell_type": "markdown",
      "metadata": {
        "id": "KpcFJ8cdtPba"
      },
      "source": [
        "**Contains** operator: available in iterables, not in numbers."
      ]
    },
    {
      "cell_type": "code",
      "execution_count": null,
      "metadata": {
        "id": "OI6GRFHDtPba",
        "outputId": "46541bf0-52ad-44ae-f364-1de05fccdb67"
      },
      "outputs": [
        {
          "name": "stdout",
          "output_type": "stream",
          "text": [
            "True\n",
            "False\n",
            "False\n",
            "True\n",
            "False\n",
            "True\n"
          ]
        }
      ],
      "source": [
        "print(1 in [1, 4, 2])\n",
        "print(1 in [4, 2])\n",
        "print([1] in [1, 4, 2])\n",
        "print([1] in [[1], 4, 2])\n",
        "print('a' in 'oisj')\n",
        "print('a' in 'oiasj')"
      ]
    },
    {
      "cell_type": "markdown",
      "metadata": {
        "id": "eS8vZnjZtPba"
      },
      "source": [
        "Check if element is (True, False) or if it even exists"
      ]
    },
    {
      "cell_type": "code",
      "execution_count": null,
      "metadata": {
        "id": "y0xQ9jentPba",
        "outputId": "9222e6fe-dffe-4615-8543-e60ee039fa55"
      },
      "outputs": [
        {
          "name": "stdout",
          "output_type": "stream",
          "text": [
            "True\n",
            "False\n",
            "False\n",
            "False\n",
            "True\n",
            "False\n"
          ]
        }
      ],
      "source": [
        "print(True is True)\n",
        "print(True is False)\n",
        "\n",
        "print([1] is None)\n",
        "x = 12\n",
        "print(x is None)\n",
        "x = None\n",
        "print(x is None)\n",
        "\n",
        "import numpy as np\n",
        "print(x is np.nan)"
      ]
    },
    {
      "cell_type": "markdown",
      "metadata": {
        "id": "ztj3CxtAtPba"
      },
      "source": [
        "**Negation** operator: not"
      ]
    },
    {
      "cell_type": "code",
      "execution_count": null,
      "metadata": {
        "id": "2ktez3pBtPba",
        "outputId": "28fdc354-a20e-4bd4-ee96-1848cf56e561"
      },
      "outputs": [
        {
          "name": "stdout",
          "output_type": "stream",
          "text": [
            "True\n",
            "False\n",
            "False\n",
            "True\n"
          ]
        }
      ],
      "source": [
        "print(1 == 1)\n",
        "print(not 1 == 1)\n",
        "print(1 != 1)\n",
        "print(not 1 != 1)"
      ]
    },
    {
      "cell_type": "markdown",
      "source": [
        "### Exercises!"
      ],
      "metadata": {
        "id": "D3P-q4DzhmU7"
      }
    },
    {
      "cell_type": "markdown",
      "metadata": {
        "id": "311a0c9f"
      },
      "source": [
        "Question  \n",
        "Check if 5 is greater than 2."
      ]
    },
    {
      "cell_type": "code",
      "execution_count": null,
      "metadata": {
        "id": "28237c6d",
        "colab": {
          "base_uri": "https://localhost:8080/"
        },
        "outputId": "417224d4-71f3-4536-e8c4-15fd4c1e8fc2"
      },
      "outputs": [
        {
          "output_type": "stream",
          "name": "stdout",
          "text": [
            "True\n"
          ]
        }
      ],
      "source": [
        "### =====                ==== ####\n",
        "###       YOUR CODE HERE      ####\n",
        "### =====                ==== ####\n",
        "print(5>2)"
      ]
    },
    {
      "cell_type": "markdown",
      "metadata": {
        "id": "b4c34fd4"
      },
      "source": [
        "Question  \n",
        "Check if 10 is equal to 7."
      ]
    },
    {
      "cell_type": "code",
      "execution_count": null,
      "metadata": {
        "id": "feaeaace",
        "colab": {
          "base_uri": "https://localhost:8080/"
        },
        "outputId": "cfa9c280-117d-4d9b-ca56-06f0d000fdcd"
      },
      "outputs": [
        {
          "output_type": "stream",
          "name": "stdout",
          "text": [
            "False\n"
          ]
        }
      ],
      "source": [
        "### =====                ==== ####\n",
        "###       YOUR CODE HERE      ####\n",
        "### =====                ==== ####\n",
        "print(10==7)"
      ]
    },
    {
      "cell_type": "markdown",
      "metadata": {
        "id": "1167df89"
      },
      "source": [
        "Question  \n",
        "Check if 3 is not equal to 4."
      ]
    },
    {
      "cell_type": "code",
      "execution_count": null,
      "metadata": {
        "id": "8325a71b",
        "colab": {
          "base_uri": "https://localhost:8080/"
        },
        "outputId": "6c90378c-adaf-4d3d-999f-2b44d7c44a48"
      },
      "outputs": [
        {
          "output_type": "stream",
          "name": "stdout",
          "text": [
            "True\n"
          ]
        }
      ],
      "source": [
        "### =====                ==== ####\n",
        "###       YOUR CODE HERE      ####\n",
        "### =====                ==== ####\n",
        "print(3!=4)"
      ]
    },
    {
      "cell_type": "markdown",
      "metadata": {
        "id": "1731b010"
      },
      "source": [
        "Question  \n",
        "Check if \"apple\" is less than \"banana\"."
      ]
    },
    {
      "cell_type": "code",
      "execution_count": null,
      "metadata": {
        "id": "1d1c31ae",
        "colab": {
          "base_uri": "https://localhost:8080/"
        },
        "outputId": "dfb3f2ee-28c2-4f50-d712-5a5645b330c5"
      },
      "outputs": [
        {
          "output_type": "stream",
          "name": "stdout",
          "text": [
            "True\n"
          ]
        }
      ],
      "source": [
        "### =====                ==== ####\n",
        "###       YOUR CODE HERE      ####\n",
        "### =====                ==== ####\n",
        "x1='apple'\n",
        "x2='banana'\n",
        "print(x1<x2)"
      ]
    },
    {
      "cell_type": "markdown",
      "metadata": {
        "id": "63d963f5"
      },
      "source": [
        "Question  \n",
        "Check if \"zebra\" is greater than \"lion\"."
      ]
    },
    {
      "cell_type": "code",
      "execution_count": null,
      "metadata": {
        "id": "cc8314a1",
        "colab": {
          "base_uri": "https://localhost:8080/"
        },
        "outputId": "f689b671-9b7d-44b0-f5ed-196f09b1a5f3"
      },
      "outputs": [
        {
          "output_type": "stream",
          "name": "stdout",
          "text": [
            "True\n"
          ]
        }
      ],
      "source": [
        "### =====                ==== ####\n",
        "###       YOUR CODE HERE      ####\n",
        "### =====                ==== ####\n",
        "print(\"zebra\">\"lion\")"
      ]
    },
    {
      "cell_type": "markdown",
      "metadata": {
        "id": "48d9d62d"
      },
      "source": [
        "Question  \n",
        "Check if the number 2 is in the list `[1, 2, 3, 4]`."
      ]
    },
    {
      "cell_type": "code",
      "execution_count": null,
      "metadata": {
        "id": "2f9e8ad1",
        "colab": {
          "base_uri": "https://localhost:8080/"
        },
        "outputId": "db2b73a0-3cc7-4a0e-d5c7-7767fad86a14"
      },
      "outputs": [
        {
          "output_type": "stream",
          "name": "stdout",
          "text": [
            "True\n"
          ]
        }
      ],
      "source": [
        "### =====                ==== ####\n",
        "###       YOUR CODE HERE      ####\n",
        "### =====                ==== ####\n",
        "print(2 in [1,2,3,4])"
      ]
    },
    {
      "cell_type": "markdown",
      "metadata": {
        "id": "e3034b26"
      },
      "source": [
        "Question  \n",
        "Check if the number 5 is not in the list `[1, 2, 3, 4]`."
      ]
    },
    {
      "cell_type": "code",
      "execution_count": null,
      "metadata": {
        "id": "e85ce031",
        "colab": {
          "base_uri": "https://localhost:8080/"
        },
        "outputId": "7298d1c6-2631-4767-b47b-016db7f14b21"
      },
      "outputs": [
        {
          "output_type": "stream",
          "name": "stdout",
          "text": [
            "False\n"
          ]
        }
      ],
      "source": [
        "### =====                ==== ####\n",
        "###       YOUR CODE HERE      ####\n",
        "### =====                ==== ####\n",
        "print(5 in [1,2,3,4])"
      ]
    },
    {
      "cell_type": "markdown",
      "metadata": {
        "id": "0c97f2c3"
      },
      "source": [
        "Question  \n",
        "Check if the string `\"a\"` is inside the string `\"cat\"`."
      ]
    },
    {
      "cell_type": "code",
      "execution_count": null,
      "metadata": {
        "id": "7675cbb7",
        "colab": {
          "base_uri": "https://localhost:8080/"
        },
        "outputId": "2368bfdf-bbdc-4f4c-f22b-fb0a1ab9ad2d"
      },
      "outputs": [
        {
          "output_type": "stream",
          "name": "stdout",
          "text": [
            "True\n"
          ]
        }
      ],
      "source": [
        "### =====                ==== ####\n",
        "###       YOUR CODE HERE      ####\n",
        "### =====                ==== ####\n",
        "print('a' in 'cat')"
      ]
    },
    {
      "cell_type": "markdown",
      "metadata": {
        "id": "e9e01fd1"
      },
      "source": [
        "Question  \n",
        "Check if the string `\"dog\"` is inside the list `[\"cat\", \"dog\", \"mouse\"]`."
      ]
    },
    {
      "cell_type": "code",
      "execution_count": null,
      "metadata": {
        "id": "e1aad50b",
        "colab": {
          "base_uri": "https://localhost:8080/"
        },
        "outputId": "75416f70-1a7a-4dcc-9b47-612b72f37cd8"
      },
      "outputs": [
        {
          "output_type": "stream",
          "name": "stdout",
          "text": [
            "True\n"
          ]
        }
      ],
      "source": [
        "### =====                ==== ####\n",
        "###       YOUR CODE HERE      ####\n",
        "### =====                ==== ####\n",
        "print(\"dog\" in [\"cat\", \"dog\", \"mouse\"])"
      ]
    },
    {
      "cell_type": "markdown",
      "metadata": {
        "id": "076084ee"
      },
      "source": [
        "Question  \n",
        "Check if the value associated with key `\"age\"` in the dictionary  `{\"name\": \"John\", \"age\": 30}` is equal to 30."
      ]
    },
    {
      "cell_type": "code",
      "execution_count": null,
      "metadata": {
        "id": "901bfaa8",
        "colab": {
          "base_uri": "https://localhost:8080/"
        },
        "outputId": "1c8b1190-a062-461c-edaf-714838425bf6"
      },
      "outputs": [
        {
          "output_type": "stream",
          "name": "stdout",
          "text": [
            "True\n"
          ]
        }
      ],
      "source": [
        "### =====                ==== ####\n",
        "###       YOUR CODE HERE      ####\n",
        "### =====                ==== ####\n",
        "person = {\"name\": \"John\", \"age\": 30}\n",
        "\n",
        "is_age_30 = person[\"age\"] == 30\n",
        "\n",
        "print(is_age_30)"
      ]
    },
    {
      "cell_type": "markdown",
      "metadata": {
        "id": "6349381f"
      },
      "source": [
        "Question  \n",
        "Check if the dictionary `{\"a\": 1, \"b\": 2}` contains the key `\"a\"`."
      ]
    },
    {
      "cell_type": "code",
      "execution_count": null,
      "metadata": {
        "id": "7d32b553",
        "colab": {
          "base_uri": "https://localhost:8080/"
        },
        "outputId": "a31d3377-6fd4-497e-b000-39afe89aacb8"
      },
      "outputs": [
        {
          "output_type": "stream",
          "name": "stdout",
          "text": [
            "True\n"
          ]
        }
      ],
      "source": [
        "### =====                ==== ####\n",
        "###       YOUR CODE HERE      ####\n",
        "### =====                ==== ####\n",
        "dic={\"a\":1, \"b\":2}\n",
        "print(\"a\" in dic)"
      ]
    },
    {
      "cell_type": "markdown",
      "metadata": {
        "id": "66eb4c7d"
      },
      "source": [
        "Question  \n",
        "Check if the dictionary `{\"a\": 1, \"b\": 2}` contains the value `3`."
      ]
    },
    {
      "cell_type": "code",
      "execution_count": null,
      "metadata": {
        "id": "687084fd",
        "colab": {
          "base_uri": "https://localhost:8080/"
        },
        "outputId": "4758d13f-44c7-4761-a52a-3c4cbb9fe23e"
      },
      "outputs": [
        {
          "output_type": "stream",
          "name": "stdout",
          "text": [
            "False\n"
          ]
        }
      ],
      "source": [
        "### =====                ==== ####\n",
        "###       YOUR CODE HERE      ####\n",
        "### =====                ==== ####\n",
        "print(3 in dic)"
      ]
    },
    {
      "cell_type": "markdown",
      "metadata": {
        "id": "1a828818"
      },
      "source": [
        "Question  \n",
        "Check if True is equal to False."
      ]
    },
    {
      "cell_type": "code",
      "execution_count": null,
      "metadata": {
        "id": "cf0a785b",
        "colab": {
          "base_uri": "https://localhost:8080/"
        },
        "outputId": "d90b6d47-a394-4818-8d06-b25469fb5b11"
      },
      "outputs": [
        {
          "output_type": "stream",
          "name": "stdout",
          "text": [
            "False\n"
          ]
        }
      ],
      "source": [
        "### =====                ==== ####\n",
        "###       YOUR CODE HERE      ####\n",
        "### =====                ==== ####\n",
        "print(True==False)"
      ]
    },
    {
      "cell_type": "markdown",
      "metadata": {
        "id": "d1eef757"
      },
      "source": [
        "Question  \n",
        "Check if None is equal to None."
      ]
    },
    {
      "cell_type": "code",
      "execution_count": null,
      "metadata": {
        "id": "b17c3aa7",
        "colab": {
          "base_uri": "https://localhost:8080/"
        },
        "outputId": "c0f57398-e848-485f-ff74-689e006e57f3"
      },
      "outputs": [
        {
          "output_type": "stream",
          "name": "stdout",
          "text": [
            "True\n"
          ]
        }
      ],
      "source": [
        "### =====                ==== ####\n",
        "###       YOUR CODE HERE      ####\n",
        "### =====                ==== ####\n",
        "print(None==None)"
      ]
    },
    {
      "cell_type": "markdown",
      "metadata": {
        "id": "02a967e9"
      },
      "source": [
        "Question  \n",
        "Assign `x = None`. Check if `x is None`."
      ]
    },
    {
      "cell_type": "code",
      "execution_count": null,
      "metadata": {
        "id": "2f857b6a",
        "colab": {
          "base_uri": "https://localhost:8080/"
        },
        "outputId": "812770ee-918f-4568-844d-45005d6d6317"
      },
      "outputs": [
        {
          "output_type": "stream",
          "name": "stdout",
          "text": [
            "True\n"
          ]
        }
      ],
      "source": [
        "### =====                ==== ####\n",
        "###       YOUR CODE HERE      ####\n",
        "### =====                ==== ####\n",
        "x=None\n",
        "print(x is None)"
      ]
    },
    {
      "cell_type": "markdown",
      "metadata": {
        "id": "2c752b14"
      },
      "source": [
        "Question  \n",
        "Check if not (3 == 3)."
      ]
    },
    {
      "cell_type": "code",
      "execution_count": null,
      "metadata": {
        "id": "97b0ea29",
        "colab": {
          "base_uri": "https://localhost:8080/"
        },
        "outputId": "75479bb9-1e7b-4a25-83cd-284b104b8a5f"
      },
      "outputs": [
        {
          "output_type": "stream",
          "name": "stdout",
          "text": [
            "False\n"
          ]
        }
      ],
      "source": [
        "### =====                ==== ####\n",
        "###       YOUR CODE HERE      ####\n",
        "### =====                ==== ####\n",
        "print(not(3==3))"
      ]
    },
    {
      "cell_type": "markdown",
      "metadata": {
        "id": "ecebd342"
      },
      "source": [
        "Question  \n",
        "Check if not (4 != 4)."
      ]
    },
    {
      "cell_type": "code",
      "execution_count": null,
      "metadata": {
        "id": "dce51f41",
        "colab": {
          "base_uri": "https://localhost:8080/"
        },
        "outputId": "7e66cf35-e99c-4756-f5d9-ed6b45c903bf"
      },
      "outputs": [
        {
          "output_type": "stream",
          "name": "stdout",
          "text": [
            "True\n"
          ]
        }
      ],
      "source": [
        "### =====                ==== ####\n",
        "###       YOUR CODE HERE      ####\n",
        "### =====                ==== ####\n",
        "print(not(4!=4))"
      ]
    },
    {
      "cell_type": "markdown",
      "metadata": {
        "id": "d3ce8bc1"
      },
      "source": [
        "Question  \n",
        "Check if `[1, 2]` is equal to `[1, 2]`."
      ]
    },
    {
      "cell_type": "code",
      "execution_count": null,
      "metadata": {
        "id": "dda04226",
        "colab": {
          "base_uri": "https://localhost:8080/"
        },
        "outputId": "db627ff4-3d81-473d-db85-da4fce34aff8"
      },
      "outputs": [
        {
          "output_type": "stream",
          "name": "stdout",
          "text": [
            "True\n"
          ]
        }
      ],
      "source": [
        "### =====                ==== ####\n",
        "###       YOUR CODE HERE      ####\n",
        "### =====                ==== ####\n",
        "print([1,2]==[1,2])"
      ]
    },
    {
      "cell_type": "markdown",
      "metadata": {
        "id": "db344b2f"
      },
      "source": [
        "Question  \n",
        "Check if `[1, 2]` is not equal to `[2, 1]`."
      ]
    },
    {
      "cell_type": "code",
      "execution_count": null,
      "metadata": {
        "id": "548cff17",
        "colab": {
          "base_uri": "https://localhost:8080/"
        },
        "outputId": "b59cf86f-1529-448e-d0a5-302d1652d5cb"
      },
      "outputs": [
        {
          "output_type": "stream",
          "name": "stdout",
          "text": [
            "True\n"
          ]
        }
      ],
      "source": [
        "### =====                ==== ####\n",
        "###       YOUR CODE HERE      ####\n",
        "### =====                ==== ####\n",
        "print([1,2]!=[2,1] )"
      ]
    },
    {
      "cell_type": "markdown",
      "metadata": {
        "id": "7841e141"
      },
      "source": [
        "Question  \n",
        "Use the internal method to check if the list `[10, 20, 30]` contains `20`.  (Hint: use `.__contains__()`)."
      ]
    },
    {
      "cell_type": "code",
      "execution_count": null,
      "metadata": {
        "id": "c1475533",
        "colab": {
          "base_uri": "https://localhost:8080/"
        },
        "outputId": "ded2ba43-b60a-405a-c2ff-c8061dd02214"
      },
      "outputs": [
        {
          "output_type": "stream",
          "name": "stdout",
          "text": [
            "True\n"
          ]
        }
      ],
      "source": [
        "### =====                ==== ####\n",
        "###       YOUR CODE HERE      ####\n",
        "### =====                ==== ####\n",
        "numbers=[10,20,30]\n",
        "print(numbers.__contains__(20))"
      ]
    }
  ]
}