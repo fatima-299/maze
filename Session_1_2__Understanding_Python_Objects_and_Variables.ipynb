{
  "nbformat": 4,
  "nbformat_minor": 0,
  "metadata": {
    "colab": {
      "provenance": [],
      "include_colab_link": true
    },
    "kernelspec": {
      "name": "python3",
      "display_name": "Python 3"
    },
    "language_info": {
      "name": "python"
    }
  },
  "cells": [
    {
      "cell_type": "markdown",
      "metadata": {
        "id": "view-in-github",
        "colab_type": "text"
      },
      "source": [
        "<a href=\"https://colab.research.google.com/github/fatima-299/maze/blob/main/Session_1_2__Understanding_Python_Objects_and_Variables.ipynb\" target=\"_parent\"><img src=\"https://colab.research.google.com/assets/colab-badge.svg\" alt=\"Open In Colab\"/></a>"
      ]
    },
    {
      "cell_type": "markdown",
      "metadata": {
        "id": "qBnWteJhtPbU"
      },
      "source": [
        "## Essentials in Python Language<a class=anchor id=python_essentials></a>"
      ]
    },
    {
      "cell_type": "markdown",
      "metadata": {
        "id": "7vucS3C3tPbU"
      },
      "source": [
        "### Variables\n",
        "\n",
        "A `variable` is used to **store** information. It's an essential concept that makes programming (and even computers) possible."
      ]
    },
    {
      "cell_type": "markdown",
      "source": [
        "Let's store the age of Tom in a variable named `age_tom`"
      ],
      "metadata": {
        "id": "lWWJGVJNKvm8"
      }
    },
    {
      "cell_type": "code",
      "execution_count": 3,
      "metadata": {
        "id": "W1TR7Ea9tPbU"
      },
      "outputs": [],
      "source": [
        "# Store the number 1 in a variable named 'age_tom'\n",
        "age_tom = 18"
      ]
    },
    {
      "cell_type": "code",
      "execution_count": 4,
      "metadata": {
        "id": "VIKYlB4etPbU",
        "outputId": "16fd3a5a-0e97-4aa5-fdd4-bd78e21c3967",
        "colab": {
          "base_uri": "https://localhost:8080/"
        }
      },
      "outputs": [
        {
          "output_type": "stream",
          "name": "stdout",
          "text": [
            "18\n"
          ]
        }
      ],
      "source": [
        "# Display the number 1 contained in the variable 'age_tom' (using the function 'print')\n",
        "print(age_tom)"
      ]
    },
    {
      "cell_type": "code",
      "execution_count": 5,
      "metadata": {
        "id": "xoEyFU1DtPbU"
      },
      "outputs": [],
      "source": [
        "# Use this number for a basic operation (imagine Tom's birthday)\n",
        "age_tom = age_tom + 1"
      ]
    },
    {
      "cell_type": "code",
      "execution_count": 6,
      "metadata": {
        "id": "7c19TQu0tPbU",
        "outputId": "aca2663d-ae76-4ac4-b573-5d30447590f5",
        "colab": {
          "base_uri": "https://localhost:8080/"
        }
      },
      "outputs": [
        {
          "output_type": "stream",
          "name": "stdout",
          "text": [
            "19\n"
          ]
        }
      ],
      "source": [
        "print(age_tom)"
      ]
    },
    {
      "cell_type": "markdown",
      "metadata": {
        "id": "KjUpGPz_tPbU"
      },
      "source": [
        "We can store the age of another person at the same time, by using a variable with a different name: e.g. `age_kim`"
      ]
    },
    {
      "cell_type": "code",
      "execution_count": 7,
      "metadata": {
        "id": "WoOtuoF_tPbU"
      },
      "outputs": [],
      "source": [
        "age_kim = 21"
      ]
    },
    {
      "cell_type": "code",
      "execution_count": 8,
      "metadata": {
        "id": "Q-7g1io0tPbU",
        "outputId": "6b7bc694-c5b3-423e-f983-bcfc14c59aa0",
        "colab": {
          "base_uri": "https://localhost:8080/"
        }
      },
      "outputs": [
        {
          "output_type": "stream",
          "name": "stdout",
          "text": [
            "21\n"
          ]
        }
      ],
      "source": [
        "print(age_kim)"
      ]
    },
    {
      "cell_type": "markdown",
      "metadata": {
        "id": "3Di5ZRa0tPbV"
      },
      "source": [
        "We can make interesting operations with these variables, e.g. compute the average age"
      ]
    },
    {
      "cell_type": "code",
      "execution_count": 9,
      "metadata": {
        "id": "Q5p-j2bytPbV"
      },
      "outputs": [],
      "source": [
        "age_average = (age_tom + age_kim) / 2"
      ]
    },
    {
      "cell_type": "code",
      "execution_count": 10,
      "metadata": {
        "id": "JVfQutCLtPbV",
        "outputId": "ef599c36-2351-4f53-d075-e9699723e3c4",
        "colab": {
          "base_uri": "https://localhost:8080/"
        }
      },
      "outputs": [
        {
          "output_type": "stream",
          "name": "stdout",
          "text": [
            "20.0\n"
          ]
        }
      ],
      "source": [
        "print(age_average)"
      ]
    },
    {
      "cell_type": "markdown",
      "metadata": {
        "id": "GyXXbaxItPbV"
      },
      "source": [
        "**Tip**: We don't actually need to use the function `print` to display the value contained in a variable, when the variable is the last line of a code cell. See example below"
      ]
    },
    {
      "cell_type": "code",
      "execution_count": 11,
      "metadata": {
        "id": "Dhn-4B0FtPbV",
        "outputId": "ee0d3578-9753-4798-e33d-e636a613eff4",
        "colab": {
          "base_uri": "https://localhost:8080/"
        }
      },
      "outputs": [
        {
          "output_type": "execute_result",
          "data": {
            "text/plain": [
              "20.0"
            ]
          },
          "metadata": {},
          "execution_count": 11
        }
      ],
      "source": [
        "# Display the average age without using the function print (only possible in a Jupyter Notebook, not in a Python script)\n",
        "age_average"
      ]
    },
    {
      "cell_type": "markdown",
      "metadata": {
        "id": "d5wsao-PtPbV"
      },
      "source": [
        "**Tip2**: You can use the shortcut `var += 1` instead of `var = var + 1` for avoiding repetition when applying addition to the same variable."
      ]
    },
    {
      "cell_type": "code",
      "execution_count": 12,
      "metadata": {
        "id": "J3o4n1U5tPbV",
        "outputId": "826a2421-527d-4066-9cbf-688fa2316619",
        "colab": {
          "base_uri": "https://localhost:8080/"
        }
      },
      "outputs": [
        {
          "output_type": "execute_result",
          "data": {
            "text/plain": [
              "22"
            ]
          },
          "metadata": {},
          "execution_count": 12
        }
      ],
      "source": [
        "age_kim += 1\n",
        "age_kim"
      ]
    },
    {
      "cell_type": "markdown",
      "source": [
        "#### Beware! Scope of Variables\n",
        "\n",
        "The *scope* of a variable refers to the part of a program where that variable can be accessed or modified. In Python, variables defined inside a function are **local** to that function: they exist only while the function runs and cannot be used outside of it. Variables defined outside of any function are **global**, meaning they can be read from anywhere in the program, although modifying them from inside a function requires special care. Python also supports **enclosing** (variables defined in an outer function) and **built-in** (names provided by Python itself, like `len` or `print`) scopes. Understanding scope is important because it prevents unintended interactions between different parts of your code and helps keep programs predictable and organized.\n",
        "\n",
        "The priority follows the LEGB rule (see below)."
      ],
      "metadata": {
        "id": "_zC68YZAI015"
      }
    },
    {
      "cell_type": "code",
      "source": [
        "x = \"global\"   # G (Global)\n",
        "\n",
        "def outer():\n",
        "    x = \"enclosing\"  # E (Enclosing)\n",
        "\n",
        "    def inner():\n",
        "        x = \"local\"  # L (Local)\n",
        "        print(x)     # -> \"local\n",
        "\n",
        "    inner()\n",
        "    print(x)         # -> \"enclosing\"\n",
        "\n",
        "outer()\n",
        "print(x)             # -> \"global\"\n",
        "print(len([1,2,3]))  # -> 3 B (Built-in)"
      ],
      "metadata": {
        "colab": {
          "base_uri": "https://localhost:8080/"
        },
        "id": "gE8MY2ONJh1A",
        "outputId": "616bb010-a541-4003-b7fc-e2542501348d"
      },
      "execution_count": 13,
      "outputs": [
        {
          "output_type": "stream",
          "name": "stdout",
          "text": [
            "local\n",
            "enclosing\n",
            "global\n",
            "3\n"
          ]
        }
      ]
    },
    {
      "cell_type": "markdown",
      "source": [
        "If you define the variable `len = 42` globally, then `len([1,2,3])` will not work anymore, because you have overriden the built-in function len."
      ],
      "metadata": {
        "id": "6StO_-XDKCal"
      }
    },
    {
      "cell_type": "markdown",
      "metadata": {
        "id": "2Zik_dTttPbV"
      },
      "source": [
        "### Data types / structures<a class=anchor id=data_structures></a>\n",
        "\n",
        "*So* far we have stored **integers** in the variables, i.e. numbers without leading values after the comma: e.g. 18.\n",
        "\n",
        "There also exists **floats**, i.e. numbers with values after the comma. If you look closely, the variable `age_average` actually contains a float. This is the result of the (true) division operator.\n",
        "\n",
        "Let's see which other types exist:"
      ]
    },
    {
      "cell_type": "code",
      "execution_count": 14,
      "metadata": {
        "id": "9KK7Q9MwtPbV",
        "outputId": "bbe8761d-48a1-4103-efdf-988a1c5e77ff",
        "colab": {
          "base_uri": "https://localhost:8080/"
        }
      },
      "outputs": [
        {
          "output_type": "execute_result",
          "data": {
            "text/plain": [
              "{'name': ['akiko', 'julie'], 'age': [12, 43]}"
            ]
          },
          "metadata": {},
          "execution_count": 14
        }
      ],
      "source": [
        "# Text and numbers\n",
        "12         # int (integer)\n",
        "1.5        # float\n",
        "'hola'     # str (string)\n",
        "\"hola\"\n",
        "\"\"\"hola\"\"\"\n",
        "\n",
        "# Iterables\n",
        "[42, 58, 209, 42]  # list\n",
        "(42, 58, 209, 42)  # tuple (we won't use it in this class)\n",
        "{42, 58, 209}      # set (unique values / no duplicates)\n",
        "{'name': ['akiko', 'julie'], 'age': [12, 43]}  # dict (dictionary)\n",
        "\n",
        "# In this dictionnary there are 2 keys 'name' and 'age' with values\n",
        "# respectively 'akiko' and 'julie' and 12 and 43.\n",
        "# The values of this dictionnary are stored in a list [].\n",
        "# It would be impossible to store multiple values for the same key otherwise."
      ]
    },
    {
      "cell_type": "markdown",
      "metadata": {
        "id": "3LMtXOEptPbV"
      },
      "source": [
        "--------------------------------\n",
        "Question\n",
        "\n",
        "1. Store the integer 12 in a variable named int_12\n",
        "2. Store the float 12 in a variable named float_12\n",
        "3. Store the string 12 in a variable named str_12"
      ]
    },
    {
      "cell_type": "code",
      "execution_count": 15,
      "metadata": {
        "id": "6nqTpN_itPbW"
      },
      "outputs": [],
      "source": [
        "### =====                ==== ####\n",
        "###       YOUR CODE HERE      ####\n",
        "### =====                ==== ####\n",
        "int_12=12\n",
        "float_12= 12.0\n",
        "str_12='12'"
      ]
    },
    {
      "cell_type": "markdown",
      "metadata": {
        "id": "t4kuvOwltPbW"
      },
      "source": [
        "Verify their type using the function named `type`"
      ]
    },
    {
      "cell_type": "code",
      "execution_count": 16,
      "metadata": {
        "id": "Q7ZSoToytPbW",
        "colab": {
          "base_uri": "https://localhost:8080/"
        },
        "outputId": "87e52642-7608-4e4a-b590-d53e41a060eb"
      },
      "outputs": [
        {
          "output_type": "stream",
          "name": "stdout",
          "text": [
            "<class 'int'>\n",
            "<class 'float'>\n",
            "<class 'str'>\n"
          ]
        }
      ],
      "source": [
        "from __future__ import print_function\n",
        "### =====                ==== ####\n",
        "###       YOUR CODE HERE      ####\n",
        "### =====                ==== ####\n",
        "print(type(int_12))\n",
        "print(type(float_12))\n",
        "print(type(str_12))"
      ]
    },
    {
      "cell_type": "markdown",
      "metadata": {
        "id": "VbuSuSi0tPbW"
      },
      "source": [
        "--------------------------------\n",
        "Question\n",
        "\n",
        "1. Create a list containing: 12, 13, 14 that you store in the variable 'l' (the first letter of list)\n",
        "3. Create a dictionary where the key is 'emotion' and the values are: 'happy', 'sad' and 'excited', that you store in d."
      ]
    },
    {
      "cell_type": "code",
      "execution_count": 17,
      "metadata": {
        "id": "7kSn_RQ-tPbW",
        "colab": {
          "base_uri": "https://localhost:8080/"
        },
        "outputId": "d7157f74-c6ed-4096-e9c1-011cadea3888"
      },
      "outputs": [
        {
          "output_type": "stream",
          "name": "stdout",
          "text": [
            "[12, 13, 14]\n",
            "{'emotion': ['happy', 'sad', 'excited']}\n",
            "['happy', 'sad', 'excited']\n"
          ]
        }
      ],
      "source": [
        "### =====                ==== ####\n",
        "###       YOUR CODE HERE      ####\n",
        "### =====                ==== ####\n",
        "l=[12,13,14]\n",
        "d={'emotion':['happy','sad','excited']}\n",
        "print(l)\n",
        "print(d)\n",
        "print(d['emotion'])"
      ]
    },
    {
      "cell_type": "markdown",
      "metadata": {
        "id": "-r8tM99UtPbW"
      },
      "source": [
        "Let's see how to get unique values from a list using the function `set`"
      ]
    },
    {
      "cell_type": "code",
      "execution_count": 18,
      "metadata": {
        "id": "_oGjkMnDtPbW",
        "outputId": "e4bab848-a16c-4c78-f6cc-57937bd2b1df",
        "colab": {
          "base_uri": "https://localhost:8080/"
        }
      },
      "outputs": [
        {
          "output_type": "execute_result",
          "data": {
            "text/plain": [
              "{42, 58, 209}"
            ]
          },
          "metadata": {},
          "execution_count": 18
        }
      ],
      "source": [
        "l = [42, 58, 58, 58, 209, 42, 42, 42]\n",
        "set(l)"
      ]
    },
    {
      "cell_type": "markdown",
      "metadata": {
        "id": "9Rfe53dytPbW"
      },
      "source": [
        "--------------------------------\n",
        "Question\n",
        "\n",
        "1. Create a list containing: 12, 13, 14, 12\n",
        "2. Store the list into a variable named: lst\n",
        "3. Get unique values from the list"
      ]
    },
    {
      "cell_type": "code",
      "execution_count": 19,
      "metadata": {
        "id": "ffRszgPNtPbW",
        "colab": {
          "base_uri": "https://localhost:8080/"
        },
        "outputId": "d74156bc-7dfb-4175-c262-a0dcfedeb530"
      },
      "outputs": [
        {
          "output_type": "execute_result",
          "data": {
            "text/plain": [
              "{42, 58, 209}"
            ]
          },
          "metadata": {},
          "execution_count": 19
        }
      ],
      "source": [
        "### =====                ==== ####\n",
        "###       YOUR CODE HERE      ####\n",
        "### =====                ==== ####\n",
        "lst=[12,13,14,12]\n",
        "set(l)"
      ]
    },
    {
      "cell_type": "markdown",
      "metadata": {
        "id": "AW-r4XFItPba"
      },
      "source": [
        "### Standard math operations"
      ]
    },
    {
      "cell_type": "code",
      "execution_count": 20,
      "metadata": {
        "id": "53pMS8WMtPba",
        "outputId": "a06de068-035c-433f-cd19-9a82d1b7f6cb",
        "colab": {
          "base_uri": "https://localhost:8080/"
        }
      },
      "outputs": [
        {
          "output_type": "stream",
          "name": "stdout",
          "text": [
            "9\n",
            "5\n",
            "14\n",
            "3.5\n",
            "3\n",
            "1\n",
            "49\n"
          ]
        }
      ],
      "source": [
        "print(7 + 2)\n",
        "print(7 - 2)\n",
        "print(7 * 2)\n",
        "print(7 / 2)  # standard division\n",
        "print(7 // 2)  # only the integer part of the division\n",
        "print(7 % 2)  # only the remainder\n",
        "print(7 ** 2)  # squared (power of two)"
      ]
    },
    {
      "cell_type": "markdown",
      "metadata": {
        "id": "7YLr2mnUtPba"
      },
      "source": [
        "### Internal methods of operators"
      ]
    },
    {
      "cell_type": "markdown",
      "metadata": {
        "id": "AfQdnU3otPba"
      },
      "source": [
        "View an object internal methods: the symbols used (>, !=, +, etc.) are actually shorcuts for internal methods (functions) of these objects"
      ]
    },
    {
      "cell_type": "code",
      "execution_count": 21,
      "metadata": {
        "id": "MIOuU5xztPba",
        "outputId": "c7437b56-1876-4878-e3e2-ba5a1ab5366b",
        "colab": {
          "base_uri": "https://localhost:8080/"
        }
      },
      "outputs": [
        {
          "output_type": "stream",
          "name": "stdout",
          "text": [
            "['__abs__', '__add__', '__and__', '__bool__', '__ceil__', '__class__', '__delattr__']\n",
            "['__add__', '__class__', '__class_getitem__', '__contains__', '__delattr__', '__delitem__', '__dir__']\n"
          ]
        }
      ],
      "source": [
        "print(dir(3)[:7])\n",
        "print(dir([1, 2, 3])[:7])"
      ]
    },
    {
      "cell_type": "markdown",
      "metadata": {
        "id": "XVFYN2N2tPba"
      },
      "source": [
        "Use the internal method directly"
      ]
    },
    {
      "cell_type": "code",
      "execution_count": 22,
      "metadata": {
        "id": "x69SYOIWtPba",
        "outputId": "6c80d223-8602-491e-c4ab-12bdef395a2d",
        "colab": {
          "base_uri": "https://localhost:8080/"
        }
      },
      "outputs": [
        {
          "output_type": "stream",
          "name": "stdout",
          "text": [
            "12\n"
          ]
        }
      ],
      "source": [
        "# Integers\n",
        "x = 10\n",
        "y = x.__add__(2)\n",
        "print(y)"
      ]
    },
    {
      "cell_type": "code",
      "execution_count": 23,
      "metadata": {
        "id": "xU3lBR_2tPba",
        "outputId": "fdc29a50-9fb2-4763-a9cd-1d0103644ef1",
        "colab": {
          "base_uri": "https://localhost:8080/"
        }
      },
      "outputs": [
        {
          "output_type": "execute_result",
          "data": {
            "text/plain": [
              "True"
            ]
          },
          "metadata": {},
          "execution_count": 23
        }
      ],
      "source": [
        "# Lists\n",
        "[1, 2, 3].__contains__(2)"
      ]
    },
    {
      "cell_type": "markdown",
      "metadata": {
        "id": "JpZ88BeNtPbW"
      },
      "source": [
        "### Lists operations\n",
        "A list is an iterable (we can extract every element iteratively). There exist 4 very useful methods to work with them."
      ]
    },
    {
      "cell_type": "markdown",
      "metadata": {
        "id": "RoRGWheKtPbW"
      },
      "source": [
        "#### 1. Extracting one or multiple elements"
      ]
    },
    {
      "cell_type": "code",
      "execution_count": 24,
      "metadata": {
        "id": "ROTsor9WtPbW",
        "outputId": "a0e1b064-6273-4b8a-8127-b21c82a055a9",
        "colab": {
          "base_uri": "https://localhost:8080/"
        }
      },
      "outputs": [
        {
          "output_type": "stream",
          "name": "stdout",
          "text": [
            "q1: a\n",
            "q2: b\n",
            "q3: c\n",
            "q4: c\n",
            "q5: b\n",
            "q6.1: ['a', 'b']\n",
            "q6.2: ['a', 'b']\n",
            "q7.1: ['a', 'b', 'c']\n",
            "q7.2: ['a', 'b', 'c']\n",
            "q8: ['b', 'c']\n",
            "q8: ['a', 'b', 'c']\n"
          ]
        }
      ],
      "source": [
        "l = ['a', 'b', 'c']\n",
        "\n",
        "# Q1: Display the first element\n",
        "print('q1:', l[0])\n",
        "# Q2: Display the second element\n",
        "print('q2:', l[1])\n",
        "# Q3: Display the third element\n",
        "print('q3:', l[2])\n",
        "\n",
        "# Q4: Display the last element\n",
        "print('q4:', l[-1])\n",
        "# Q5: Display the before last element\n",
        "print('q5:', l[-2])\n",
        "\n",
        "# Q6.1: Display the first two elements\n",
        "print('q6.1:', l[0:2])\n",
        "# Q6.2: Same, but more canonical\n",
        "print('q6.2:', l[:2])\n",
        "\n",
        "# Q7.1: Display the first three elements\n",
        "print('q7.1:', l[0:3])\n",
        "# Q7.2: Same, but more canonical\n",
        "print('q7.2:', l[:3])\n",
        "\n",
        "# Q8: Display the last two elements\n",
        "print('q8:', l[-2:])\n",
        "# Q9: Display the last three elements\n",
        "print('q8:', l[-3:])\n",
        "\n",
        "# What is the type of the object returned when only a single element is extracted?\n",
        "# What is the type of the object returned when multiple elements are extracted at the same time?"
      ]
    },
    {
      "cell_type": "markdown",
      "metadata": {
        "id": "2cLVReyWtPbW"
      },
      "source": [
        "#### 2. Adding a new element"
      ]
    },
    {
      "cell_type": "code",
      "execution_count": 25,
      "metadata": {
        "id": "jo1tJEFCtPbW",
        "outputId": "eb8e9c39-b61f-4de1-bfa9-d95cadae2fd3",
        "colab": {
          "base_uri": "https://localhost:8080/"
        }
      },
      "outputs": [
        {
          "output_type": "execute_result",
          "data": {
            "text/plain": [
              "['a', 'b', 'c', 'd']"
            ]
          },
          "metadata": {},
          "execution_count": 25
        }
      ],
      "source": [
        "l.append('d')\n",
        "l"
      ]
    },
    {
      "cell_type": "code",
      "execution_count": 26,
      "metadata": {
        "id": "2tsfAMKXtPbW",
        "outputId": "650bd595-2cfe-4252-9c22-772b62feb14a",
        "colab": {
          "base_uri": "https://localhost:8080/"
        }
      },
      "outputs": [
        {
          "output_type": "execute_result",
          "data": {
            "text/plain": [
              "['a', 'b', 'c', 'd', 'e']"
            ]
          },
          "metadata": {},
          "execution_count": 26
        }
      ],
      "source": [
        "l.append('e')\n",
        "l"
      ]
    },
    {
      "cell_type": "markdown",
      "metadata": {
        "id": "s0J805Y4tPbW"
      },
      "source": [
        "Using the method `append` the element is added at the end of the list (which is the most common use case)"
      ]
    },
    {
      "cell_type": "markdown",
      "metadata": {
        "id": "FRQPjfNHtPbW"
      },
      "source": [
        "#### 3. Modifying an element\n",
        "\n",
        "1. You first need to know the position of the element in the list.\n",
        "2. Then you can modify the element located at this position."
      ]
    },
    {
      "cell_type": "code",
      "execution_count": 27,
      "metadata": {
        "id": "17DY0f5ytPbW",
        "outputId": "fe30f03f-b088-4dd7-c29f-23bd8bfe60c4",
        "colab": {
          "base_uri": "https://localhost:8080/"
        }
      },
      "outputs": [
        {
          "output_type": "execute_result",
          "data": {
            "text/plain": [
              "['A', 'b', 'c', 'd', 'e']"
            ]
          },
          "metadata": {},
          "execution_count": 27
        }
      ],
      "source": [
        "# Let's modify the first element\n",
        "l[0] = 'A'\n",
        "l"
      ]
    },
    {
      "cell_type": "code",
      "execution_count": 28,
      "metadata": {
        "id": "rN0Xfo5jtPbW",
        "outputId": "e0410713-122e-4595-d394-dfc743efaf13",
        "colab": {
          "base_uri": "https://localhost:8080/"
        }
      },
      "outputs": [
        {
          "output_type": "execute_result",
          "data": {
            "text/plain": [
              "['A', 'b', 'c', 'd', 'E']"
            ]
          },
          "metadata": {},
          "execution_count": 28
        }
      ],
      "source": [
        "# Let's modify the last element\n",
        "l[-1] = 'E'\n",
        "l"
      ]
    },
    {
      "cell_type": "code",
      "execution_count": 29,
      "metadata": {
        "id": "PkGmIbQstPbW",
        "outputId": "07dc1ce3-2a9f-4c60-90cf-fff6a83bf1fb",
        "colab": {
          "base_uri": "https://localhost:8080/"
        }
      },
      "outputs": [
        {
          "output_type": "execute_result",
          "data": {
            "text/plain": [
              "['A', 'B', 'c', 'd', 'E']"
            ]
          },
          "metadata": {},
          "execution_count": 29
        }
      ],
      "source": [
        "# Let's modify the second element\n",
        "l[1] = 'B'\n",
        "l"
      ]
    },
    {
      "cell_type": "markdown",
      "metadata": {
        "id": "zeOqcVFAtPbW"
      },
      "source": [
        "#### 4. Deleting an element\n",
        "\n",
        "It's actually less common to delete elements belive it or not"
      ]
    },
    {
      "cell_type": "code",
      "execution_count": 30,
      "metadata": {
        "id": "5JfPpgwytPbX",
        "outputId": "c5b8e913-5620-456a-8543-24e9189794bd",
        "colab": {
          "base_uri": "https://localhost:8080/"
        }
      },
      "outputs": [
        {
          "output_type": "execute_result",
          "data": {
            "text/plain": [
              "['B', 'c', 'd', 'E']"
            ]
          },
          "metadata": {},
          "execution_count": 30
        }
      ],
      "source": [
        "# Remove the first element (A)\n",
        "l.pop(0)\n",
        "l"
      ]
    },
    {
      "cell_type": "code",
      "execution_count": 31,
      "metadata": {
        "id": "4d0G90cAtPbX",
        "outputId": "522fcd5f-8f79-4d27-87f1-269afa16171c",
        "colab": {
          "base_uri": "https://localhost:8080/"
        }
      },
      "outputs": [
        {
          "output_type": "execute_result",
          "data": {
            "text/plain": [
              "['c', 'd', 'E']"
            ]
          },
          "metadata": {},
          "execution_count": 31
        }
      ],
      "source": [
        "# Remove the first element (B), since the very first (A) has already been deleted\n",
        "l.pop(0)\n",
        "l"
      ]
    },
    {
      "cell_type": "markdown",
      "metadata": {
        "id": "aKoBvnpjtPbX"
      },
      "source": [
        "In summary, when working with lists the location of elements in the list is a fundamental information.\n",
        "\n",
        "The dictionnaries have a totally different behavior: the key is used to locate elements (respective values), but there is no such thing as a position / location."
      ]
    },
    {
      "cell_type": "markdown",
      "source": [
        "#### Exercises!"
      ],
      "metadata": {
        "id": "bmycQbInLqka"
      }
    },
    {
      "cell_type": "markdown",
      "metadata": {
        "id": "110451bd"
      },
      "source": [
        "Question\n",
        "\n",
        "1. Create a list named 'fruits' containing the elements \"apple\", \"banana\", and \"cherry\".\n"
      ]
    },
    {
      "cell_type": "code",
      "execution_count": 32,
      "metadata": {
        "id": "cc6ddf80"
      },
      "outputs": [],
      "source": [
        "### =====                ==== ####\n",
        "###       YOUR CODE HERE      ####\n",
        "### =====                ==== ####\n",
        "fruits=['apple','banana','cherry']"
      ]
    },
    {
      "cell_type": "markdown",
      "metadata": {
        "id": "6a3b3421"
      },
      "source": [
        "Question\n",
        "\n",
        "2. Access the first element of the list 'fruits' and assign it to a variable named 'first_fruit'.\n"
      ]
    },
    {
      "cell_type": "code",
      "execution_count": 33,
      "metadata": {
        "id": "e6a81a47",
        "colab": {
          "base_uri": "https://localhost:8080/"
        },
        "outputId": "f8a076a6-c868-427a-bf5d-81b0ed6e6138"
      },
      "outputs": [
        {
          "output_type": "stream",
          "name": "stdout",
          "text": [
            "apple\n"
          ]
        }
      ],
      "source": [
        "### =====                ==== ####\n",
        "###       YOUR CODE HERE      ####\n",
        "### =====                ==== ####\n",
        "first_fruit=fruits[0]\n",
        "print(first_fruit)"
      ]
    },
    {
      "cell_type": "markdown",
      "metadata": {
        "id": "c1c6a1e6"
      },
      "source": [
        "Question\n",
        "\n",
        "3. Change the second element of the list 'fruits' to \"orange\".\n"
      ]
    },
    {
      "cell_type": "code",
      "execution_count": 34,
      "metadata": {
        "id": "ff9f209f",
        "colab": {
          "base_uri": "https://localhost:8080/"
        },
        "outputId": "783c5d7f-83c0-43d2-88d0-efdf2d917cb9"
      },
      "outputs": [
        {
          "output_type": "execute_result",
          "data": {
            "text/plain": [
              "['apple', 'orange', 'cherry']"
            ]
          },
          "metadata": {},
          "execution_count": 34
        }
      ],
      "source": [
        "### =====                ==== ####\n",
        "###       YOUR CODE HERE      ####\n",
        "### =====                ==== ####\n",
        "fruits[1]='orange'\n",
        "fruits"
      ]
    },
    {
      "cell_type": "markdown",
      "metadata": {
        "id": "acb63f27"
      },
      "source": [
        "Question\n",
        "\n",
        "4. Add \"grape\" to the end of the list 'fruits'.\n"
      ]
    },
    {
      "cell_type": "code",
      "execution_count": 35,
      "metadata": {
        "id": "c33312d9",
        "colab": {
          "base_uri": "https://localhost:8080/"
        },
        "outputId": "3da20dc3-f513-4f06-f288-56b441f78e56"
      },
      "outputs": [
        {
          "output_type": "execute_result",
          "data": {
            "text/plain": [
              "['apple', 'orange', 'cherry', 'grape']"
            ]
          },
          "metadata": {},
          "execution_count": 35
        }
      ],
      "source": [
        "### =====                ==== ####\n",
        "###       YOUR CODE HERE      ####\n",
        "### =====                ==== ####\n",
        "\n",
        "fruits.append('grape')\n",
        "fruits"
      ]
    },
    {
      "cell_type": "markdown",
      "metadata": {
        "id": "b8a75186"
      },
      "source": [
        "Question\n",
        "\n",
        "5. Insert \"kiwi\" as the second element in the list 'fruits'.\n"
      ]
    },
    {
      "cell_type": "code",
      "execution_count": 36,
      "metadata": {
        "id": "961702d2"
      },
      "outputs": [],
      "source": [
        "### =====                ==== ####\n",
        "###       YOUR CODE HERE      ####\n",
        "### =====                ==== ####\n",
        "fruits.insert(1,'kiwi')"
      ]
    },
    {
      "cell_type": "markdown",
      "metadata": {
        "id": "2677c12a"
      },
      "source": [
        "Question\n",
        "\n",
        "6. Remove \"banana\" from the list 'fruits'.\n"
      ]
    },
    {
      "cell_type": "code",
      "execution_count": 37,
      "metadata": {
        "id": "0e376eb6",
        "colab": {
          "base_uri": "https://localhost:8080/"
        },
        "outputId": "8bc102aa-f632-4761-fa32-066cc6498b19"
      },
      "outputs": [
        {
          "output_type": "execute_result",
          "data": {
            "text/plain": [
              "['apple', 'kiwi', 'orange', 'cherry', 'grape']"
            ]
          },
          "metadata": {},
          "execution_count": 37
        }
      ],
      "source": [
        "### =====                ==== ####\n",
        "###       YOUR CODE HERE      ####\n",
        "### =====                ==== ####\n",
        "fruits"
      ]
    },
    {
      "cell_type": "markdown",
      "metadata": {
        "id": "180466fc"
      },
      "source": [
        "Question\n",
        "\n",
        "7. Remove the last element from the list 'fruits' using the pop method.\n"
      ]
    },
    {
      "cell_type": "code",
      "execution_count": 38,
      "metadata": {
        "id": "228301d3",
        "colab": {
          "base_uri": "https://localhost:8080/"
        },
        "outputId": "7aa16ccc-7204-4e81-94c6-6470604e8c68"
      },
      "outputs": [
        {
          "output_type": "execute_result",
          "data": {
            "text/plain": [
              "['apple', 'kiwi', 'orange', 'cherry']"
            ]
          },
          "metadata": {},
          "execution_count": 38
        }
      ],
      "source": [
        "### =====                ==== ####\n",
        "###       YOUR CODE HERE      ####\n",
        "### =====                ==== ####\n",
        "fruits.pop(-1)\n",
        "fruits"
      ]
    },
    {
      "cell_type": "markdown",
      "metadata": {
        "id": "e6bd682f"
      },
      "source": [
        "Question\n",
        "\n",
        "8. Create a list of numbers from 1 to 5 named 'numbers'.\n"
      ]
    },
    {
      "cell_type": "code",
      "execution_count": 39,
      "metadata": {
        "id": "2329d1ed",
        "colab": {
          "base_uri": "https://localhost:8080/"
        },
        "outputId": "0cb0dcce-9ae2-4966-f6a6-0793406ad89c"
      },
      "outputs": [
        {
          "output_type": "execute_result",
          "data": {
            "text/plain": [
              "[1, 2, 3, 4, 5]"
            ]
          },
          "metadata": {},
          "execution_count": 39
        }
      ],
      "source": [
        "### =====                ==== ####\n",
        "###       YOUR CODE HERE      ####\n",
        "### =====                ==== ####\n",
        "numbers=[1,2,3,4,5]\n",
        "numbers"
      ]
    },
    {
      "cell_type": "markdown",
      "metadata": {
        "id": "5f7dde94"
      },
      "source": [
        "Question\n",
        "\n",
        "9. Find the length of the list 'numbers' and store it in a variable called 'length'.\n"
      ]
    },
    {
      "cell_type": "code",
      "execution_count": 40,
      "metadata": {
        "id": "b52bc433",
        "colab": {
          "base_uri": "https://localhost:8080/"
        },
        "outputId": "07d1fc63-6a0d-4867-ccfe-fd2d194a4d2c"
      },
      "outputs": [
        {
          "output_type": "stream",
          "name": "stdout",
          "text": [
            "5\n"
          ]
        }
      ],
      "source": [
        "### =====                ==== ####\n",
        "###       YOUR CODE HERE      ####\n",
        "### =====                ==== ####\n",
        "length=len(numbers)\n",
        "print(length)"
      ]
    },
    {
      "cell_type": "markdown",
      "metadata": {
        "id": "a7320b23"
      },
      "source": [
        "Question\n",
        "\n",
        "10. Use list indexing to get the last element of 'numbers'.\n"
      ]
    },
    {
      "cell_type": "code",
      "execution_count": 41,
      "metadata": {
        "id": "ba76e0dc",
        "colab": {
          "base_uri": "https://localhost:8080/"
        },
        "outputId": "d39ee6af-a3df-4dbc-b392-4676b7ca77f4"
      },
      "outputs": [
        {
          "output_type": "execute_result",
          "data": {
            "text/plain": [
              "5"
            ]
          },
          "metadata": {},
          "execution_count": 41
        }
      ],
      "source": [
        "### =====                ==== ####\n",
        "###       YOUR CODE HERE      ####\n",
        "### =====                ==== ####\n",
        "numbers[-1]"
      ]
    },
    {
      "cell_type": "markdown",
      "metadata": {
        "id": "4789b1b4"
      },
      "source": [
        "Question\n",
        "\n",
        "11. Concatenate two lists: a = [1, 2, 3] and b = [4, 5, 6] into a new list 'c'.\n"
      ]
    },
    {
      "cell_type": "code",
      "execution_count": 42,
      "metadata": {
        "id": "85e4b6b3",
        "colab": {
          "base_uri": "https://localhost:8080/"
        },
        "outputId": "6522e248-3b19-4cfd-9fd7-9e39c088c908"
      },
      "outputs": [
        {
          "output_type": "execute_result",
          "data": {
            "text/plain": [
              "[1, 2, 3, 4, 5, 6]"
            ]
          },
          "metadata": {},
          "execution_count": 42
        }
      ],
      "source": [
        "### =====                ==== ####\n",
        "###       YOUR CODE HERE      ####\n",
        "### =====                ==== ####\n",
        "a=[1,2,3]\n",
        "b=[4,5,6]\n",
        "c=a+b\n",
        "c"
      ]
    },
    {
      "cell_type": "markdown",
      "metadata": {
        "id": "41f08f7b"
      },
      "source": [
        "Question\n",
        "\n",
        "12. Repeat the list [0] five times and store the result in a variable named 'zeros'.\n"
      ]
    },
    {
      "cell_type": "code",
      "execution_count": 43,
      "metadata": {
        "id": "231e5720",
        "colab": {
          "base_uri": "https://localhost:8080/"
        },
        "outputId": "025b954b-98d4-462b-836b-279f158e8453"
      },
      "outputs": [
        {
          "output_type": "execute_result",
          "data": {
            "text/plain": [
              "[0, 0, 0]"
            ]
          },
          "metadata": {},
          "execution_count": 43
        }
      ],
      "source": [
        "### =====                ==== ####\n",
        "###       YOUR CODE HERE      ####\n",
        "### =====                ==== ####\n",
        "l=[0]\n",
        "zeros=l*3\n",
        "zeros"
      ]
    },
    {
      "cell_type": "markdown",
      "metadata": {
        "id": "f18be103"
      },
      "source": [
        "Question\n",
        "\n",
        "13. Create a list 'mixed' that contains an integer, a string, and a float.\n"
      ]
    },
    {
      "cell_type": "code",
      "execution_count": 44,
      "metadata": {
        "id": "7cce853b",
        "colab": {
          "base_uri": "https://localhost:8080/"
        },
        "outputId": "a4743cd3-2143-4926-ffe4-e3ec34913b62"
      },
      "outputs": [
        {
          "output_type": "execute_result",
          "data": {
            "text/plain": [
              "[1, 2.0, '3']"
            ]
          },
          "metadata": {},
          "execution_count": 44
        }
      ],
      "source": [
        "### =====                ==== ####\n",
        "###       YOUR CODE HERE      ####\n",
        "### =====                ==== ####\n",
        "mixed=[1,2.0,'3']\n",
        "mixed"
      ]
    },
    {
      "cell_type": "markdown",
      "metadata": {
        "id": "44a23ff0"
      },
      "source": [
        "Question\n",
        "\n",
        "14. Slice the list numbers = [10, 20, 30, 40, 50] to get only the first three elements.\n"
      ]
    },
    {
      "cell_type": "code",
      "execution_count": 45,
      "metadata": {
        "id": "c8da5c93",
        "colab": {
          "base_uri": "https://localhost:8080/"
        },
        "outputId": "f44929ec-3fb0-47f1-cbfb-86ea5fe1029d"
      },
      "outputs": [
        {
          "output_type": "stream",
          "name": "stdout",
          "text": [
            "[10, 20, 30]\n"
          ]
        }
      ],
      "source": [
        "### =====                ==== ####\n",
        "###       YOUR CODE HERE      ####\n",
        "### =====                ==== ####\n",
        "numbers=[10,20,30,40,50]\n",
        "print(numbers[:3])"
      ]
    },
    {
      "cell_type": "markdown",
      "metadata": {
        "id": "5828ed66"
      },
      "source": [
        "Question\n",
        "\n",
        "15. Slice the list numbers to get only the last two elements.\n"
      ]
    },
    {
      "cell_type": "code",
      "execution_count": 46,
      "metadata": {
        "id": "bb608d54",
        "colab": {
          "base_uri": "https://localhost:8080/"
        },
        "outputId": "646504ca-497c-419b-8acf-fa675d323ddc"
      },
      "outputs": [
        {
          "output_type": "stream",
          "name": "stdout",
          "text": [
            "[40, 50]\n"
          ]
        }
      ],
      "source": [
        "### =====                ==== ####\n",
        "###       YOUR CODE HERE      ####\n",
        "### =====                ==== ####\n",
        "print(numbers[-2:])"
      ]
    },
    {
      "cell_type": "markdown",
      "metadata": {
        "id": "a759fde4"
      },
      "source": [
        "Question\n",
        "\n",
        "16. Create a new list named 'squares' that contains the square of 1, 2, 3, and 4 (i.e. [1, 4, 9, 16]).\n"
      ]
    },
    {
      "cell_type": "code",
      "execution_count": 47,
      "metadata": {
        "id": "fe5c546c",
        "colab": {
          "base_uri": "https://localhost:8080/"
        },
        "outputId": "b8aa278e-dece-45be-bf37-1cb08d4815f3"
      },
      "outputs": [
        {
          "output_type": "stream",
          "name": "stdout",
          "text": [
            "[1, 4, 9, 16]\n"
          ]
        }
      ],
      "source": [
        "### =====                ==== ####\n",
        "###       YOUR CODE HERE      ####\n",
        "### =====                ==== ####\n",
        "lst = [1, 2, 3, 4]\n",
        "squares = []\n",
        "\n",
        "for n in lst:\n",
        "    squares.append(n ** 2)\n",
        "\n",
        "print(squares)"
      ]
    },
    {
      "cell_type": "markdown",
      "metadata": {
        "id": "2eec139f"
      },
      "source": [
        "Question\n",
        "\n",
        "17. Check if \"apple\" is in the list 'fruits' and store the result in a variable 'has_apple'.\n"
      ]
    },
    {
      "cell_type": "code",
      "execution_count": 48,
      "metadata": {
        "id": "377ecd54",
        "colab": {
          "base_uri": "https://localhost:8080/"
        },
        "outputId": "2606bebe-2bc9-439c-d1ac-992211dda3ff"
      },
      "outputs": [
        {
          "output_type": "stream",
          "name": "stdout",
          "text": [
            "True\n"
          ]
        }
      ],
      "source": [
        "### =====                ==== ####\n",
        "###       YOUR CODE HERE      ####\n",
        "### =====                ==== ####\n",
        "has_apple = \"apple\" in fruits\n",
        "print(has_apple)\n"
      ]
    },
    {
      "cell_type": "markdown",
      "metadata": {
        "id": "0b655fc6"
      },
      "source": [
        "Question\n",
        "\n",
        "18. Sort the list numbers = [3, 1, 4, 2] in ascending order.\n"
      ]
    },
    {
      "cell_type": "code",
      "execution_count": 49,
      "metadata": {
        "id": "3956ce6d",
        "colab": {
          "base_uri": "https://localhost:8080/"
        },
        "outputId": "fc369205-3ae4-420f-e0f3-5e737823f5d7"
      },
      "outputs": [
        {
          "output_type": "execute_result",
          "data": {
            "text/plain": [
              "[1, 2, 3, 4]"
            ]
          },
          "metadata": {},
          "execution_count": 49
        }
      ],
      "source": [
        "### =====                ==== ####\n",
        "###       YOUR CODE HERE      ####\n",
        "### =====                ==== ####\n",
        "numbers=[3,1,4,2]\n",
        "numbers.sort()\n",
        "numbers"
      ]
    },
    {
      "cell_type": "markdown",
      "metadata": {
        "id": "01f3e28a"
      },
      "source": [
        "Question\n",
        "\n",
        "19. Reverse the list 'numbers' so it becomes [2, 4, 1, 3].\n"
      ]
    },
    {
      "cell_type": "code",
      "execution_count": 50,
      "metadata": {
        "id": "448e6d5c",
        "colab": {
          "base_uri": "https://localhost:8080/"
        },
        "outputId": "db816f4b-e373-455d-ce77-de3a4c398581"
      },
      "outputs": [
        {
          "output_type": "execute_result",
          "data": {
            "text/plain": [
              "[2, 4, 1, 3]"
            ]
          },
          "metadata": {},
          "execution_count": 50
        }
      ],
      "source": [
        "### =====                ==== ####\n",
        "###       YOUR CODE HERE      ####\n",
        "### =====                ==== ####\n",
        "numbers=[3,1,4,2]\n",
        "numbers.reverse()\n",
        "numbers"
      ]
    },
    {
      "cell_type": "markdown",
      "metadata": {
        "id": "243d132d"
      },
      "source": [
        "Question\n",
        "\n",
        "20. Use the min and max functions to find the smallest and largest elements in the list numbers = [8, 3, 5, 1, 9]. Store them in variables 'minimum' and 'maximum'.\n"
      ]
    },
    {
      "cell_type": "code",
      "execution_count": 51,
      "metadata": {
        "id": "7c9a01f8",
        "colab": {
          "base_uri": "https://localhost:8080/"
        },
        "outputId": "c7d754ec-4c9f-4587-ed4d-ce19be3419db"
      },
      "outputs": [
        {
          "output_type": "stream",
          "name": "stdout",
          "text": [
            "Maximum: 9\n",
            "Minimum: 1\n"
          ]
        }
      ],
      "source": [
        "### =====                ==== ####\n",
        "###       YOUR CODE HERE      ####\n",
        "### =====                ==== ####\n",
        "numbers=[8,3,5,1,9]\n",
        "maximum = max(numbers)\n",
        "minimum = min(numbers)\n",
        "\n",
        "print(\"Maximum:\", maximum)\n",
        "print(\"Minimum:\", minimum)\n"
      ]
    },
    {
      "cell_type": "markdown",
      "metadata": {
        "id": "c96L2TRbtPbX"
      },
      "source": [
        "### Dictionaries\n",
        "\n",
        "Ensemble of pairs: (key, value)\n",
        "\n",
        "You should not consider dictionaries as **ordered** iterators. They don't have order. They have **keys** to refer to values instead.\n",
        "\n",
        "Let's see different ways to create the dictionary as per PEP8 conventions. These produce exactly the same result."
      ]
    },
    {
      "cell_type": "code",
      "execution_count": 52,
      "metadata": {
        "id": "n_GAYJ8otPbX",
        "outputId": "393406fb-53a5-493e-cd36-757c5beafef9",
        "colab": {
          "base_uri": "https://localhost:8080/"
        }
      },
      "outputs": [
        {
          "output_type": "execute_result",
          "data": {
            "text/plain": [
              "{'surname': ['jp', 'pa', 'ma', 'fo'],\n",
              " 'name': ['aba', 'chd', 'oih', 'iouh'],\n",
              " 'age': [12, 23, 40, 8]}"
            ]
          },
          "metadata": {},
          "execution_count": 52
        }
      ],
      "source": [
        "dico = {'surname': ['jp', 'pa', 'ma', 'fo'], 'name': ['aba', 'chd', 'oih', 'iouh'], 'age': [12, 23, 40, 8]}\n",
        "\n",
        "dico = {'surname': ['jp', 'pa', 'ma', 'fo'],\n",
        "        'name': ['aba', 'chd', 'oih', 'iouh'],\n",
        "        'age': [12, 23, 40, 8]}\n",
        "\n",
        "dico = {\n",
        "    'surname': ['jp', 'pa', 'ma', 'fo'],\n",
        "    'name': ['aba', 'chd', 'oih', 'iouh'],\n",
        "    'age': [12, 23, 40, 8],\n",
        "}\n",
        "\n",
        "dico"
      ]
    },
    {
      "cell_type": "markdown",
      "metadata": {
        "id": "oYLMZooXtPbX"
      },
      "source": [
        "--------------------------------\n",
        "Question\n",
        "\n",
        "1. Create a dictionary named 'transactions' containing:\n",
        "    - keys: date and amount\n",
        "    - with respective values:\n",
        "      - 2025-09-01 and 2025-09-02\n",
        "      - 1200 and 5000"
      ]
    },
    {
      "cell_type": "code",
      "execution_count": 53,
      "metadata": {
        "id": "Bi7Vn5EYtPbX",
        "colab": {
          "base_uri": "https://localhost:8080/"
        },
        "outputId": "9e70c3fd-2458-42d6-d814-9d28959cd773"
      },
      "outputs": [
        {
          "output_type": "execute_result",
          "data": {
            "text/plain": [
              "{'date': ['2025-09-1', '2025-09-2'], 'amount': [1200, 1500]}"
            ]
          },
          "metadata": {},
          "execution_count": 53
        }
      ],
      "source": [
        "### =====                ==== ####\n",
        "###       YOUR CODE HERE      ####\n",
        "### =====                ==== ####\n",
        "transactions={'date':['2025-09-1', '2025-09-2'],'amount':[1200,1500]}\n",
        "transactions\n"
      ]
    },
    {
      "cell_type": "markdown",
      "metadata": {
        "id": "xOy0cj1mtPbX"
      },
      "source": [
        "Question\n",
        "\n",
        "1. Create a dictionary named 'dico_stu' containing:\n",
        "    - keys: pilou, balo, pata, mani, tika\n",
        "    - respective values of their age: 120, 140, 145, 110, 115\n",
        "\n",
        "Becareful the form of this dictionary is different from above:\n",
        "- In the above example there are 2 keys with 2 values each respectivelly\n",
        "- In this question there are 5 keys with 1 value each only (each person has only 1 age)"
      ]
    },
    {
      "cell_type": "code",
      "execution_count": 54,
      "metadata": {
        "id": "f97RQPxktPbX",
        "colab": {
          "base_uri": "https://localhost:8080/"
        },
        "outputId": "dd30f299-ad7d-4a00-f154-01e3b29da50d"
      },
      "outputs": [
        {
          "output_type": "execute_result",
          "data": {
            "text/plain": [
              "{'pilou': 120, 'balo': 140, 'pata': 145, 'mani': 110, 'tika': 115}"
            ]
          },
          "metadata": {},
          "execution_count": 54
        }
      ],
      "source": [
        "### =====                ==== ####\n",
        "###       YOUR CODE HERE      ####\n",
        "### =====                ==== ####\n",
        "dico_stu={'pilou':120,'balo':140,'pata':145,'mani':110,'tika':115}\n",
        "dico_stu\n"
      ]
    },
    {
      "cell_type": "markdown",
      "metadata": {
        "id": "SehOwR-utPbX"
      },
      "source": [
        "#### Extract info from dictionary"
      ]
    },
    {
      "cell_type": "markdown",
      "metadata": {
        "id": "W1TEvODctPbX"
      },
      "source": [
        "It's great to know how to store information in a structure like a dictionnary. It's even better to know how to extract the information previously stored."
      ]
    },
    {
      "cell_type": "code",
      "execution_count": 55,
      "metadata": {
        "id": "uPgHmARytPbX",
        "outputId": "e8df0989-1ace-45a7-ee05-4f6585e4f0e2",
        "colab": {
          "base_uri": "https://localhost:8080/"
        }
      },
      "outputs": [
        {
          "output_type": "execute_result",
          "data": {
            "text/plain": [
              "['jp', 'pa', 'ma', 'fo']"
            ]
          },
          "metadata": {},
          "execution_count": 55
        }
      ],
      "source": [
        "# Extract / get the surnames in dico\n",
        "dico['surname']"
      ]
    },
    {
      "cell_type": "code",
      "execution_count": 56,
      "metadata": {
        "id": "w5vHdr0ztPbX",
        "outputId": "e0fc2bdb-b8e8-4eaa-b336-fc1bc2b7d5bd",
        "colab": {
          "base_uri": "https://localhost:8080/"
        }
      },
      "outputs": [
        {
          "output_type": "execute_result",
          "data": {
            "text/plain": [
              "['aba', 'chd', 'oih', 'iouh']"
            ]
          },
          "metadata": {},
          "execution_count": 56
        }
      ],
      "source": [
        "# Extract / get the names\n",
        "dico['name']"
      ]
    },
    {
      "cell_type": "markdown",
      "metadata": {
        "id": "b4-jYohhtPbX"
      },
      "source": [
        "We can actually get all the keys or values using the corresponding `method` of dictionnaries"
      ]
    },
    {
      "cell_type": "code",
      "execution_count": 57,
      "metadata": {
        "id": "1VCwNfjXtPbX",
        "outputId": "dd81becb-248b-4d92-fbac-f9a3f92d4453",
        "colab": {
          "base_uri": "https://localhost:8080/"
        }
      },
      "outputs": [
        {
          "output_type": "execute_result",
          "data": {
            "text/plain": [
              "dict_items([('surname', ['jp', 'pa', 'ma', 'fo']), ('name', ['aba', 'chd', 'oih', 'iouh']), ('age', [12, 23, 40, 8])])"
            ]
          },
          "metadata": {},
          "execution_count": 57
        }
      ],
      "source": [
        "# Get everything\n",
        "dico.items()"
      ]
    },
    {
      "cell_type": "code",
      "execution_count": 58,
      "metadata": {
        "id": "lJvLBanBtPbX",
        "outputId": "34aa62ae-b25f-41cd-ef3f-e8ff3868bee6",
        "colab": {
          "base_uri": "https://localhost:8080/"
        }
      },
      "outputs": [
        {
          "output_type": "execute_result",
          "data": {
            "text/plain": [
              "dict_keys(['surname', 'name', 'age'])"
            ]
          },
          "metadata": {},
          "execution_count": 58
        }
      ],
      "source": [
        "# Get the keys only\n",
        "dico.keys()"
      ]
    },
    {
      "cell_type": "code",
      "execution_count": 59,
      "metadata": {
        "id": "LARaL5HJtPbX",
        "outputId": "703571a9-5918-4fda-ff4e-196bd7b12afb",
        "colab": {
          "base_uri": "https://localhost:8080/"
        }
      },
      "outputs": [
        {
          "output_type": "execute_result",
          "data": {
            "text/plain": [
              "dict_values([['jp', 'pa', 'ma', 'fo'], ['aba', 'chd', 'oih', 'iouh'], [12, 23, 40, 8]])"
            ]
          },
          "metadata": {},
          "execution_count": 59
        }
      ],
      "source": [
        "# Get the values only\n",
        "dico.values()"
      ]
    },
    {
      "cell_type": "markdown",
      "metadata": {
        "id": "FqDc1DYXtPbX"
      },
      "source": [
        "#### Add info to dicotionary"
      ]
    },
    {
      "cell_type": "code",
      "execution_count": 60,
      "metadata": {
        "id": "LxJ_Z-LstPbX"
      },
      "outputs": [],
      "source": [
        "# Add a key with its value\n",
        "dico['origin'] = 'earth'"
      ]
    },
    {
      "cell_type": "code",
      "execution_count": 61,
      "metadata": {
        "id": "GqtvMwAXtPbX"
      },
      "outputs": [],
      "source": [
        "# Add value to existing key\n",
        "# Possible only if the corresponding value is contained in a list\n",
        "# (which is the case here, with the key age containing multiple values stored as a list)\n",
        "dico['age'].append(43)"
      ]
    },
    {
      "cell_type": "code",
      "execution_count": 62,
      "metadata": {
        "id": "fAIsTz2stPbY",
        "outputId": "1fac6386-7221-43d0-b018-9b382e18c4e5",
        "colab": {
          "base_uri": "https://localhost:8080/"
        }
      },
      "outputs": [
        {
          "output_type": "execute_result",
          "data": {
            "text/plain": [
              "{'surname': ['jp', 'pa', 'ma', 'fo'],\n",
              " 'name': ['aba', 'chd', 'oih', 'iouh'],\n",
              " 'age': [12, 23, 40, 8, 43],\n",
              " 'origin': 'earth'}"
            ]
          },
          "metadata": {},
          "execution_count": 62
        }
      ],
      "source": [
        "# Check the modifications\n",
        "dico"
      ]
    },
    {
      "cell_type": "markdown",
      "metadata": {
        "id": "gnrj3alVtPbY"
      },
      "source": [
        "We observe that lists of the dictionary do not need to be of same length.\n",
        "\n",
        "Actually, the values in a dictionnary can be of any type."
      ]
    },
    {
      "cell_type": "code",
      "execution_count": 63,
      "metadata": {
        "id": "XKiEUU2gtPbY"
      },
      "outputs": [],
      "source": [
        "# Let's store a single character (str)\n",
        "dico['country'] = 'a'"
      ]
    },
    {
      "cell_type": "code",
      "execution_count": 64,
      "metadata": {
        "id": "8B_DN895tPbY",
        "outputId": "f3c9deec-4296-49f8-b2e0-553fb61f4f58",
        "colab": {
          "base_uri": "https://localhost:8080/"
        }
      },
      "outputs": [
        {
          "output_type": "execute_result",
          "data": {
            "text/plain": [
              "{'surname': ['jp', 'pa', 'ma', 'fo'],\n",
              " 'name': ['aba', 'chd', 'oih', 'iouh'],\n",
              " 'age': [12, 23, 40, 8, 43],\n",
              " 'origin': 'earth',\n",
              " 'country': 'a'}"
            ]
          },
          "metadata": {},
          "execution_count": 64
        }
      ],
      "source": [
        "dico"
      ]
    },
    {
      "cell_type": "code",
      "execution_count": 65,
      "metadata": {
        "id": "SnBI3YG5tPbY"
      },
      "outputs": [],
      "source": [
        "# Let's replace existing key/values (the dumb 'a' added above)\n",
        "dico['country'] = ['fr', 'gb', 'us', 'es']"
      ]
    },
    {
      "cell_type": "code",
      "execution_count": 66,
      "metadata": {
        "id": "Wq2naKxytPbY",
        "outputId": "277c707d-45a1-4e30-a319-a1cfc9fde80d",
        "colab": {
          "base_uri": "https://localhost:8080/"
        }
      },
      "outputs": [
        {
          "output_type": "execute_result",
          "data": {
            "text/plain": [
              "{'surname': ['jp', 'pa', 'ma', 'fo'],\n",
              " 'name': ['aba', 'chd', 'oih', 'iouh'],\n",
              " 'age': [12, 23, 40, 8, 43],\n",
              " 'origin': 'earth',\n",
              " 'country': ['fr', 'gb', 'us', 'es']}"
            ]
          },
          "metadata": {},
          "execution_count": 66
        }
      ],
      "source": [
        "dico"
      ]
    },
    {
      "cell_type": "code",
      "execution_count": 67,
      "metadata": {
        "id": "_ihphSswtPbY"
      },
      "outputs": [],
      "source": [
        "# Add a new key with a function as value\n",
        "# This is only to show you that a value can contain anything in a dictionnary\n",
        "dico['objects'] = print\n",
        "\n",
        "# You can see that we wrote 'print' instead of 'print()'.\n",
        "# Adding parenthesis after the name of the function is only used to execute the function.\n",
        "# Here we only wanted to add the reference of the function (instead of executing the function)."
      ]
    },
    {
      "cell_type": "code",
      "execution_count": 68,
      "metadata": {
        "id": "T-9CMkFGtPbY",
        "outputId": "b3c18539-b547-402a-9702-fcc588df6186",
        "colab": {
          "base_uri": "https://localhost:8080/"
        }
      },
      "outputs": [
        {
          "output_type": "execute_result",
          "data": {
            "text/plain": [
              "{'surname': ['jp', 'pa', 'ma', 'fo'],\n",
              " 'name': ['aba', 'chd', 'oih', 'iouh'],\n",
              " 'age': [12, 23, 40, 8, 43],\n",
              " 'origin': 'earth',\n",
              " 'country': ['fr', 'gb', 'us', 'es'],\n",
              " 'objects': <function print(*args, sep=' ', end='\\n', file=None, flush=False)>}"
            ]
          },
          "metadata": {},
          "execution_count": 68
        }
      ],
      "source": [
        "dico"
      ]
    },
    {
      "cell_type": "markdown",
      "source": [
        "#### Exercises!"
      ],
      "metadata": {
        "id": "g5gYqg6tUSru"
      }
    },
    {
      "cell_type": "markdown",
      "metadata": {
        "id": "xHA64NgQSzD9"
      },
      "source": [
        "Question\n",
        "\n",
        "Print the list of all ages stored in the dictionary."
      ]
    },
    {
      "cell_type": "code",
      "metadata": {
        "id": "6d4wO_LRSzD9",
        "colab": {
          "base_uri": "https://localhost:8080/"
        },
        "outputId": "6999d88c-3ab3-44cb-c90d-27bf8d03b907"
      },
      "execution_count": 69,
      "outputs": [
        {
          "output_type": "execute_result",
          "data": {
            "text/plain": [
              "[12, 23, 40, 8, 43]"
            ]
          },
          "metadata": {},
          "execution_count": 69
        }
      ],
      "source": [
        "### =====                ==== ####\n",
        "###       YOUR CODE HERE      ####\n",
        "### =====                ==== ####\n",
        "dico['age']"
      ]
    },
    {
      "cell_type": "markdown",
      "metadata": {
        "id": "2u6xPhBbSzD9"
      },
      "source": [
        "Question\n",
        "\n",
        "Access and print the first element of the `surname` list."
      ]
    },
    {
      "cell_type": "code",
      "metadata": {
        "id": "8Fm1e9LRSzD9",
        "colab": {
          "base_uri": "https://localhost:8080/",
          "height": 35
        },
        "outputId": "2e58c756-c63b-449a-fd4e-97a031910205"
      },
      "execution_count": 70,
      "outputs": [
        {
          "output_type": "execute_result",
          "data": {
            "text/plain": [
              "'jp'"
            ],
            "application/vnd.google.colaboratory.intrinsic+json": {
              "type": "string"
            }
          },
          "metadata": {},
          "execution_count": 70
        }
      ],
      "source": [
        "### =====                ==== ####\n",
        "###       YOUR CODE HERE      ####\n",
        "### =====                ==== ####\n",
        "dico['surname'][0]"
      ]
    },
    {
      "cell_type": "markdown",
      "metadata": {
        "id": "jGV7Zz-iSzD9"
      },
      "source": [
        "Question\n",
        "\n",
        "Access and print the last element of the `name` list."
      ]
    },
    {
      "cell_type": "code",
      "metadata": {
        "id": "1qhnNjGOSzD9",
        "colab": {
          "base_uri": "https://localhost:8080/",
          "height": 35
        },
        "outputId": "ab2ad193-0855-4d91-f0e7-3ece2f03df10"
      },
      "execution_count": 71,
      "outputs": [
        {
          "output_type": "execute_result",
          "data": {
            "text/plain": [
              "'iouh'"
            ],
            "application/vnd.google.colaboratory.intrinsic+json": {
              "type": "string"
            }
          },
          "metadata": {},
          "execution_count": 71
        }
      ],
      "source": [
        "### =====                ==== ####\n",
        "###       YOUR CODE HERE      ####\n",
        "### =====                ==== ####\n",
        "dico['name'][-1]"
      ]
    },
    {
      "cell_type": "markdown",
      "metadata": {
        "id": "Dq8ckc37SzD9"
      },
      "source": [
        "Question\n",
        "\n",
        "Access and print the maximum age from the `age` list."
      ]
    },
    {
      "cell_type": "code",
      "metadata": {
        "id": "A7h5fP-TSzD9",
        "colab": {
          "base_uri": "https://localhost:8080/"
        },
        "outputId": "3b4a59ce-50ec-4293-9a63-d32ebc7449a3"
      },
      "execution_count": 72,
      "outputs": [
        {
          "output_type": "execute_result",
          "data": {
            "text/plain": [
              "43"
            ]
          },
          "metadata": {},
          "execution_count": 72
        }
      ],
      "source": [
        "### =====                ==== ####\n",
        "###       YOUR CODE HERE      ####\n",
        "### =====                ==== ####\n",
        "max(dico['age'])"
      ]
    },
    {
      "cell_type": "markdown",
      "metadata": {
        "id": "S74VBqOcSzD9"
      },
      "source": [
        "Question\n",
        "\n",
        "Access and print the minimum age from the `age` list."
      ]
    },
    {
      "cell_type": "code",
      "metadata": {
        "id": "elA7xnS6SzD9",
        "colab": {
          "base_uri": "https://localhost:8080/"
        },
        "outputId": "8d3caed7-2a14-4762-94d8-d6e7da3d6829"
      },
      "execution_count": 73,
      "outputs": [
        {
          "output_type": "execute_result",
          "data": {
            "text/plain": [
              "8"
            ]
          },
          "metadata": {},
          "execution_count": 73
        }
      ],
      "source": [
        "### =====                ==== ####\n",
        "###       YOUR CODE HERE      ####\n",
        "### =====                ==== ####\n",
        "min(dico['age'])"
      ]
    },
    {
      "cell_type": "markdown",
      "metadata": {
        "id": "E5umCbsKSzD9"
      },
      "source": [
        "Question\n",
        "\n",
        "Add a new key `city` with the values `['Paris','London','NYC','Madrid']`."
      ]
    },
    {
      "cell_type": "code",
      "metadata": {
        "id": "H09rPopuSzD9",
        "colab": {
          "base_uri": "https://localhost:8080/"
        },
        "outputId": "3062da62-d604-4da7-9d94-bfb74488911a"
      },
      "execution_count": 74,
      "outputs": [
        {
          "output_type": "execute_result",
          "data": {
            "text/plain": [
              "{'surname': ['jp', 'pa', 'ma', 'fo'],\n",
              " 'name': ['aba', 'chd', 'oih', 'iouh'],\n",
              " 'age': [12, 23, 40, 8, 43],\n",
              " 'origin': 'earth',\n",
              " 'country': ['fr', 'gb', 'us', 'es'],\n",
              " 'objects': <function print(*args, sep=' ', end='\\n', file=None, flush=False)>,\n",
              " 'city': ['Paris', 'London', 'NYC', 'Madrid']}"
            ]
          },
          "metadata": {},
          "execution_count": 74
        }
      ],
      "source": [
        "### =====                ==== ####\n",
        "###       YOUR CODE HERE      ####\n",
        "### =====                ==== ####\n",
        "dico['city']=['Paris','London','NYC','Madrid']\n",
        "dico"
      ]
    },
    {
      "cell_type": "markdown",
      "metadata": {
        "id": "iJ5HvzvzSzD9"
      },
      "source": [
        "Question\n",
        "\n",
        "Add a new surname `'zi'` with name `'lou'` and age `30` (update all three lists)."
      ]
    },
    {
      "cell_type": "code",
      "metadata": {
        "id": "NoledQlASzD-",
        "colab": {
          "base_uri": "https://localhost:8080/"
        },
        "outputId": "9288ac3c-32d0-471a-e19f-895863dd36ad"
      },
      "execution_count": 75,
      "outputs": [
        {
          "output_type": "execute_result",
          "data": {
            "text/plain": [
              "{'surname': ['jp', 'pa', 'ma', 'fo', 'zi'],\n",
              " 'name': ['aba', 'chd', 'oih', 'iouh', 'lou'],\n",
              " 'age': [12, 23, 40, 8, 43, 30],\n",
              " 'origin': 'earth',\n",
              " 'country': ['fr', 'gb', 'us', 'es'],\n",
              " 'objects': <function print(*args, sep=' ', end='\\n', file=None, flush=False)>,\n",
              " 'city': ['Paris', 'London', 'NYC', 'Madrid']}"
            ]
          },
          "metadata": {},
          "execution_count": 75
        }
      ],
      "source": [
        "### =====                ==== ####\n",
        "###       YOUR CODE HERE      ####\n",
        "### =====                ==== ####\n",
        "dico['surname'].append('zi')\n",
        "dico['name'].append('lou')\n",
        "dico['age'].append(30)\n",
        "dico"
      ]
    },
    {
      "cell_type": "markdown",
      "metadata": {
        "id": "9VkT-e4ySzD-"
      },
      "source": [
        "Question\n",
        "\n",
        "Replace the second element of `surname` with `'xx'`."
      ]
    },
    {
      "cell_type": "code",
      "metadata": {
        "id": "BR7FO8WHSzD-",
        "colab": {
          "base_uri": "https://localhost:8080/"
        },
        "outputId": "b11e9fb4-9224-478b-fe23-beebb53784f4"
      },
      "execution_count": 76,
      "outputs": [
        {
          "output_type": "execute_result",
          "data": {
            "text/plain": [
              "{'surname': ['jp', 'xx', 'ma', 'fo', 'zi'],\n",
              " 'name': ['aba', 'chd', 'oih', 'iouh', 'lou'],\n",
              " 'age': [12, 23, 40, 8, 43, 30],\n",
              " 'origin': 'earth',\n",
              " 'country': ['fr', 'gb', 'us', 'es'],\n",
              " 'objects': <function print(*args, sep=' ', end='\\n', file=None, flush=False)>,\n",
              " 'city': ['Paris', 'London', 'NYC', 'Madrid']}"
            ]
          },
          "metadata": {},
          "execution_count": 76
        }
      ],
      "source": [
        "### =====                ==== ####\n",
        "###       YOUR CODE HERE      ####\n",
        "### =====                ==== ####\n",
        "dico['surname'][1]='xx'\n",
        "dico\n"
      ]
    },
    {
      "cell_type": "markdown",
      "metadata": {
        "id": "tECwhZIaSzD-"
      },
      "source": [
        "Question\n",
        "\n",
        "Replace the last element of `age` with `99`."
      ]
    },
    {
      "cell_type": "code",
      "metadata": {
        "id": "JZB9EArPSzD-",
        "colab": {
          "base_uri": "https://localhost:8080/"
        },
        "outputId": "2ab18131-b587-41f5-d024-a2174812dd5c"
      },
      "execution_count": 77,
      "outputs": [
        {
          "output_type": "execute_result",
          "data": {
            "text/plain": [
              "{'surname': ['jp', 'xx', 'ma', 'fo', 'zi'],\n",
              " 'name': ['aba', 'chd', 'oih', 'iouh', 'lou'],\n",
              " 'age': [12, 23, 40, 8, 43, 99],\n",
              " 'origin': 'earth',\n",
              " 'country': ['fr', 'gb', 'us', 'es'],\n",
              " 'objects': <function print(*args, sep=' ', end='\\n', file=None, flush=False)>,\n",
              " 'city': ['Paris', 'London', 'NYC', 'Madrid']}"
            ]
          },
          "metadata": {},
          "execution_count": 77
        }
      ],
      "source": [
        "### =====                ==== ####\n",
        "###       YOUR CODE HERE      ####\n",
        "### =====                ==== ####\n",
        "dico['age'][-1]=99\n",
        "dico"
      ]
    },
    {
      "cell_type": "markdown",
      "metadata": {
        "id": "32l8xnUqSzD-"
      },
      "source": [
        "Question\n",
        "\n",
        "Remove the third element of `name`."
      ]
    },
    {
      "cell_type": "code",
      "metadata": {
        "id": "J7jd7DkoSzD-",
        "colab": {
          "base_uri": "https://localhost:8080/"
        },
        "outputId": "24418b49-946d-4791-9c67-6376db258cfd"
      },
      "execution_count": 78,
      "outputs": [
        {
          "output_type": "execute_result",
          "data": {
            "text/plain": [
              "{'surname': ['jp', 'xx', 'ma', 'fo', 'zi'],\n",
              " 'name': ['aba', 'chd', 'oih', 'iouh', 'lou'],\n",
              " 'age': [12, 23, 40, 8, 43, 99],\n",
              " 'origin': 'earth',\n",
              " 'country': ['fr', 'gb', 'us', 'es'],\n",
              " 'objects': <function print(*args, sep=' ', end='\\n', file=None, flush=False)>,\n",
              " 'city': ['Paris', 'London', 'NYC', 'Madrid']}"
            ]
          },
          "metadata": {},
          "execution_count": 78
        }
      ],
      "source": [
        "### =====                ==== ####\n",
        "###       YOUR CODE HERE      ####\n",
        "### =====                ==== ####\n",
        "dico\n"
      ]
    },
    {
      "cell_type": "markdown",
      "metadata": {
        "id": "72E5IMiZSzD-"
      },
      "source": [
        "Question\n",
        "\n",
        "Compute the average age from the `age` list."
      ]
    },
    {
      "cell_type": "code",
      "metadata": {
        "id": "XQYe8zqsSzD-",
        "colab": {
          "base_uri": "https://localhost:8080/"
        },
        "outputId": "8c4f41c1-5b23-4c53-afe7-11a766ba30b1"
      },
      "execution_count": 79,
      "outputs": [
        {
          "output_type": "execute_result",
          "data": {
            "text/plain": [
              "37.5"
            ]
          },
          "metadata": {},
          "execution_count": 79
        }
      ],
      "source": [
        "### =====                ==== ####\n",
        "###       YOUR CODE HERE      ####\n",
        "### =====                ==== ####\n",
        "average = sum(dico['age'])/ len(dico['age'])\n",
        "average\n"
      ]
    },
    {
      "cell_type": "markdown",
      "metadata": {
        "id": "8GY5NWh_SzD-"
      },
      "source": [
        "Question\n",
        "\n",
        "Create a list of tuples combining each surname and its corresponding name."
      ]
    },
    {
      "cell_type": "code",
      "metadata": {
        "id": "G5jvqrWoSzD-",
        "colab": {
          "base_uri": "https://localhost:8080/"
        },
        "outputId": "60bca406-f117-4cdb-f577-1e1b9a847e6a"
      },
      "execution_count": 80,
      "outputs": [
        {
          "output_type": "execute_result",
          "data": {
            "text/plain": [
              "[('jp', 'aba'), ('xx', 'chd'), ('ma', 'oih'), ('fo', 'iouh'), ('zi', 'lou')]"
            ]
          },
          "metadata": {},
          "execution_count": 80
        }
      ],
      "source": [
        "### =====                ==== ####\n",
        "###       YOUR CODE HERE      ####\n",
        "### =====                ==== ####\n",
        "combined = list(zip(dico['surname'], dico['name']))\n",
        "combined"
      ]
    },
    {
      "cell_type": "markdown",
      "metadata": {
        "id": "ZogHeHp2SzD-"
      },
      "source": [
        "Question\n",
        "\n",
        "Create a dictionary `ages_dict` where each surname is a key and the corresponding age is the value."
      ]
    },
    {
      "cell_type": "code",
      "metadata": {
        "id": "MAPPWSGXSzD-",
        "colab": {
          "base_uri": "https://localhost:8080/"
        },
        "outputId": "5a6bed5d-cdf9-4329-8179-4d8932c373ba"
      },
      "execution_count": 81,
      "outputs": [
        {
          "output_type": "execute_result",
          "data": {
            "text/plain": [
              "{'jp': 12, 'xx': 23, 'ma': 40, 'fo': 8, 'zi': 43}"
            ]
          },
          "metadata": {},
          "execution_count": 81
        }
      ],
      "source": [
        "### =====                ==== ####\n",
        "###       YOUR CODE HERE      ####\n",
        "### =====                ==== ####\n",
        "ages_dict = dict(zip(dico['surname'], dico['age']))\n",
        "\n",
        "ages_dict"
      ]
    },
    {
      "cell_type": "markdown",
      "source": [],
      "metadata": {
        "id": "wO6X06Szd524"
      }
    },
    {
      "cell_type": "markdown",
      "metadata": {
        "id": "jNxJo-osd5Je"
      },
      "source": [
        "Question\n",
        "\n",
        "Create a dictionary `ages_dict` where each surname is a key and the corresponding age is the value."
      ]
    },
    {
      "cell_type": "markdown",
      "metadata": {
        "id": "D7mj20mWd4UR"
      },
      "source": [
        "Question\n",
        "\n",
        "Create a dictionary `ages_dict` where each surname is a key and the corresponding age is the value."
      ]
    },
    {
      "cell_type": "markdown",
      "metadata": {
        "id": "fqKjMOU0tPbX"
      },
      "source": [
        "Question\n",
        "\n",
        "1. Get the age of pata\n",
        "2. Get the age of tika"
      ]
    },
    {
      "cell_type": "code",
      "execution_count": 82,
      "metadata": {
        "id": "GoVqIvIftPbX",
        "colab": {
          "base_uri": "https://localhost:8080/"
        },
        "outputId": "01c98f78-e46a-41fc-e40d-e527cba1a7b5"
      },
      "outputs": [
        {
          "output_type": "stream",
          "name": "stdout",
          "text": [
            "145\n",
            "115\n"
          ]
        }
      ],
      "source": [
        "### =====                ==== ####\n",
        "###       YOUR CODE HERE      ####\n",
        "### =====                ==== ####\n",
        "print(dico_stu['pata'])\n",
        "print(dico_stu['tika'])\n"
      ]
    },
    {
      "cell_type": "markdown",
      "metadata": {
        "id": "a5hGiGgbtPbY"
      },
      "source": [
        "Question\n",
        "\n",
        "1. Add new pairs of key/value to dico_stu:\n",
        "- keys: bibi, theo, bidule\n",
        "- respective values: 130, 140, 1000\n",
        "1. Change the value of existing key/values:\n",
        "- set pilou at 121\n",
        "- set balo at 141"
      ]
    },
    {
      "cell_type": "code",
      "execution_count": 124,
      "metadata": {
        "id": "zcQJZr1TtPbY",
        "colab": {
          "base_uri": "https://localhost:8080/"
        },
        "outputId": "95e873b4-2888-42c6-f7f7-2a73657e5678"
      },
      "outputs": [
        {
          "output_type": "execute_result",
          "data": {
            "text/plain": [
              "{'pilou': 121,\n",
              " 'balo': 141,\n",
              " 'pata': 145,\n",
              " 'mani': 110,\n",
              " 'tika': 115,\n",
              " 'theo': 140,\n",
              " 'bidule': 1000,\n",
              " 'bibi': 130}"
            ]
          },
          "metadata": {},
          "execution_count": 124
        }
      ],
      "source": [
        "### =====                ==== ####\n",
        "###       YOUR CODE HERE      ####\n",
        "### =====                ==== ####\n",
        "dico_stu['bibi']=130\n",
        "dico_stu['theo']=140\n",
        "dico_stu['bidule']=1000\n",
        "dico_stu['pilou']=121\n",
        "dico_stu['balo']=141\n",
        "dico_stu\n"
      ]
    },
    {
      "cell_type": "markdown",
      "metadata": {
        "id": "TalyPClgtPbY"
      },
      "source": [
        "Question\n",
        "\n",
        "1. Delete the key bibi"
      ]
    },
    {
      "cell_type": "code",
      "execution_count": 123,
      "metadata": {
        "id": "xCsm2JYhtPbY"
      },
      "outputs": [],
      "source": [
        "from ast import Add\n",
        "### =====                ==== ####\n",
        "###       YOUR CODE HERE      ####\n",
        "### =====                ==== ####\n",
        "\n"
      ]
    },
    {
      "cell_type": "markdown",
      "metadata": {
        "id": "ZIci9p_ptPbY"
      },
      "source": [
        "Question\n",
        "\n",
        "1. Add the values of theo and pilou\n",
        "2. Compute the average of theo and pilou values"
      ]
    },
    {
      "cell_type": "code",
      "execution_count": 85,
      "metadata": {
        "id": "qBHarACgtPbY",
        "colab": {
          "base_uri": "https://localhost:8080/"
        },
        "outputId": "23747a99-0a96-4cc8-c052-e67f0e45d72e"
      },
      "outputs": [
        {
          "output_type": "stream",
          "name": "stdout",
          "text": [
            "261\n",
            "average= 130.5\n"
          ]
        }
      ],
      "source": [
        "### =====                ==== ####\n",
        "###       YOUR CODE HERE      ####\n",
        "### =====                ==== ####\n",
        "print((dico_stu['theo']+dico_stu['pilou']))\n",
        "print(\"average=\",(dico_stu['theo']+dico_stu['pilou'])/2)\n",
        "\n",
        "\n"
      ]
    },
    {
      "cell_type": "markdown",
      "metadata": {
        "id": "xkdGCTiAtPbY"
      },
      "source": [
        "### Chaining operations"
      ]
    },
    {
      "cell_type": "markdown",
      "metadata": {
        "id": "miyFfpAktPbY"
      },
      "source": [
        "We can actually use a combination of functions. To understand how it works you should mentally replace each operation by its result. Each operation is applied on the result of the previous set of operations"
      ]
    },
    {
      "cell_type": "code",
      "execution_count": 86,
      "metadata": {
        "id": "APQl7BQhtPbY",
        "outputId": "34a31759-5e44-49bd-d904-b835e53db07b",
        "colab": {
          "base_uri": "https://localhost:8080/"
        }
      },
      "outputs": [
        {
          "output_type": "stream",
          "name": "stdout",
          "text": [
            "['jp', 'xx', 'ma', 'fo', 'zi']\n",
            "jp\n"
          ]
        }
      ],
      "source": [
        "# Extract the first element of the list contained in the key 'surname'\n",
        "# First, understand how to extract the list contained in the dictionnary under the key 'surname'\n",
        "print(dico['surname'])\n",
        "\n",
        "# Second, since we know how to obtain the list, we can simply use the method to extract elements of a list\n",
        "# Using the square brackets and the number indicating the position of the element to extract (here 0 for the first)\n",
        "print(dico['surname'][0])"
      ]
    },
    {
      "cell_type": "code",
      "execution_count": 87,
      "metadata": {
        "id": "GA95JF49tPbY",
        "outputId": "f136d22f-8bf8-448f-f6cb-666efb833758",
        "colab": {
          "base_uri": "https://localhost:8080/"
        }
      },
      "outputs": [
        {
          "output_type": "stream",
          "name": "stdout",
          "text": [
            "xx\n",
            "99\n"
          ]
        }
      ],
      "source": [
        "# Extract the second element of the list contained in the key 'surname'\n",
        "print(dico['surname'][1])\n",
        "\n",
        "# Extract the last element of the list contained in the key 'age'\n",
        "print(dico['age'][-1])"
      ]
    },
    {
      "cell_type": "code",
      "execution_count": 88,
      "metadata": {
        "id": "SZWglYQEtPbY",
        "outputId": "35f51b85-bf8a-4e19-acd6-b2e922a5505f",
        "colab": {
          "base_uri": "https://localhost:8080/"
        }
      },
      "outputs": [
        {
          "output_type": "stream",
          "name": "stdout",
          "text": [
            "<built-in function print>\n",
            "ok\n"
          ]
        }
      ],
      "source": [
        "# Execute the function print contained in the dictionary under the key 'objects'\n",
        "\n",
        "# First, extract the function print\n",
        "print(dico['objects'])\n",
        "\n",
        "# Second, execute the function since dico['objects'] is equivalent to print\n",
        "# Thus make a standard use of it with parenthesis containing a text print('ok')\n",
        "dico['objects']('ok')"
      ]
    },
    {
      "cell_type": "code",
      "execution_count": 96,
      "metadata": {
        "id": "cpUfNUmvtPbY",
        "outputId": "ec300e84-5139-491d-d603-cc6e50c739f9",
        "colab": {
          "base_uri": "https://localhost:8080/",
          "height": 104
        }
      },
      "outputs": [
        {
          "output_type": "stream",
          "name": "stdout",
          "text": [
            "jp-xx-ma-fo-zi\n",
            "JP-XX-MA-FO-ZI\n",
            "XX\n",
            "xx\n"
          ]
        },
        {
          "output_type": "execute_result",
          "data": {
            "text/plain": [
              "'JP-xx-MA-FO-ZI'"
            ],
            "application/vnd.google.colaboratory.intrinsic+json": {
              "type": "string"
            }
          },
          "metadata": {},
          "execution_count": 96
        }
      ],
      "source": [
        "# Let's use some functions from the standard library\n",
        "\n",
        "# Join all surnames and separate them with a dash\n",
        "print('-'.join(dico['surname']))\n",
        "\n",
        "# Then put them in capital letters\n",
        "print('-'.join(dico['surname']).upper())\n",
        "\n",
        "# Then extract the third and fourth letters\n",
        "print('-'.join(dico['surname']).upper()[3:5])\n",
        "\n",
        "# Then transform them back to lower letters\n",
        "print('-'.join(dico['surname']).upper()[3:5].lower())\n",
        "\n",
        "# Instead of extracting them, keep the whole suite of letters with the same modifications than above\n",
        "# This could be done with a cleaner and code, but we keep it complex to make a point (see in next cell)\n",
        "'-'.join(dico['surname']).upper()[:3] + '-'.join(dico['surname'])[3:5] + '-'.join(dico['surname']).upper()[5:]\n",
        "\n",
        "# Do the same with a shorter one-liner\n",
        "'-'.join(dico['surname']).upper()[:3] + '-'.join(dico['surname'])[3:5] + '-'.join(dico['surname']).upper()[5:]"
      ]
    },
    {
      "cell_type": "code",
      "execution_count": 90,
      "metadata": {
        "id": "zR5zUokdtPbY",
        "outputId": "ba97a232-dd69-4843-a9e0-90be51475efc",
        "colab": {
          "base_uri": "https://localhost:8080/",
          "height": 35
        }
      },
      "outputs": [
        {
          "output_type": "execute_result",
          "data": {
            "text/plain": [
              "'JP-xx-MA-FO-ZI'"
            ],
            "application/vnd.google.colaboratory.intrinsic+json": {
              "type": "string"
            }
          },
          "metadata": {},
          "execution_count": 90
        }
      ],
      "source": [
        "# Okkkkkk we get it! Its possible to compose functions indefinitely, but its not digestible anymore.\n",
        "# Let's use variables for intermediate steps, and appreciate how its way clearer\n",
        "# Even though it requires more lines of code, its easier to understand and maintain (so its definitely prefered)\n",
        "surnames_combined = '-'.join(dico['surname'])\n",
        "surnames_combined_upper = surnames_combined.upper()\n",
        "\n",
        "middle_letters = surnames_combined[3:5]\n",
        "\n",
        "start_letters = surnames_combined_upper[:3]\n",
        "end_letters = surnames_combined_upper[5:]\n",
        "\n",
        "full_combination = start_letters + middle_letters + end_letters\n",
        "full_combination"
      ]
    },
    {
      "cell_type": "code",
      "execution_count": 91,
      "metadata": {
        "id": "PBU-3165tPbY",
        "outputId": "d0f4bc6f-c2d2-4403-eb32-5e404dda155e",
        "colab": {
          "base_uri": "https://localhost:8080/"
        }
      },
      "outputs": [
        {
          "output_type": "stream",
          "name": "stdout",
          "text": [
            "JP-xx-MA-FO-ZI\n",
            "JP-xx-MA-FO-ZI\n"
          ]
        }
      ],
      "source": [
        "# That was clearer but very verbosy!\n",
        "# Depending on the use case we should try to use the best balance between short code vs long and readable\n",
        "# V1\n",
        "surnames_combined = \"-\".join(dico[\"surname\"])\n",
        "full_combination = surnames_combined.upper()[:3] + surnames_combined[3:5] + surnames_combined.upper()[5:]\n",
        "print(full_combination)\n",
        "\n",
        "# V2\n",
        "surnames_combined = \"-\".join(dico[\"surname\"]).upper()\n",
        "full_combination = surnames_combined[:3] + surnames_combined[3:5].lower() + surnames_combined[5:]\n",
        "print(full_combination)"
      ]
    },
    {
      "cell_type": "code",
      "execution_count": 92,
      "metadata": {
        "id": "JWc7X0o2tPbY",
        "outputId": "88bfeae4-6666-4db0-d964-ac75d542220e",
        "colab": {
          "base_uri": "https://localhost:8080/",
          "height": 35
        }
      },
      "outputs": [
        {
          "output_type": "execute_result",
          "data": {
            "text/plain": [
              "'JP-xx-MA-FO-ZI'"
            ],
            "application/vnd.google.colaboratory.intrinsic+json": {
              "type": "string"
            }
          },
          "metadata": {},
          "execution_count": 92
        }
      ],
      "source": [
        "# Eventually we can accept to name the variable in a more compact way if it is not used lated in the code (here 's')\n",
        "# Please don't name variables like this if used later in the code, because you would not understand what 's' means\n",
        "# which would force you to go back to this portion of code to understand what 's' means before using it.\n",
        "# Ideally we want the variable name to be self-explanatory and obvious enough to avoid having to go back to the portion\n",
        "# of code where it was defined (imagine doing this for each line of code, it would be a big time waste)\n",
        "s = \"-\".join(dico[\"surname\"])\n",
        "full_combination = s.upper()[:3] + s[3:5] + s.upper()[5:]\n",
        "full_combination"
      ]
    },
    {
      "cell_type": "code",
      "execution_count": 97,
      "metadata": {
        "id": "NuOVSHiRtPbZ",
        "outputId": "29dac3bb-9208-489a-b06f-f264f4601b69",
        "colab": {
          "base_uri": "https://localhost:8080/",
          "height": 35
        }
      },
      "outputs": [
        {
          "output_type": "execute_result",
          "data": {
            "text/plain": [
              "'JP-xx-MA-FO-ZI'"
            ],
            "application/vnd.google.colaboratory.intrinsic+json": {
              "type": "string"
            }
          },
          "metadata": {},
          "execution_count": 97
        }
      ],
      "source": [
        "# We can even make use of more advanced coding practices, but if its not clearer, its better to use the long verbosy version\n",
        "# We'll explore the lambda version later in this notebook\n",
        "(lambda s: s[:3].upper() + s[3:5] + s[5:].upper())(\"-\".join(dico[\"surname\"]))"
      ]
    },
    {
      "cell_type": "markdown",
      "metadata": {
        "id": "RuwhF_VqtPbZ"
      },
      "source": [
        "___________________\n",
        "\n",
        "Question\n",
        "\n",
        "1. Store 'machin' and 'bidule' in variables named val1 and val2\n",
        "2. Create this text from the two variables: 'mAcHiN-BiDuLe'"
      ]
    },
    {
      "cell_type": "code",
      "execution_count": 104,
      "metadata": {
        "id": "W0GfL8YotPbZ",
        "colab": {
          "base_uri": "https://localhost:8080/"
        },
        "outputId": "7579699f-4468-4748-d137-304bb6d3c3c3"
      },
      "outputs": [
        {
          "output_type": "stream",
          "name": "stdout",
          "text": [
            "MaChIn-BiDuLe\n"
          ]
        }
      ],
      "source": [
        "### =====                ==== ####\n",
        "###       YOUR CODE HERE      ####\n",
        "### =====                ==== ####\n",
        "val1=\"machin\"\n",
        "val2=\"bidule\"\n",
        "stylize = lambda s: ''.join(c.upper() if i % 2 == 0 else c.lower() for i, c in enumerate(s))\n",
        "\n",
        "result = f\"{stylize(val1)}-{stylize(val2)}\"\n",
        "print(result)\n",
        "\n"
      ]
    },
    {
      "cell_type": "markdown",
      "metadata": {
        "id": "-unIIrfEtPbZ"
      },
      "source": [
        "Question\n",
        "\n",
        "1. Using the function join, combine the values of pilou and bibi from dico_stu. The result should be like this: '121-130' (hint: be careful, the values are initially integers, the join function only works for string values)."
      ]
    },
    {
      "cell_type": "code",
      "execution_count": 133,
      "metadata": {
        "id": "B7S1NpXDtPbZ",
        "colab": {
          "base_uri": "https://localhost:8080/"
        },
        "outputId": "f1f751f6-ca5f-49b2-d8ea-ecfeb69f5c6a"
      },
      "outputs": [
        {
          "output_type": "stream",
          "name": "stdout",
          "text": [
            "121 130\n",
            "121-130\n"
          ]
        }
      ],
      "source": [
        "### =====                ==== ####\n",
        "###       YOUR CODE HERE      ####\n",
        "### =====                ==== ####\n",
        "val1 = dico_stu[\"pilou\"]\n",
        "val2 = dico_stu[\"bibi\"]\n",
        "print(val1,val2)\n",
        "result = '-'.join([str(val1),str(val2)])\n",
        "print(result)  # '121-130'"
      ]
    }
  ]
}