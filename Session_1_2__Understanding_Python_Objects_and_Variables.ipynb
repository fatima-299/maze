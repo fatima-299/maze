{
  "nbformat": 4,
  "nbformat_minor": 0,
  "metadata": {
    "colab": {
      "provenance": [],
      "include_colab_link": true
    },
    "kernelspec": {
      "name": "python3",
      "display_name": "Python 3"
    },
    "language_info": {
      "name": "python"
    }
  },
  "cells": [
    {
      "cell_type": "markdown",
      "metadata": {
        "id": "view-in-github",
        "colab_type": "text"
      },
      "source": [
        "<a href=\"https://colab.research.google.com/github/fatima-299/maze/blob/main/Session_1_2__Understanding_Python_Objects_and_Variables.ipynb\" target=\"_parent\"><img src=\"https://colab.research.google.com/assets/colab-badge.svg\" alt=\"Open In Colab\"/></a>"
      ]
    },
    {
      "cell_type": "markdown",
      "metadata": {
        "id": "qBnWteJhtPbU"
      },
      "source": [
        "## Essentials in Python Language<a class=anchor id=python_essentials></a>"
      ]
    },
    {
      "cell_type": "markdown",
      "metadata": {
        "id": "7vucS3C3tPbU"
      },
      "source": [
        "### Variables\n",
        "\n",
        "A `variable` is used to **store** information. It's an essential concept that makes programming (and even computers) possible."
      ]
    },
    {
      "cell_type": "markdown",
      "source": [
        "Let's store the age of Tom in a variable named `age_tom`"
      ],
      "metadata": {
        "id": "lWWJGVJNKvm8"
      }
    },
    {
      "cell_type": "code",
      "execution_count": 2,
      "metadata": {
        "id": "W1TR7Ea9tPbU"
      },
      "outputs": [],
      "source": [
        "# Store the number 1 in a variable named 'age_tom'\n",
        "age_tom = 18"
      ]
    },
    {
      "cell_type": "code",
      "execution_count": 3,
      "metadata": {
        "id": "VIKYlB4etPbU",
        "outputId": "4cab0c9e-c765-4881-f64a-d67c6967d715",
        "colab": {
          "base_uri": "https://localhost:8080/"
        }
      },
      "outputs": [
        {
          "output_type": "stream",
          "name": "stdout",
          "text": [
            "18\n"
          ]
        }
      ],
      "source": [
        "# Display the number 1 contained in the variable 'age_tom' (using the function 'print')\n",
        "print(age_tom)"
      ]
    },
    {
      "cell_type": "code",
      "execution_count": 4,
      "metadata": {
        "id": "xoEyFU1DtPbU"
      },
      "outputs": [],
      "source": [
        "# Use this number for a basic operation (imagine Tom's birthday)\n",
        "age_tom = age_tom + 1"
      ]
    },
    {
      "cell_type": "code",
      "execution_count": 5,
      "metadata": {
        "id": "7c19TQu0tPbU",
        "outputId": "4a4f88d2-647d-497e-f8f7-d953b45411f5",
        "colab": {
          "base_uri": "https://localhost:8080/"
        }
      },
      "outputs": [
        {
          "output_type": "stream",
          "name": "stdout",
          "text": [
            "19\n"
          ]
        }
      ],
      "source": [
        "print(age_tom)"
      ]
    },
    {
      "cell_type": "markdown",
      "metadata": {
        "id": "KjUpGPz_tPbU"
      },
      "source": [
        "We can store the age of another person at the same time, by using a variable with a different name: e.g. `age_kim`"
      ]
    },
    {
      "cell_type": "code",
      "execution_count": 6,
      "metadata": {
        "id": "WoOtuoF_tPbU"
      },
      "outputs": [],
      "source": [
        "age_kim = 21"
      ]
    },
    {
      "cell_type": "code",
      "execution_count": 7,
      "metadata": {
        "id": "Q-7g1io0tPbU",
        "outputId": "9cbbc8d9-f9e9-4100-e484-4f9254cba4cb",
        "colab": {
          "base_uri": "https://localhost:8080/"
        }
      },
      "outputs": [
        {
          "output_type": "stream",
          "name": "stdout",
          "text": [
            "21\n"
          ]
        }
      ],
      "source": [
        "print(age_kim)"
      ]
    },
    {
      "cell_type": "markdown",
      "metadata": {
        "id": "3Di5ZRa0tPbV"
      },
      "source": [
        "We can make interesting operations with these variables, e.g. compute the average age"
      ]
    },
    {
      "cell_type": "code",
      "execution_count": 8,
      "metadata": {
        "id": "Q5p-j2bytPbV"
      },
      "outputs": [],
      "source": [
        "age_average = (age_tom + age_kim) / 2"
      ]
    },
    {
      "cell_type": "code",
      "execution_count": 9,
      "metadata": {
        "id": "JVfQutCLtPbV",
        "outputId": "78b94b64-dc21-4bd7-e4ad-dbff00b9a568",
        "colab": {
          "base_uri": "https://localhost:8080/"
        }
      },
      "outputs": [
        {
          "output_type": "stream",
          "name": "stdout",
          "text": [
            "20.0\n"
          ]
        }
      ],
      "source": [
        "print(age_average)"
      ]
    },
    {
      "cell_type": "markdown",
      "metadata": {
        "id": "GyXXbaxItPbV"
      },
      "source": [
        "**Tip**: We don't actually need to use the function `print` to display the value contained in a variable, when the variable is the last line of a code cell. See example below"
      ]
    },
    {
      "cell_type": "code",
      "execution_count": 10,
      "metadata": {
        "id": "Dhn-4B0FtPbV",
        "outputId": "d63a6b54-1aa4-4c1f-af50-48d56670c0eb",
        "colab": {
          "base_uri": "https://localhost:8080/"
        }
      },
      "outputs": [
        {
          "output_type": "execute_result",
          "data": {
            "text/plain": [
              "20.0"
            ]
          },
          "metadata": {},
          "execution_count": 10
        }
      ],
      "source": [
        "# Display the average age without using the function print (only possible in a Jupyter Notebook, not in a Python script)\n",
        "age_average"
      ]
    },
    {
      "cell_type": "markdown",
      "metadata": {
        "id": "d5wsao-PtPbV"
      },
      "source": [
        "**Tip2**: You can use the shortcut `var += 1` instead of `var = var + 1` for avoiding repetition when applying addition to the same variable."
      ]
    },
    {
      "cell_type": "code",
      "execution_count": 11,
      "metadata": {
        "id": "J3o4n1U5tPbV",
        "outputId": "3474ba48-d08d-4d6a-9c40-5bc1154c987c",
        "colab": {
          "base_uri": "https://localhost:8080/"
        }
      },
      "outputs": [
        {
          "output_type": "execute_result",
          "data": {
            "text/plain": [
              "22"
            ]
          },
          "metadata": {},
          "execution_count": 11
        }
      ],
      "source": [
        "age_kim += 1\n",
        "age_kim"
      ]
    },
    {
      "cell_type": "markdown",
      "source": [
        "#### Beware! Scope of Variables\n",
        "\n",
        "The *scope* of a variable refers to the part of a program where that variable can be accessed or modified. In Python, variables defined inside a function are **local** to that function: they exist only while the function runs and cannot be used outside of it. Variables defined outside of any function are **global**, meaning they can be read from anywhere in the program, although modifying them from inside a function requires special care. Python also supports **enclosing** (variables defined in an outer function) and **built-in** (names provided by Python itself, like `len` or `print`) scopes. Understanding scope is important because it prevents unintended interactions between different parts of your code and helps keep programs predictable and organized.\n",
        "\n",
        "The priority follows the LEGB rule (see below)."
      ],
      "metadata": {
        "id": "_zC68YZAI015"
      }
    },
    {
      "cell_type": "code",
      "source": [
        "x = \"global\"   # G (Global)\n",
        "\n",
        "def outer():\n",
        "    x = \"enclosing\"  # E (Enclosing)\n",
        "\n",
        "    def inner():\n",
        "        x = \"local\"  # L (Local)\n",
        "        print(x)     # -> \"local\n",
        "\n",
        "    inner()\n",
        "    print(x)         # -> \"enclosing\"\n",
        "\n",
        "outer()\n",
        "print(x)             # -> \"global\"\n",
        "print(len([1,2,3]))  # -> 3 B (Built-in)"
      ],
      "metadata": {
        "colab": {
          "base_uri": "https://localhost:8080/"
        },
        "id": "gE8MY2ONJh1A",
        "outputId": "13960f2d-710c-44af-e778-c58b1a60a2d5"
      },
      "execution_count": 12,
      "outputs": [
        {
          "output_type": "stream",
          "name": "stdout",
          "text": [
            "local\n",
            "enclosing\n",
            "global\n",
            "3\n"
          ]
        }
      ]
    },
    {
      "cell_type": "markdown",
      "source": [
        "If you define the variable `len = 42` globally, then `len([1,2,3])` will not work anymore, because you have overriden the built-in function len."
      ],
      "metadata": {
        "id": "6StO_-XDKCal"
      }
    },
    {
      "cell_type": "markdown",
      "metadata": {
        "id": "2Zik_dTttPbV"
      },
      "source": [
        "### Data types / structures<a class=anchor id=data_structures></a>\n",
        "\n",
        "*So* far we have stored **integers** in the variables, i.e. numbers without leading values after the comma: e.g. 18.\n",
        "\n",
        "There also exists **floats**, i.e. numbers with values after the comma. If you look closely, the variable `age_average` actually contains a float. This is the result of the (true) division operator.\n",
        "\n",
        "Let's see which other types exist:"
      ]
    },
    {
      "cell_type": "code",
      "execution_count": 13,
      "metadata": {
        "id": "9KK7Q9MwtPbV",
        "outputId": "01781b41-dd98-41b9-d934-3632322631a4",
        "colab": {
          "base_uri": "https://localhost:8080/"
        }
      },
      "outputs": [
        {
          "output_type": "execute_result",
          "data": {
            "text/plain": [
              "{'name': ['akiko', 'julie'], 'age': [12, 43]}"
            ]
          },
          "metadata": {},
          "execution_count": 13
        }
      ],
      "source": [
        "# Text and numbers\n",
        "12         # int (integer)\n",
        "1.5        # float\n",
        "'hola'     # str (string)\n",
        "\"hola\"\n",
        "\"\"\"hola\"\"\"\n",
        "\n",
        "# Iterables\n",
        "[42, 58, 209, 42]  # list\n",
        "(42, 58, 209, 42)  # tuple (we won't use it in this class)\n",
        "{42, 58, 209}      # set (unique values / no duplicates)\n",
        "{'name': ['akiko', 'julie'], 'age': [12, 43]}  # dict (dictionary)\n",
        "\n",
        "# In this dictionnary there are 2 keys 'name' and 'age' with values\n",
        "# respectively 'akiko' and 'julie' and 12 and 43.\n",
        "# The values of this dictionnary are stored in a list [].\n",
        "# It would be impossible to store multiple values for the same key otherwise."
      ]
    },
    {
      "cell_type": "markdown",
      "metadata": {
        "id": "3LMtXOEptPbV"
      },
      "source": [
        "--------------------------------\n",
        "Question\n",
        "\n",
        "1. Store the integer 12 in a variable named int_12\n",
        "2. Store the float 12 in a variable named float_12\n",
        "3. Store the string 12 in a variable named str_12"
      ]
    },
    {
      "cell_type": "code",
      "execution_count": 14,
      "metadata": {
        "id": "6nqTpN_itPbW"
      },
      "outputs": [],
      "source": [
        "### =====                ==== ####\n",
        "###       YOUR CODE HERE      ####\n",
        "### =====                ==== ####\n",
        "int_12=12\n",
        "float_12= 12.0\n",
        "str_12='12'"
      ]
    },
    {
      "cell_type": "markdown",
      "metadata": {
        "id": "t4kuvOwltPbW"
      },
      "source": [
        "Verify their type using the function named `type`"
      ]
    },
    {
      "cell_type": "code",
      "execution_count": 15,
      "metadata": {
        "id": "Q7ZSoToytPbW",
        "colab": {
          "base_uri": "https://localhost:8080/"
        },
        "outputId": "d17cb1c2-800a-494e-ad1d-110c3e366a47"
      },
      "outputs": [
        {
          "output_type": "stream",
          "name": "stdout",
          "text": [
            "<class 'int'>\n",
            "<class 'float'>\n",
            "<class 'str'>\n"
          ]
        }
      ],
      "source": [
        "from __future__ import print_function\n",
        "### =====                ==== ####\n",
        "###       YOUR CODE HERE      ####\n",
        "### =====                ==== ####\n",
        "print(type(int_12))\n",
        "print(type(float_12))\n",
        "print(type(str_12))"
      ]
    },
    {
      "cell_type": "markdown",
      "metadata": {
        "id": "VbuSuSi0tPbW"
      },
      "source": [
        "--------------------------------\n",
        "Question\n",
        "\n",
        "1. Create a list containing: 12, 13, 14 that you store in the variable 'l' (the first letter of list)\n",
        "3. Create a dictionary where the key is 'emotion' and the values are: 'happy', 'sad' and 'excited', that you store in d."
      ]
    },
    {
      "cell_type": "code",
      "execution_count": 16,
      "metadata": {
        "id": "7kSn_RQ-tPbW",
        "colab": {
          "base_uri": "https://localhost:8080/"
        },
        "outputId": "aadf1150-9fef-474b-8436-69796648d11e"
      },
      "outputs": [
        {
          "output_type": "stream",
          "name": "stdout",
          "text": [
            "[12, 13, 14]\n",
            "{'emotion': ['happy', 'sad', 'excited']}\n",
            "['happy', 'sad', 'excited']\n"
          ]
        }
      ],
      "source": [
        "### =====                ==== ####\n",
        "###       YOUR CODE HERE      ####\n",
        "### =====                ==== ####\n",
        "l=[12,13,14]\n",
        "d={'emotion':['happy','sad','excited']}\n",
        "print(l)\n",
        "print(d)\n",
        "print(d['emotion'])"
      ]
    },
    {
      "cell_type": "markdown",
      "metadata": {
        "id": "-r8tM99UtPbW"
      },
      "source": [
        "Let's see how to get unique values from a list using the function `set`"
      ]
    },
    {
      "cell_type": "code",
      "execution_count": 17,
      "metadata": {
        "id": "_oGjkMnDtPbW",
        "outputId": "681d19ae-93e6-4c6f-fc2c-fa518a7fcf51",
        "colab": {
          "base_uri": "https://localhost:8080/"
        }
      },
      "outputs": [
        {
          "output_type": "execute_result",
          "data": {
            "text/plain": [
              "{42, 58, 209}"
            ]
          },
          "metadata": {},
          "execution_count": 17
        }
      ],
      "source": [
        "l = [42, 58, 58, 58, 209, 42, 42, 42]\n",
        "set(l)"
      ]
    },
    {
      "cell_type": "markdown",
      "metadata": {
        "id": "9Rfe53dytPbW"
      },
      "source": [
        "--------------------------------\n",
        "Question\n",
        "\n",
        "1. Create a list containing: 12, 13, 14, 12\n",
        "2. Store the list into a variable named: lst\n",
        "3. Get unique values from the list"
      ]
    },
    {
      "cell_type": "code",
      "execution_count": 18,
      "metadata": {
        "id": "ffRszgPNtPbW",
        "colab": {
          "base_uri": "https://localhost:8080/"
        },
        "outputId": "dd3b8e96-36ef-4ed4-9eb1-ba7fd50b5311"
      },
      "outputs": [
        {
          "output_type": "execute_result",
          "data": {
            "text/plain": [
              "{42, 58, 209}"
            ]
          },
          "metadata": {},
          "execution_count": 18
        }
      ],
      "source": [
        "### =====                ==== ####\n",
        "###       YOUR CODE HERE      ####\n",
        "### =====                ==== ####\n",
        "lst=[12,13,14,12]\n",
        "set(l)"
      ]
    },
    {
      "cell_type": "markdown",
      "metadata": {
        "id": "AW-r4XFItPba"
      },
      "source": [
        "### Standard math operations"
      ]
    },
    {
      "cell_type": "code",
      "execution_count": 19,
      "metadata": {
        "id": "53pMS8WMtPba",
        "outputId": "d837119c-0dcc-481c-b49f-5ab4147d7606",
        "colab": {
          "base_uri": "https://localhost:8080/"
        }
      },
      "outputs": [
        {
          "output_type": "stream",
          "name": "stdout",
          "text": [
            "9\n",
            "5\n",
            "14\n",
            "3.5\n",
            "3\n",
            "1\n",
            "49\n"
          ]
        }
      ],
      "source": [
        "print(7 + 2)\n",
        "print(7 - 2)\n",
        "print(7 * 2)\n",
        "print(7 / 2)  # standard division\n",
        "print(7 // 2)  # only the integer part of the division\n",
        "print(7 % 2)  # only the remainder\n",
        "print(7 ** 2)  # squared (power of two)"
      ]
    },
    {
      "cell_type": "markdown",
      "metadata": {
        "id": "7YLr2mnUtPba"
      },
      "source": [
        "### Internal methods of operators"
      ]
    },
    {
      "cell_type": "markdown",
      "metadata": {
        "id": "AfQdnU3otPba"
      },
      "source": [
        "View an object internal methods: the symbols used (>, !=, +, etc.) are actually shorcuts for internal methods (functions) of these objects"
      ]
    },
    {
      "cell_type": "code",
      "execution_count": 20,
      "metadata": {
        "id": "MIOuU5xztPba",
        "outputId": "77c550a1-f4d2-40ed-b078-4a6553109b23",
        "colab": {
          "base_uri": "https://localhost:8080/"
        }
      },
      "outputs": [
        {
          "output_type": "stream",
          "name": "stdout",
          "text": [
            "['__abs__', '__add__', '__and__', '__bool__', '__ceil__', '__class__', '__delattr__']\n",
            "['__add__', '__class__', '__class_getitem__', '__contains__', '__delattr__', '__delitem__', '__dir__']\n"
          ]
        }
      ],
      "source": [
        "print(dir(3)[:7])\n",
        "print(dir([1, 2, 3])[:7])"
      ]
    },
    {
      "cell_type": "markdown",
      "metadata": {
        "id": "XVFYN2N2tPba"
      },
      "source": [
        "Use the internal method directly"
      ]
    },
    {
      "cell_type": "code",
      "execution_count": 21,
      "metadata": {
        "id": "x69SYOIWtPba",
        "outputId": "ffb3f8ed-58ac-4db9-f45c-4ed3127efa11",
        "colab": {
          "base_uri": "https://localhost:8080/"
        }
      },
      "outputs": [
        {
          "output_type": "stream",
          "name": "stdout",
          "text": [
            "12\n"
          ]
        }
      ],
      "source": [
        "# Integers\n",
        "x = 10\n",
        "y = x.__add__(2)\n",
        "print(y)"
      ]
    },
    {
      "cell_type": "code",
      "execution_count": 22,
      "metadata": {
        "id": "xU3lBR_2tPba",
        "outputId": "66945a3c-6bca-4189-bfe5-ff4f3c908fb2",
        "colab": {
          "base_uri": "https://localhost:8080/"
        }
      },
      "outputs": [
        {
          "output_type": "execute_result",
          "data": {
            "text/plain": [
              "True"
            ]
          },
          "metadata": {},
          "execution_count": 22
        }
      ],
      "source": [
        "# Lists\n",
        "[1, 2, 3].__contains__(2)"
      ]
    },
    {
      "cell_type": "markdown",
      "metadata": {
        "id": "JpZ88BeNtPbW"
      },
      "source": [
        "### Lists operations\n",
        "A list is an iterable (we can extract every element iteratively). There exist 4 very useful methods to work with them."
      ]
    },
    {
      "cell_type": "markdown",
      "metadata": {
        "id": "RoRGWheKtPbW"
      },
      "source": [
        "#### 1. Extracting one or multiple elements"
      ]
    },
    {
      "cell_type": "code",
      "execution_count": 23,
      "metadata": {
        "id": "ROTsor9WtPbW",
        "outputId": "700178ee-7145-4763-ed84-4126b21b66fd",
        "colab": {
          "base_uri": "https://localhost:8080/"
        }
      },
      "outputs": [
        {
          "output_type": "stream",
          "name": "stdout",
          "text": [
            "q1: a\n",
            "q2: b\n",
            "q3: c\n",
            "q4: c\n",
            "q5: b\n",
            "q6.1: ['a', 'b']\n",
            "q6.2: ['a', 'b']\n",
            "q7.1: ['a', 'b', 'c']\n",
            "q7.2: ['a', 'b', 'c']\n",
            "q8: ['b', 'c']\n",
            "q8: ['a', 'b', 'c']\n"
          ]
        }
      ],
      "source": [
        "l = ['a', 'b', 'c']\n",
        "\n",
        "# Q1: Display the first element\n",
        "print('q1:', l[0])\n",
        "# Q2: Display the second element\n",
        "print('q2:', l[1])\n",
        "# Q3: Display the third element\n",
        "print('q3:', l[2])\n",
        "\n",
        "# Q4: Display the last element\n",
        "print('q4:', l[-1])\n",
        "# Q5: Display the before last element\n",
        "print('q5:', l[-2])\n",
        "\n",
        "# Q6.1: Display the first two elements\n",
        "print('q6.1:', l[0:2])\n",
        "# Q6.2: Same, but more canonical\n",
        "print('q6.2:', l[:2])\n",
        "\n",
        "# Q7.1: Display the first three elements\n",
        "print('q7.1:', l[0:3])\n",
        "# Q7.2: Same, but more canonical\n",
        "print('q7.2:', l[:3])\n",
        "\n",
        "# Q8: Display the last two elements\n",
        "print('q8:', l[-2:])\n",
        "# Q9: Display the last three elements\n",
        "print('q8:', l[-3:])\n",
        "\n",
        "# What is the type of the object returned when only a single element is extracted?\n",
        "# What is the type of the object returned when multiple elements are extracted at the same time?"
      ]
    },
    {
      "cell_type": "markdown",
      "metadata": {
        "id": "2cLVReyWtPbW"
      },
      "source": [
        "#### 2. Adding a new element"
      ]
    },
    {
      "cell_type": "code",
      "execution_count": 24,
      "metadata": {
        "id": "jo1tJEFCtPbW",
        "outputId": "bbe24f4a-f550-4484-c2a4-d5e1a7ef266a",
        "colab": {
          "base_uri": "https://localhost:8080/"
        }
      },
      "outputs": [
        {
          "output_type": "execute_result",
          "data": {
            "text/plain": [
              "['a', 'b', 'c', 'd']"
            ]
          },
          "metadata": {},
          "execution_count": 24
        }
      ],
      "source": [
        "l.append('d')\n",
        "l"
      ]
    },
    {
      "cell_type": "code",
      "execution_count": 25,
      "metadata": {
        "id": "2tsfAMKXtPbW",
        "outputId": "f986dd44-6ef4-4703-9a1a-f951686b3cc0",
        "colab": {
          "base_uri": "https://localhost:8080/"
        }
      },
      "outputs": [
        {
          "output_type": "execute_result",
          "data": {
            "text/plain": [
              "['a', 'b', 'c', 'd', 'e']"
            ]
          },
          "metadata": {},
          "execution_count": 25
        }
      ],
      "source": [
        "l.append('e')\n",
        "l"
      ]
    },
    {
      "cell_type": "markdown",
      "metadata": {
        "id": "s0J805Y4tPbW"
      },
      "source": [
        "Using the method `append` the element is added at the end of the list (which is the most common use case)"
      ]
    },
    {
      "cell_type": "markdown",
      "metadata": {
        "id": "FRQPjfNHtPbW"
      },
      "source": [
        "#### 3. Modifying an element\n",
        "\n",
        "1. You first need to know the position of the element in the list.\n",
        "2. Then you can modify the element located at this position."
      ]
    },
    {
      "cell_type": "code",
      "execution_count": 26,
      "metadata": {
        "id": "17DY0f5ytPbW",
        "outputId": "b0925be3-c19f-4341-9dba-b12dc46455b2",
        "colab": {
          "base_uri": "https://localhost:8080/"
        }
      },
      "outputs": [
        {
          "output_type": "execute_result",
          "data": {
            "text/plain": [
              "['A', 'b', 'c', 'd', 'e']"
            ]
          },
          "metadata": {},
          "execution_count": 26
        }
      ],
      "source": [
        "# Let's modify the first element\n",
        "l[0] = 'A'\n",
        "l"
      ]
    },
    {
      "cell_type": "code",
      "execution_count": 27,
      "metadata": {
        "id": "rN0Xfo5jtPbW",
        "outputId": "954bcd78-a2f3-4ad8-f05e-325899df7beb",
        "colab": {
          "base_uri": "https://localhost:8080/"
        }
      },
      "outputs": [
        {
          "output_type": "execute_result",
          "data": {
            "text/plain": [
              "['A', 'b', 'c', 'd', 'E']"
            ]
          },
          "metadata": {},
          "execution_count": 27
        }
      ],
      "source": [
        "# Let's modify the last element\n",
        "l[-1] = 'E'\n",
        "l"
      ]
    },
    {
      "cell_type": "code",
      "execution_count": 28,
      "metadata": {
        "id": "PkGmIbQstPbW",
        "outputId": "f763a421-f347-4c02-d26f-1522c84c6faa",
        "colab": {
          "base_uri": "https://localhost:8080/"
        }
      },
      "outputs": [
        {
          "output_type": "execute_result",
          "data": {
            "text/plain": [
              "['A', 'B', 'c', 'd', 'E']"
            ]
          },
          "metadata": {},
          "execution_count": 28
        }
      ],
      "source": [
        "# Let's modify the second element\n",
        "l[1] = 'B'\n",
        "l"
      ]
    },
    {
      "cell_type": "markdown",
      "metadata": {
        "id": "zeOqcVFAtPbW"
      },
      "source": [
        "#### 4. Deleting an element\n",
        "\n",
        "It's actually less common to delete elements belive it or not"
      ]
    },
    {
      "cell_type": "code",
      "execution_count": 29,
      "metadata": {
        "id": "5JfPpgwytPbX",
        "outputId": "b2b08b20-1923-4a92-cd51-9b56d5889da3",
        "colab": {
          "base_uri": "https://localhost:8080/"
        }
      },
      "outputs": [
        {
          "output_type": "execute_result",
          "data": {
            "text/plain": [
              "['B', 'c', 'd', 'E']"
            ]
          },
          "metadata": {},
          "execution_count": 29
        }
      ],
      "source": [
        "# Remove the first element (A)\n",
        "l.pop(0)\n",
        "l"
      ]
    },
    {
      "cell_type": "code",
      "execution_count": 30,
      "metadata": {
        "id": "4d0G90cAtPbX",
        "outputId": "900032e4-bb59-4718-e52a-7cb291a4c92d",
        "colab": {
          "base_uri": "https://localhost:8080/"
        }
      },
      "outputs": [
        {
          "output_type": "execute_result",
          "data": {
            "text/plain": [
              "['c', 'd', 'E']"
            ]
          },
          "metadata": {},
          "execution_count": 30
        }
      ],
      "source": [
        "# Remove the first element (B), since the very first (A) has already been deleted\n",
        "l.pop(0)\n",
        "l"
      ]
    },
    {
      "cell_type": "markdown",
      "metadata": {
        "id": "aKoBvnpjtPbX"
      },
      "source": [
        "In summary, when working with lists the location of elements in the list is a fundamental information.\n",
        "\n",
        "The dictionnaries have a totally different behavior: the key is used to locate elements (respective values), but there is no such thing as a position / location."
      ]
    },
    {
      "cell_type": "markdown",
      "source": [
        "#### Exercises!"
      ],
      "metadata": {
        "id": "bmycQbInLqka"
      }
    },
    {
      "cell_type": "markdown",
      "metadata": {
        "id": "110451bd"
      },
      "source": [
        "Question\n",
        "\n",
        "1. Create a list named 'fruits' containing the elements \"apple\", \"banana\", and \"cherry\".\n"
      ]
    },
    {
      "cell_type": "code",
      "execution_count": 31,
      "metadata": {
        "id": "cc6ddf80"
      },
      "outputs": [],
      "source": [
        "### =====                ==== ####\n",
        "###       YOUR CODE HERE      ####\n",
        "### =====                ==== ####\n",
        "fruits=['apple','banana','cherry']"
      ]
    },
    {
      "cell_type": "markdown",
      "metadata": {
        "id": "6a3b3421"
      },
      "source": [
        "Question\n",
        "\n",
        "2. Access the first element of the list 'fruits' and assign it to a variable named 'first_fruit'.\n"
      ]
    },
    {
      "cell_type": "code",
      "execution_count": 32,
      "metadata": {
        "id": "e6a81a47",
        "colab": {
          "base_uri": "https://localhost:8080/"
        },
        "outputId": "254036f4-0e9c-4403-a53c-d5013c7ecbe1"
      },
      "outputs": [
        {
          "output_type": "stream",
          "name": "stdout",
          "text": [
            "apple\n"
          ]
        }
      ],
      "source": [
        "### =====                ==== ####\n",
        "###       YOUR CODE HERE      ####\n",
        "### =====                ==== ####\n",
        "first_fruit=fruits[0]\n",
        "print(first_fruit)"
      ]
    },
    {
      "cell_type": "markdown",
      "metadata": {
        "id": "c1c6a1e6"
      },
      "source": [
        "Question\n",
        "\n",
        "3. Change the second element of the list 'fruits' to \"orange\".\n"
      ]
    },
    {
      "cell_type": "code",
      "execution_count": 33,
      "metadata": {
        "id": "ff9f209f",
        "colab": {
          "base_uri": "https://localhost:8080/"
        },
        "outputId": "e6228c61-593b-4835-fa8c-b0fdb8e2e7c3"
      },
      "outputs": [
        {
          "output_type": "execute_result",
          "data": {
            "text/plain": [
              "['apple', 'orange', 'cherry']"
            ]
          },
          "metadata": {},
          "execution_count": 33
        }
      ],
      "source": [
        "### =====                ==== ####\n",
        "###       YOUR CODE HERE      ####\n",
        "### =====                ==== ####\n",
        "fruits[1]='orange'\n",
        "fruits"
      ]
    },
    {
      "cell_type": "markdown",
      "metadata": {
        "id": "acb63f27"
      },
      "source": [
        "Question\n",
        "\n",
        "4. Add \"grape\" to the end of the list 'fruits'.\n"
      ]
    },
    {
      "cell_type": "code",
      "execution_count": 34,
      "metadata": {
        "id": "c33312d9",
        "colab": {
          "base_uri": "https://localhost:8080/"
        },
        "outputId": "145c894d-7e31-4680-86be-17283b715183"
      },
      "outputs": [
        {
          "output_type": "execute_result",
          "data": {
            "text/plain": [
              "['apple', 'orange', 'cherry', 'grape']"
            ]
          },
          "metadata": {},
          "execution_count": 34
        }
      ],
      "source": [
        "### =====                ==== ####\n",
        "###       YOUR CODE HERE      ####\n",
        "### =====                ==== ####\n",
        "\n",
        "fruits.append('grape')\n",
        "fruits"
      ]
    },
    {
      "cell_type": "markdown",
      "metadata": {
        "id": "b8a75186"
      },
      "source": [
        "Question\n",
        "\n",
        "5. Insert \"kiwi\" as the second element in the list 'fruits'.\n"
      ]
    },
    {
      "cell_type": "code",
      "execution_count": 35,
      "metadata": {
        "id": "961702d2"
      },
      "outputs": [],
      "source": [
        "### =====                ==== ####\n",
        "###       YOUR CODE HERE      ####\n",
        "### =====                ==== ####\n",
        "fruits.insert(1,'kiwi')"
      ]
    },
    {
      "cell_type": "markdown",
      "metadata": {
        "id": "2677c12a"
      },
      "source": [
        "Question\n",
        "\n",
        "6. Remove \"banana\" from the list 'fruits'.\n"
      ]
    },
    {
      "cell_type": "code",
      "execution_count": 36,
      "metadata": {
        "id": "0e376eb6",
        "colab": {
          "base_uri": "https://localhost:8080/"
        },
        "outputId": "51e4ac83-d339-4aa4-fd0f-2309e3d2bb77"
      },
      "outputs": [
        {
          "output_type": "execute_result",
          "data": {
            "text/plain": [
              "['apple', 'kiwi', 'orange', 'cherry', 'grape']"
            ]
          },
          "metadata": {},
          "execution_count": 36
        }
      ],
      "source": [
        "### =====                ==== ####\n",
        "###       YOUR CODE HERE      ####\n",
        "### =====                ==== ####\n",
        "fruits"
      ]
    },
    {
      "cell_type": "markdown",
      "metadata": {
        "id": "180466fc"
      },
      "source": [
        "Question\n",
        "\n",
        "7. Remove the last element from the list 'fruits' using the pop method.\n"
      ]
    },
    {
      "cell_type": "code",
      "execution_count": 37,
      "metadata": {
        "id": "228301d3",
        "colab": {
          "base_uri": "https://localhost:8080/"
        },
        "outputId": "b727bfbd-bb0e-4b9a-d04b-e10ed3b0b769"
      },
      "outputs": [
        {
          "output_type": "execute_result",
          "data": {
            "text/plain": [
              "['apple', 'kiwi', 'orange', 'cherry']"
            ]
          },
          "metadata": {},
          "execution_count": 37
        }
      ],
      "source": [
        "### =====                ==== ####\n",
        "###       YOUR CODE HERE      ####\n",
        "### =====                ==== ####\n",
        "fruits.pop(-1)\n",
        "fruits"
      ]
    },
    {
      "cell_type": "markdown",
      "metadata": {
        "id": "e6bd682f"
      },
      "source": [
        "Question\n",
        "\n",
        "8. Create a list of numbers from 1 to 5 named 'numbers'.\n"
      ]
    },
    {
      "cell_type": "code",
      "execution_count": 38,
      "metadata": {
        "id": "2329d1ed",
        "colab": {
          "base_uri": "https://localhost:8080/"
        },
        "outputId": "3d02c3fc-cde0-44a9-ac7b-d7ed59f1b590"
      },
      "outputs": [
        {
          "output_type": "execute_result",
          "data": {
            "text/plain": [
              "[1, 2, 3, 4, 5]"
            ]
          },
          "metadata": {},
          "execution_count": 38
        }
      ],
      "source": [
        "### =====                ==== ####\n",
        "###       YOUR CODE HERE      ####\n",
        "### =====                ==== ####\n",
        "numbers=[1,2,3,4,5]\n",
        "numbers"
      ]
    },
    {
      "cell_type": "markdown",
      "metadata": {
        "id": "5f7dde94"
      },
      "source": [
        "Question\n",
        "\n",
        "9. Find the length of the list 'numbers' and store it in a variable called 'length'.\n"
      ]
    },
    {
      "cell_type": "code",
      "execution_count": 39,
      "metadata": {
        "id": "b52bc433",
        "colab": {
          "base_uri": "https://localhost:8080/"
        },
        "outputId": "5836b633-bfc4-4a3c-dfd4-09ec50e4007b"
      },
      "outputs": [
        {
          "output_type": "stream",
          "name": "stdout",
          "text": [
            "5\n"
          ]
        }
      ],
      "source": [
        "### =====                ==== ####\n",
        "###       YOUR CODE HERE      ####\n",
        "### =====                ==== ####\n",
        "length=len(numbers)\n",
        "print(length)"
      ]
    },
    {
      "cell_type": "markdown",
      "metadata": {
        "id": "a7320b23"
      },
      "source": [
        "Question\n",
        "\n",
        "10. Use list indexing to get the last element of 'numbers'.\n"
      ]
    },
    {
      "cell_type": "code",
      "execution_count": 40,
      "metadata": {
        "id": "ba76e0dc",
        "colab": {
          "base_uri": "https://localhost:8080/"
        },
        "outputId": "b480e91e-a435-4025-8af7-2499a6019896"
      },
      "outputs": [
        {
          "output_type": "execute_result",
          "data": {
            "text/plain": [
              "5"
            ]
          },
          "metadata": {},
          "execution_count": 40
        }
      ],
      "source": [
        "### =====                ==== ####\n",
        "###       YOUR CODE HERE      ####\n",
        "### =====                ==== ####\n",
        "numbers[-1]"
      ]
    },
    {
      "cell_type": "markdown",
      "metadata": {
        "id": "4789b1b4"
      },
      "source": [
        "Question\n",
        "\n",
        "11. Concatenate two lists: a = [1, 2, 3] and b = [4, 5, 6] into a new list 'c'.\n"
      ]
    },
    {
      "cell_type": "code",
      "execution_count": 41,
      "metadata": {
        "id": "85e4b6b3",
        "colab": {
          "base_uri": "https://localhost:8080/"
        },
        "outputId": "7b925e6e-0707-4e3e-e22b-5f25f6458ab0"
      },
      "outputs": [
        {
          "output_type": "execute_result",
          "data": {
            "text/plain": [
              "[1, 2, 3, 4, 5, 6]"
            ]
          },
          "metadata": {},
          "execution_count": 41
        }
      ],
      "source": [
        "### =====                ==== ####\n",
        "###       YOUR CODE HERE      ####\n",
        "### =====                ==== ####\n",
        "a=[1,2,3]\n",
        "b=[4,5,6]\n",
        "c=a+b\n",
        "c"
      ]
    },
    {
      "cell_type": "markdown",
      "metadata": {
        "id": "41f08f7b"
      },
      "source": [
        "Question\n",
        "\n",
        "12. Repeat the list [0] five times and store the result in a variable named 'zeros'.\n"
      ]
    },
    {
      "cell_type": "code",
      "execution_count": 42,
      "metadata": {
        "id": "231e5720",
        "colab": {
          "base_uri": "https://localhost:8080/"
        },
        "outputId": "1be9f500-b71b-40a5-fc70-9abadaf13f93"
      },
      "outputs": [
        {
          "output_type": "execute_result",
          "data": {
            "text/plain": [
              "[0, 0, 0]"
            ]
          },
          "metadata": {},
          "execution_count": 42
        }
      ],
      "source": [
        "### =====                ==== ####\n",
        "###       YOUR CODE HERE      ####\n",
        "### =====                ==== ####\n",
        "l=[0]\n",
        "zeros=l*3\n",
        "zeros"
      ]
    },
    {
      "cell_type": "markdown",
      "metadata": {
        "id": "f18be103"
      },
      "source": [
        "Question\n",
        "\n",
        "13. Create a list 'mixed' that contains an integer, a string, and a float.\n"
      ]
    },
    {
      "cell_type": "code",
      "execution_count": 43,
      "metadata": {
        "id": "7cce853b",
        "colab": {
          "base_uri": "https://localhost:8080/"
        },
        "outputId": "8dd499b0-4712-4fdb-ab79-4935da5a6843"
      },
      "outputs": [
        {
          "output_type": "execute_result",
          "data": {
            "text/plain": [
              "[1, 2.0, '3']"
            ]
          },
          "metadata": {},
          "execution_count": 43
        }
      ],
      "source": [
        "### =====                ==== ####\n",
        "###       YOUR CODE HERE      ####\n",
        "### =====                ==== ####\n",
        "mixed=[1,2.0,'3']\n",
        "mixed"
      ]
    },
    {
      "cell_type": "markdown",
      "metadata": {
        "id": "44a23ff0"
      },
      "source": [
        "Question\n",
        "\n",
        "14. Slice the list numbers = [10, 20, 30, 40, 50] to get only the first three elements.\n"
      ]
    },
    {
      "cell_type": "code",
      "execution_count": 44,
      "metadata": {
        "id": "c8da5c93",
        "colab": {
          "base_uri": "https://localhost:8080/"
        },
        "outputId": "1d95246e-e63c-450f-ed58-ff800dccf042"
      },
      "outputs": [
        {
          "output_type": "stream",
          "name": "stdout",
          "text": [
            "[10, 20, 30]\n"
          ]
        }
      ],
      "source": [
        "### =====                ==== ####\n",
        "###       YOUR CODE HERE      ####\n",
        "### =====                ==== ####\n",
        "numbers=[10,20,30,40,50]\n",
        "print(numbers[:3])"
      ]
    },
    {
      "cell_type": "markdown",
      "metadata": {
        "id": "5828ed66"
      },
      "source": [
        "Question\n",
        "\n",
        "15. Slice the list numbers to get only the last two elements.\n"
      ]
    },
    {
      "cell_type": "code",
      "execution_count": 45,
      "metadata": {
        "id": "bb608d54",
        "colab": {
          "base_uri": "https://localhost:8080/"
        },
        "outputId": "9b926879-2cc8-4ebc-f3fb-4084ce0f6e0f"
      },
      "outputs": [
        {
          "output_type": "stream",
          "name": "stdout",
          "text": [
            "[40, 50]\n"
          ]
        }
      ],
      "source": [
        "### =====                ==== ####\n",
        "###       YOUR CODE HERE      ####\n",
        "### =====                ==== ####\n",
        "print(numbers[-2:])"
      ]
    },
    {
      "cell_type": "markdown",
      "metadata": {
        "id": "a759fde4"
      },
      "source": [
        "Question\n",
        "\n",
        "16. Create a new list named 'squares' that contains the square of 1, 2, 3, and 4 (i.e. [1, 4, 9, 16]).\n"
      ]
    },
    {
      "cell_type": "code",
      "execution_count": 46,
      "metadata": {
        "id": "fe5c546c",
        "colab": {
          "base_uri": "https://localhost:8080/"
        },
        "outputId": "b95385b9-a158-4cfa-dd19-30fe5f0a0c8d"
      },
      "outputs": [
        {
          "output_type": "stream",
          "name": "stdout",
          "text": [
            "[1, 4, 9, 16]\n"
          ]
        }
      ],
      "source": [
        "### =====                ==== ####\n",
        "###       YOUR CODE HERE      ####\n",
        "### =====                ==== ####\n",
        "lst = [1, 2, 3, 4]\n",
        "squares = []\n",
        "\n",
        "for n in lst:\n",
        "    squares.append(n ** 2)\n",
        "\n",
        "print(squares)"
      ]
    },
    {
      "cell_type": "markdown",
      "metadata": {
        "id": "2eec139f"
      },
      "source": [
        "Question\n",
        "\n",
        "17. Check if \"apple\" is in the list 'fruits' and store the result in a variable 'has_apple'.\n"
      ]
    },
    {
      "cell_type": "code",
      "execution_count": 47,
      "metadata": {
        "id": "377ecd54",
        "colab": {
          "base_uri": "https://localhost:8080/"
        },
        "outputId": "46c173cf-5546-4c05-9167-ef9f713388e2"
      },
      "outputs": [
        {
          "output_type": "stream",
          "name": "stdout",
          "text": [
            "True\n"
          ]
        }
      ],
      "source": [
        "### =====                ==== ####\n",
        "###       YOUR CODE HERE      ####\n",
        "### =====                ==== ####\n",
        "has_apple = \"apple\" in fruits\n",
        "print(has_apple)\n"
      ]
    },
    {
      "cell_type": "markdown",
      "metadata": {
        "id": "0b655fc6"
      },
      "source": [
        "Question\n",
        "\n",
        "18. Sort the list numbers = [3, 1, 4, 2] in ascending order.\n"
      ]
    },
    {
      "cell_type": "code",
      "execution_count": 48,
      "metadata": {
        "id": "3956ce6d",
        "colab": {
          "base_uri": "https://localhost:8080/"
        },
        "outputId": "3ff570bf-2aad-415e-efaf-c1452c9119af"
      },
      "outputs": [
        {
          "output_type": "execute_result",
          "data": {
            "text/plain": [
              "[1, 2, 3, 4]"
            ]
          },
          "metadata": {},
          "execution_count": 48
        }
      ],
      "source": [
        "### =====                ==== ####\n",
        "###       YOUR CODE HERE      ####\n",
        "### =====                ==== ####\n",
        "numbers=[3,1,4,2]\n",
        "numbers.sort()\n",
        "numbers"
      ]
    },
    {
      "cell_type": "markdown",
      "metadata": {
        "id": "01f3e28a"
      },
      "source": [
        "Question\n",
        "\n",
        "19. Reverse the list 'numbers' so it becomes [2, 4, 1, 3].\n"
      ]
    },
    {
      "cell_type": "code",
      "execution_count": 49,
      "metadata": {
        "id": "448e6d5c",
        "colab": {
          "base_uri": "https://localhost:8080/"
        },
        "outputId": "3d405b9b-e3cb-4025-94a4-3ed0acd7f06f"
      },
      "outputs": [
        {
          "output_type": "execute_result",
          "data": {
            "text/plain": [
              "[2, 4, 1, 3]"
            ]
          },
          "metadata": {},
          "execution_count": 49
        }
      ],
      "source": [
        "### =====                ==== ####\n",
        "###       YOUR CODE HERE      ####\n",
        "### =====                ==== ####\n",
        "numbers=[3,1,4,2]\n",
        "numbers.reverse()\n",
        "numbers"
      ]
    },
    {
      "cell_type": "markdown",
      "metadata": {
        "id": "243d132d"
      },
      "source": [
        "Question\n",
        "\n",
        "20. Use the min and max functions to find the smallest and largest elements in the list numbers = [8, 3, 5, 1, 9]. Store them in variables 'minimum' and 'maximum'.\n"
      ]
    },
    {
      "cell_type": "code",
      "execution_count": 50,
      "metadata": {
        "id": "7c9a01f8",
        "colab": {
          "base_uri": "https://localhost:8080/"
        },
        "outputId": "a7d2209c-12f4-475e-a91a-813a8a455f73"
      },
      "outputs": [
        {
          "output_type": "stream",
          "name": "stdout",
          "text": [
            "Maximum: 9\n",
            "Minimum: 1\n"
          ]
        }
      ],
      "source": [
        "### =====                ==== ####\n",
        "###       YOUR CODE HERE      ####\n",
        "### =====                ==== ####\n",
        "numbers=[8,3,5,1,9]\n",
        "maximum = max(numbers)\n",
        "minimum = min(numbers)\n",
        "\n",
        "print(\"Maximum:\", maximum)\n",
        "print(\"Minimum:\", minimum)\n"
      ]
    },
    {
      "cell_type": "markdown",
      "metadata": {
        "id": "c96L2TRbtPbX"
      },
      "source": [
        "### Dictionaries\n",
        "\n",
        "Ensemble of pairs: (key, value)\n",
        "\n",
        "You should not consider dictionaries as **ordered** iterators. They don't have order. They have **keys** to refer to values instead.\n",
        "\n",
        "Let's see different ways to create the dictionary as per PEP8 conventions. These produce exactly the same result."
      ]
    },
    {
      "cell_type": "code",
      "execution_count": 51,
      "metadata": {
        "id": "n_GAYJ8otPbX",
        "outputId": "63951aa8-31f9-4dfa-cc9b-ab299c85eaaa",
        "colab": {
          "base_uri": "https://localhost:8080/"
        }
      },
      "outputs": [
        {
          "output_type": "execute_result",
          "data": {
            "text/plain": [
              "{'surname': ['jp', 'pa', 'ma', 'fo'],\n",
              " 'name': ['aba', 'chd', 'oih', 'iouh'],\n",
              " 'age': [12, 23, 40, 8]}"
            ]
          },
          "metadata": {},
          "execution_count": 51
        }
      ],
      "source": [
        "dico = {'surname': ['jp', 'pa', 'ma', 'fo'], 'name': ['aba', 'chd', 'oih', 'iouh'], 'age': [12, 23, 40, 8]}\n",
        "\n",
        "dico = {'surname': ['jp', 'pa', 'ma', 'fo'],\n",
        "        'name': ['aba', 'chd', 'oih', 'iouh'],\n",
        "        'age': [12, 23, 40, 8]}\n",
        "\n",
        "dico = {\n",
        "    'surname': ['jp', 'pa', 'ma', 'fo'],\n",
        "    'name': ['aba', 'chd', 'oih', 'iouh'],\n",
        "    'age': [12, 23, 40, 8],\n",
        "}\n",
        "\n",
        "dico"
      ]
    },
    {
      "cell_type": "markdown",
      "metadata": {
        "id": "oYLMZooXtPbX"
      },
      "source": [
        "--------------------------------\n",
        "Question\n",
        "\n",
        "1. Create a dictionary named 'transactions' containing:\n",
        "    - keys: date and amount\n",
        "    - with respective values:\n",
        "      - 2025-09-01 and 2025-09-02\n",
        "      - 1200 and 5000"
      ]
    },
    {
      "cell_type": "code",
      "execution_count": 52,
      "metadata": {
        "id": "Bi7Vn5EYtPbX",
        "colab": {
          "base_uri": "https://localhost:8080/"
        },
        "outputId": "0b238c4c-2042-4ddc-901a-f9ecb614c330"
      },
      "outputs": [
        {
          "output_type": "execute_result",
          "data": {
            "text/plain": [
              "{'date': ['2025-09-1', '2025-09-2'], 'amount': [1200, 1500]}"
            ]
          },
          "metadata": {},
          "execution_count": 52
        }
      ],
      "source": [
        "### =====                ==== ####\n",
        "###       YOUR CODE HERE      ####\n",
        "### =====                ==== ####\n",
        "transactions={'date':['2025-09-1', '2025-09-2'],'amount':[1200,1500]}\n",
        "transactions\n"
      ]
    },
    {
      "cell_type": "markdown",
      "metadata": {
        "id": "xOy0cj1mtPbX"
      },
      "source": [
        "Question\n",
        "\n",
        "1. Create a dictionary named 'dico_stu' containing:\n",
        "    - keys: pilou, balo, pata, mani, tika\n",
        "    - respective values of their age: 120, 140, 145, 110, 115\n",
        "\n",
        "Becareful the form of this dictionary is different from above:\n",
        "- In the above example there are 2 keys with 2 values each respectivelly\n",
        "- In this question there are 5 keys with 1 value each only (each person has only 1 age)"
      ]
    },
    {
      "cell_type": "code",
      "execution_count": 53,
      "metadata": {
        "id": "f97RQPxktPbX",
        "colab": {
          "base_uri": "https://localhost:8080/"
        },
        "outputId": "82bdeb87-0720-4b5f-fb70-3d29ea704688"
      },
      "outputs": [
        {
          "output_type": "execute_result",
          "data": {
            "text/plain": [
              "{'pilou': 120, 'balo': 140, 'pata': 145, 'mani': 110, 'tika': 115}"
            ]
          },
          "metadata": {},
          "execution_count": 53
        }
      ],
      "source": [
        "### =====                ==== ####\n",
        "###       YOUR CODE HERE      ####\n",
        "### =====                ==== ####\n",
        "dico_stu={'pilou':120,'balo':140,'pata':145,'mani':110,'tika':115}\n",
        "dico_stu\n"
      ]
    },
    {
      "cell_type": "markdown",
      "metadata": {
        "id": "SehOwR-utPbX"
      },
      "source": [
        "#### Extract info from dictionary"
      ]
    },
    {
      "cell_type": "markdown",
      "metadata": {
        "id": "W1TEvODctPbX"
      },
      "source": [
        "It's great to know how to store information in a structure like a dictionnary. It's even better to know how to extract the information previously stored."
      ]
    },
    {
      "cell_type": "code",
      "execution_count": 54,
      "metadata": {
        "id": "uPgHmARytPbX",
        "outputId": "a7474e0b-224a-4b37-c593-9dae27ca3231",
        "colab": {
          "base_uri": "https://localhost:8080/"
        }
      },
      "outputs": [
        {
          "output_type": "execute_result",
          "data": {
            "text/plain": [
              "['jp', 'pa', 'ma', 'fo']"
            ]
          },
          "metadata": {},
          "execution_count": 54
        }
      ],
      "source": [
        "# Extract / get the surnames in dico\n",
        "dico['surname']"
      ]
    },
    {
      "cell_type": "code",
      "execution_count": 55,
      "metadata": {
        "id": "w5vHdr0ztPbX",
        "outputId": "65d1f91b-dc28-45b4-ae67-d0cac5a34117",
        "colab": {
          "base_uri": "https://localhost:8080/"
        }
      },
      "outputs": [
        {
          "output_type": "execute_result",
          "data": {
            "text/plain": [
              "['aba', 'chd', 'oih', 'iouh']"
            ]
          },
          "metadata": {},
          "execution_count": 55
        }
      ],
      "source": [
        "# Extract / get the names\n",
        "dico['name']"
      ]
    },
    {
      "cell_type": "markdown",
      "metadata": {
        "id": "b4-jYohhtPbX"
      },
      "source": [
        "We can actually get all the keys or values using the corresponding `method` of dictionnaries"
      ]
    },
    {
      "cell_type": "code",
      "execution_count": 56,
      "metadata": {
        "id": "1VCwNfjXtPbX",
        "outputId": "f4b89331-e393-4f4f-bbc7-bd77b39ab4d5",
        "colab": {
          "base_uri": "https://localhost:8080/"
        }
      },
      "outputs": [
        {
          "output_type": "execute_result",
          "data": {
            "text/plain": [
              "dict_items([('surname', ['jp', 'pa', 'ma', 'fo']), ('name', ['aba', 'chd', 'oih', 'iouh']), ('age', [12, 23, 40, 8])])"
            ]
          },
          "metadata": {},
          "execution_count": 56
        }
      ],
      "source": [
        "# Get everything\n",
        "dico.items()"
      ]
    },
    {
      "cell_type": "code",
      "execution_count": 57,
      "metadata": {
        "id": "lJvLBanBtPbX",
        "outputId": "5189da4c-72c5-4099-f2ca-7b3d839521c7",
        "colab": {
          "base_uri": "https://localhost:8080/"
        }
      },
      "outputs": [
        {
          "output_type": "execute_result",
          "data": {
            "text/plain": [
              "dict_keys(['surname', 'name', 'age'])"
            ]
          },
          "metadata": {},
          "execution_count": 57
        }
      ],
      "source": [
        "# Get the keys only\n",
        "dico.keys()"
      ]
    },
    {
      "cell_type": "code",
      "execution_count": 58,
      "metadata": {
        "id": "LARaL5HJtPbX",
        "outputId": "ac170a4c-6bc8-4d09-adfc-ffecd4afab8a",
        "colab": {
          "base_uri": "https://localhost:8080/"
        }
      },
      "outputs": [
        {
          "output_type": "execute_result",
          "data": {
            "text/plain": [
              "dict_values([['jp', 'pa', 'ma', 'fo'], ['aba', 'chd', 'oih', 'iouh'], [12, 23, 40, 8]])"
            ]
          },
          "metadata": {},
          "execution_count": 58
        }
      ],
      "source": [
        "# Get the values only\n",
        "dico.values()"
      ]
    },
    {
      "cell_type": "markdown",
      "metadata": {
        "id": "FqDc1DYXtPbX"
      },
      "source": [
        "#### Add info to dicotionary"
      ]
    },
    {
      "cell_type": "code",
      "execution_count": 59,
      "metadata": {
        "id": "LxJ_Z-LstPbX"
      },
      "outputs": [],
      "source": [
        "# Add a key with its value\n",
        "dico['origin'] = 'earth'"
      ]
    },
    {
      "cell_type": "code",
      "execution_count": 60,
      "metadata": {
        "id": "GqtvMwAXtPbX"
      },
      "outputs": [],
      "source": [
        "# Add value to existing key\n",
        "# Possible only if the corresponding value is contained in a list\n",
        "# (which is the case here, with the key age containing multiple values stored as a list)\n",
        "dico['age'].append(43)"
      ]
    },
    {
      "cell_type": "code",
      "execution_count": 61,
      "metadata": {
        "id": "fAIsTz2stPbY",
        "outputId": "bb46cbe6-8280-4571-8632-6c75a135012d",
        "colab": {
          "base_uri": "https://localhost:8080/"
        }
      },
      "outputs": [
        {
          "output_type": "execute_result",
          "data": {
            "text/plain": [
              "{'surname': ['jp', 'pa', 'ma', 'fo'],\n",
              " 'name': ['aba', 'chd', 'oih', 'iouh'],\n",
              " 'age': [12, 23, 40, 8, 43],\n",
              " 'origin': 'earth'}"
            ]
          },
          "metadata": {},
          "execution_count": 61
        }
      ],
      "source": [
        "# Check the modifications\n",
        "dico"
      ]
    },
    {
      "cell_type": "markdown",
      "metadata": {
        "id": "gnrj3alVtPbY"
      },
      "source": [
        "We observe that lists of the dictionary do not need to be of same length.\n",
        "\n",
        "Actually, the values in a dictionnary can be of any type."
      ]
    },
    {
      "cell_type": "code",
      "execution_count": 62,
      "metadata": {
        "id": "XKiEUU2gtPbY"
      },
      "outputs": [],
      "source": [
        "# Let's store a single character (str)\n",
        "dico['country'] = 'a'"
      ]
    },
    {
      "cell_type": "code",
      "execution_count": 63,
      "metadata": {
        "id": "8B_DN895tPbY",
        "outputId": "9c613c9a-2b67-411e-b1f7-35a7d1bfb970",
        "colab": {
          "base_uri": "https://localhost:8080/"
        }
      },
      "outputs": [
        {
          "output_type": "execute_result",
          "data": {
            "text/plain": [
              "{'surname': ['jp', 'pa', 'ma', 'fo'],\n",
              " 'name': ['aba', 'chd', 'oih', 'iouh'],\n",
              " 'age': [12, 23, 40, 8, 43],\n",
              " 'origin': 'earth',\n",
              " 'country': 'a'}"
            ]
          },
          "metadata": {},
          "execution_count": 63
        }
      ],
      "source": [
        "dico"
      ]
    },
    {
      "cell_type": "code",
      "execution_count": 64,
      "metadata": {
        "id": "SnBI3YG5tPbY"
      },
      "outputs": [],
      "source": [
        "# Let's replace existing key/values (the dumb 'a' added above)\n",
        "dico['country'] = ['fr', 'gb', 'us', 'es']"
      ]
    },
    {
      "cell_type": "code",
      "execution_count": 65,
      "metadata": {
        "id": "Wq2naKxytPbY",
        "outputId": "21ab2fe3-dd7f-4ef5-e7f0-d70046602be4",
        "colab": {
          "base_uri": "https://localhost:8080/"
        }
      },
      "outputs": [
        {
          "output_type": "execute_result",
          "data": {
            "text/plain": [
              "{'surname': ['jp', 'pa', 'ma', 'fo'],\n",
              " 'name': ['aba', 'chd', 'oih', 'iouh'],\n",
              " 'age': [12, 23, 40, 8, 43],\n",
              " 'origin': 'earth',\n",
              " 'country': ['fr', 'gb', 'us', 'es']}"
            ]
          },
          "metadata": {},
          "execution_count": 65
        }
      ],
      "source": [
        "dico"
      ]
    },
    {
      "cell_type": "code",
      "execution_count": 66,
      "metadata": {
        "id": "_ihphSswtPbY"
      },
      "outputs": [],
      "source": [
        "# Add a new key with a function as value\n",
        "# This is only to show you that a value can contain anything in a dictionnary\n",
        "dico['objects'] = print\n",
        "\n",
        "# You can see that we wrote 'print' instead of 'print()'.\n",
        "# Adding parenthesis after the name of the function is only used to execute the function.\n",
        "# Here we only wanted to add the reference of the function (instead of executing the function)."
      ]
    },
    {
      "cell_type": "code",
      "execution_count": 67,
      "metadata": {
        "id": "T-9CMkFGtPbY",
        "outputId": "ad743e08-ced8-4073-869b-1a0c2392ffa2",
        "colab": {
          "base_uri": "https://localhost:8080/"
        }
      },
      "outputs": [
        {
          "output_type": "execute_result",
          "data": {
            "text/plain": [
              "{'surname': ['jp', 'pa', 'ma', 'fo'],\n",
              " 'name': ['aba', 'chd', 'oih', 'iouh'],\n",
              " 'age': [12, 23, 40, 8, 43],\n",
              " 'origin': 'earth',\n",
              " 'country': ['fr', 'gb', 'us', 'es'],\n",
              " 'objects': <function print(*args, sep=' ', end='\\n', file=None, flush=False)>}"
            ]
          },
          "metadata": {},
          "execution_count": 67
        }
      ],
      "source": [
        "dico"
      ]
    },
    {
      "cell_type": "markdown",
      "source": [
        "#### Exercises!"
      ],
      "metadata": {
        "id": "g5gYqg6tUSru"
      }
    },
    {
      "cell_type": "markdown",
      "metadata": {
        "id": "xHA64NgQSzD9"
      },
      "source": [
        "Question\n",
        "\n",
        "Print the list of all ages stored in the dictionary."
      ]
    },
    {
      "cell_type": "code",
      "metadata": {
        "id": "6d4wO_LRSzD9",
        "colab": {
          "base_uri": "https://localhost:8080/"
        },
        "outputId": "04d8f59b-cc95-4b13-ad97-9291461cf8bf"
      },
      "execution_count": 68,
      "outputs": [
        {
          "output_type": "execute_result",
          "data": {
            "text/plain": [
              "[12, 23, 40, 8, 43]"
            ]
          },
          "metadata": {},
          "execution_count": 68
        }
      ],
      "source": [
        "### =====                ==== ####\n",
        "###       YOUR CODE HERE      ####\n",
        "### =====                ==== ####\n",
        "dico['age']"
      ]
    },
    {
      "cell_type": "markdown",
      "metadata": {
        "id": "2u6xPhBbSzD9"
      },
      "source": [
        "Question\n",
        "\n",
        "Access and print the first element of the `surname` list."
      ]
    },
    {
      "cell_type": "code",
      "metadata": {
        "id": "8Fm1e9LRSzD9",
        "colab": {
          "base_uri": "https://localhost:8080/",
          "height": 35
        },
        "outputId": "1ac669f4-7e4e-451d-c4e9-349ef1596c07"
      },
      "execution_count": 69,
      "outputs": [
        {
          "output_type": "execute_result",
          "data": {
            "text/plain": [
              "'jp'"
            ],
            "application/vnd.google.colaboratory.intrinsic+json": {
              "type": "string"
            }
          },
          "metadata": {},
          "execution_count": 69
        }
      ],
      "source": [
        "### =====                ==== ####\n",
        "###       YOUR CODE HERE      ####\n",
        "### =====                ==== ####\n",
        "dico['surname'][0]"
      ]
    },
    {
      "cell_type": "markdown",
      "metadata": {
        "id": "jGV7Zz-iSzD9"
      },
      "source": [
        "Question\n",
        "\n",
        "Access and print the last element of the `name` list."
      ]
    },
    {
      "cell_type": "code",
      "metadata": {
        "id": "1qhnNjGOSzD9",
        "colab": {
          "base_uri": "https://localhost:8080/",
          "height": 35
        },
        "outputId": "017a405a-8e7c-4be5-cba1-45a15d1a30ba"
      },
      "execution_count": 70,
      "outputs": [
        {
          "output_type": "execute_result",
          "data": {
            "text/plain": [
              "'iouh'"
            ],
            "application/vnd.google.colaboratory.intrinsic+json": {
              "type": "string"
            }
          },
          "metadata": {},
          "execution_count": 70
        }
      ],
      "source": [
        "### =====                ==== ####\n",
        "###       YOUR CODE HERE      ####\n",
        "### =====                ==== ####\n",
        "dico['name'][-1]"
      ]
    },
    {
      "cell_type": "markdown",
      "metadata": {
        "id": "Dq8ckc37SzD9"
      },
      "source": [
        "Question\n",
        "\n",
        "Access and print the maximum age from the `age` list."
      ]
    },
    {
      "cell_type": "code",
      "metadata": {
        "id": "A7h5fP-TSzD9",
        "colab": {
          "base_uri": "https://localhost:8080/"
        },
        "outputId": "d0035c34-deea-4cd0-a27e-0b24b7726286"
      },
      "execution_count": 71,
      "outputs": [
        {
          "output_type": "execute_result",
          "data": {
            "text/plain": [
              "43"
            ]
          },
          "metadata": {},
          "execution_count": 71
        }
      ],
      "source": [
        "### =====                ==== ####\n",
        "###       YOUR CODE HERE      ####\n",
        "### =====                ==== ####\n",
        "max(dico['age'])"
      ]
    },
    {
      "cell_type": "markdown",
      "metadata": {
        "id": "S74VBqOcSzD9"
      },
      "source": [
        "Question\n",
        "\n",
        "Access and print the minimum age from the `age` list."
      ]
    },
    {
      "cell_type": "code",
      "metadata": {
        "id": "elA7xnS6SzD9",
        "colab": {
          "base_uri": "https://localhost:8080/"
        },
        "outputId": "414812e1-3cca-450c-aae3-b20115832638"
      },
      "execution_count": 72,
      "outputs": [
        {
          "output_type": "execute_result",
          "data": {
            "text/plain": [
              "8"
            ]
          },
          "metadata": {},
          "execution_count": 72
        }
      ],
      "source": [
        "### =====                ==== ####\n",
        "###       YOUR CODE HERE      ####\n",
        "### =====                ==== ####\n",
        "min(dico['age'])"
      ]
    },
    {
      "cell_type": "markdown",
      "metadata": {
        "id": "E5umCbsKSzD9"
      },
      "source": [
        "Question\n",
        "\n",
        "Add a new key `city` with the values `['Paris','London','NYC','Madrid']`."
      ]
    },
    {
      "cell_type": "code",
      "metadata": {
        "id": "H09rPopuSzD9",
        "colab": {
          "base_uri": "https://localhost:8080/"
        },
        "outputId": "0b54c844-0e3b-4c0a-a8a3-61c186e71c03"
      },
      "execution_count": 73,
      "outputs": [
        {
          "output_type": "execute_result",
          "data": {
            "text/plain": [
              "{'surname': ['jp', 'pa', 'ma', 'fo'],\n",
              " 'name': ['aba', 'chd', 'oih', 'iouh'],\n",
              " 'age': [12, 23, 40, 8, 43],\n",
              " 'origin': 'earth',\n",
              " 'country': ['fr', 'gb', 'us', 'es'],\n",
              " 'objects': <function print(*args, sep=' ', end='\\n', file=None, flush=False)>,\n",
              " 'city': ['Paris', 'London', 'NYC', 'Madrid']}"
            ]
          },
          "metadata": {},
          "execution_count": 73
        }
      ],
      "source": [
        "### =====                ==== ####\n",
        "###       YOUR CODE HERE      ####\n",
        "### =====                ==== ####\n",
        "dico['city']=['Paris','London','NYC','Madrid']\n",
        "dico"
      ]
    },
    {
      "cell_type": "markdown",
      "metadata": {
        "id": "iJ5HvzvzSzD9"
      },
      "source": [
        "Question\n",
        "\n",
        "Add a new surname `'zi'` with name `'lou'` and age `30` (update all three lists)."
      ]
    },
    {
      "cell_type": "code",
      "metadata": {
        "id": "NoledQlASzD-",
        "colab": {
          "base_uri": "https://localhost:8080/"
        },
        "outputId": "6c202bb1-68c9-41b6-9537-9504639c76e1"
      },
      "execution_count": 74,
      "outputs": [
        {
          "output_type": "execute_result",
          "data": {
            "text/plain": [
              "{'surname': ['jp', 'pa', 'ma', 'fo', 'zi'],\n",
              " 'name': ['aba', 'chd', 'oih', 'iouh', 'lou'],\n",
              " 'age': [12, 23, 40, 8, 43, 30],\n",
              " 'origin': 'earth',\n",
              " 'country': ['fr', 'gb', 'us', 'es'],\n",
              " 'objects': <function print(*args, sep=' ', end='\\n', file=None, flush=False)>,\n",
              " 'city': ['Paris', 'London', 'NYC', 'Madrid']}"
            ]
          },
          "metadata": {},
          "execution_count": 74
        }
      ],
      "source": [
        "### =====                ==== ####\n",
        "###       YOUR CODE HERE      ####\n",
        "### =====                ==== ####\n",
        "dico['surname'].append('zi')\n",
        "dico['name'].append('lou')\n",
        "dico['age'].append(30)\n",
        "dico"
      ]
    },
    {
      "cell_type": "markdown",
      "metadata": {
        "id": "9VkT-e4ySzD-"
      },
      "source": [
        "Question\n",
        "\n",
        "Replace the second element of `surname` with `'xx'`."
      ]
    },
    {
      "cell_type": "code",
      "metadata": {
        "id": "BR7FO8WHSzD-",
        "colab": {
          "base_uri": "https://localhost:8080/"
        },
        "outputId": "e40b81a3-2a20-4545-c8a5-586214bd890f"
      },
      "execution_count": 75,
      "outputs": [
        {
          "output_type": "execute_result",
          "data": {
            "text/plain": [
              "{'surname': ['jp', 'xx', 'ma', 'fo', 'zi'],\n",
              " 'name': ['aba', 'chd', 'oih', 'iouh', 'lou'],\n",
              " 'age': [12, 23, 40, 8, 43, 30],\n",
              " 'origin': 'earth',\n",
              " 'country': ['fr', 'gb', 'us', 'es'],\n",
              " 'objects': <function print(*args, sep=' ', end='\\n', file=None, flush=False)>,\n",
              " 'city': ['Paris', 'London', 'NYC', 'Madrid']}"
            ]
          },
          "metadata": {},
          "execution_count": 75
        }
      ],
      "source": [
        "### =====                ==== ####\n",
        "###       YOUR CODE HERE      ####\n",
        "### =====                ==== ####\n",
        "dico['surname'][1]='xx'\n",
        "dico\n"
      ]
    },
    {
      "cell_type": "markdown",
      "metadata": {
        "id": "tECwhZIaSzD-"
      },
      "source": [
        "Question\n",
        "\n",
        "Replace the last element of `age` with `99`."
      ]
    },
    {
      "cell_type": "code",
      "metadata": {
        "id": "JZB9EArPSzD-",
        "colab": {
          "base_uri": "https://localhost:8080/"
        },
        "outputId": "8e63246b-a048-40a4-e3d6-bc3c542778a0"
      },
      "execution_count": 76,
      "outputs": [
        {
          "output_type": "execute_result",
          "data": {
            "text/plain": [
              "{'surname': ['jp', 'xx', 'ma', 'fo', 'zi'],\n",
              " 'name': ['aba', 'chd', 'oih', 'iouh', 'lou'],\n",
              " 'age': [12, 23, 40, 8, 43, 99],\n",
              " 'origin': 'earth',\n",
              " 'country': ['fr', 'gb', 'us', 'es'],\n",
              " 'objects': <function print(*args, sep=' ', end='\\n', file=None, flush=False)>,\n",
              " 'city': ['Paris', 'London', 'NYC', 'Madrid']}"
            ]
          },
          "metadata": {},
          "execution_count": 76
        }
      ],
      "source": [
        "### =====                ==== ####\n",
        "###       YOUR CODE HERE      ####\n",
        "### =====                ==== ####\n",
        "dico['age'][-1]=99\n",
        "dico"
      ]
    },
    {
      "cell_type": "markdown",
      "metadata": {
        "id": "32l8xnUqSzD-"
      },
      "source": [
        "Question\n",
        "\n",
        "Remove the third element of `name`."
      ]
    },
    {
      "cell_type": "code",
      "metadata": {
        "id": "J7jd7DkoSzD-",
        "colab": {
          "base_uri": "https://localhost:8080/"
        },
        "outputId": "851d0973-94bd-402b-abb6-152857f24d00"
      },
      "execution_count": 77,
      "outputs": [
        {
          "output_type": "execute_result",
          "data": {
            "text/plain": [
              "{'surname': ['jp', 'xx', 'ma', 'fo', 'zi'],\n",
              " 'name': ['aba', 'chd', 'oih', 'iouh', 'lou'],\n",
              " 'age': [12, 23, 40, 8, 43, 99],\n",
              " 'origin': 'earth',\n",
              " 'country': ['fr', 'gb', 'us', 'es'],\n",
              " 'objects': <function print(*args, sep=' ', end='\\n', file=None, flush=False)>,\n",
              " 'city': ['Paris', 'London', 'NYC', 'Madrid']}"
            ]
          },
          "metadata": {},
          "execution_count": 77
        }
      ],
      "source": [
        "### =====                ==== ####\n",
        "###       YOUR CODE HERE      ####\n",
        "### =====                ==== ####\n",
        "dico\n"
      ]
    },
    {
      "cell_type": "markdown",
      "metadata": {
        "id": "72E5IMiZSzD-"
      },
      "source": [
        "Question\n",
        "\n",
        "Compute the average age from the `age` list."
      ]
    },
    {
      "cell_type": "code",
      "metadata": {
        "id": "XQYe8zqsSzD-",
        "colab": {
          "base_uri": "https://localhost:8080/"
        },
        "outputId": "971031ef-eadb-4cd1-ee2a-a1472a133e6a"
      },
      "execution_count": 78,
      "outputs": [
        {
          "output_type": "execute_result",
          "data": {
            "text/plain": [
              "37.5"
            ]
          },
          "metadata": {},
          "execution_count": 78
        }
      ],
      "source": [
        "### =====                ==== ####\n",
        "###       YOUR CODE HERE      ####\n",
        "### =====                ==== ####\n",
        "average = sum(dico['age'])/ len(dico['age'])\n",
        "average\n"
      ]
    },
    {
      "cell_type": "markdown",
      "metadata": {
        "id": "8GY5NWh_SzD-"
      },
      "source": [
        "Question\n",
        "\n",
        "Create a list of tuples combining each surname and its corresponding name."
      ]
    },
    {
      "cell_type": "code",
      "metadata": {
        "id": "G5jvqrWoSzD-",
        "colab": {
          "base_uri": "https://localhost:8080/"
        },
        "outputId": "c5576a1a-6ebf-495c-9fa1-276c821f6dd5"
      },
      "execution_count": 79,
      "outputs": [
        {
          "output_type": "execute_result",
          "data": {
            "text/plain": [
              "[('jp', 'aba'), ('xx', 'chd'), ('ma', 'oih'), ('fo', 'iouh'), ('zi', 'lou')]"
            ]
          },
          "metadata": {},
          "execution_count": 79
        }
      ],
      "source": [
        "### =====                ==== ####\n",
        "###       YOUR CODE HERE      ####\n",
        "### =====                ==== ####\n",
        "combined = list(zip(dico['surname'], dico['name']))\n",
        "combined"
      ]
    },
    {
      "cell_type": "markdown",
      "metadata": {
        "id": "ZogHeHp2SzD-"
      },
      "source": [
        "Question\n",
        "\n",
        "Create a dictionary `ages_dict` where each surname is a key and the corresponding age is the value."
      ]
    },
    {
      "cell_type": "code",
      "metadata": {
        "id": "MAPPWSGXSzD-",
        "colab": {
          "base_uri": "https://localhost:8080/"
        },
        "outputId": "e0d4ba35-4727-4808-d868-f527ba7e8f90"
      },
      "execution_count": 80,
      "outputs": [
        {
          "output_type": "execute_result",
          "data": {
            "text/plain": [
              "{'jp': 12, 'xx': 23, 'ma': 40, 'fo': 8, 'zi': 43}"
            ]
          },
          "metadata": {},
          "execution_count": 80
        }
      ],
      "source": [
        "### =====                ==== ####\n",
        "###       YOUR CODE HERE      ####\n",
        "### =====                ==== ####\n",
        "ages_dict = dict(zip(dico['surname'], dico['age']))\n",
        "\n",
        "ages_dict"
      ]
    },
    {
      "cell_type": "markdown",
      "source": [],
      "metadata": {
        "id": "wO6X06Szd524"
      }
    },
    {
      "cell_type": "markdown",
      "metadata": {
        "id": "jNxJo-osd5Je"
      },
      "source": [
        "Question\n",
        "\n",
        "Create a dictionary `ages_dict` where each surname is a key and the corresponding age is the value."
      ]
    },
    {
      "cell_type": "markdown",
      "metadata": {
        "id": "D7mj20mWd4UR"
      },
      "source": [
        "Question\n",
        "\n",
        "Create a dictionary `ages_dict` where each surname is a key and the corresponding age is the value."
      ]
    },
    {
      "cell_type": "markdown",
      "metadata": {
        "id": "fqKjMOU0tPbX"
      },
      "source": [
        "Question\n",
        "\n",
        "1. Get the age of pata\n",
        "2. Get the age of tika"
      ]
    },
    {
      "cell_type": "code",
      "execution_count": 81,
      "metadata": {
        "id": "GoVqIvIftPbX",
        "colab": {
          "base_uri": "https://localhost:8080/"
        },
        "outputId": "9c77f649-0c88-448e-f3f4-5e9e74a6ece9"
      },
      "outputs": [
        {
          "output_type": "stream",
          "name": "stdout",
          "text": [
            "145\n",
            "115\n"
          ]
        }
      ],
      "source": [
        "### =====                ==== ####\n",
        "###       YOUR CODE HERE      ####\n",
        "### =====                ==== ####\n",
        "print(dico_stu['pata'])\n",
        "print(dico_stu['tika'])\n"
      ]
    },
    {
      "cell_type": "markdown",
      "metadata": {
        "id": "a5hGiGgbtPbY"
      },
      "source": [
        "Question\n",
        "\n",
        "1. Add new pairs of key/value to dico_stu:\n",
        "- keys: bibi, theo, bidule\n",
        "- respective values: 130, 140, 1000\n",
        "1. Change the value of existing key/values:\n",
        "- set pilou at 121\n",
        "- set balo at 141"
      ]
    },
    {
      "cell_type": "code",
      "execution_count": 82,
      "metadata": {
        "id": "zcQJZr1TtPbY",
        "colab": {
          "base_uri": "https://localhost:8080/"
        },
        "outputId": "4d417b76-b9d9-4bc1-d4b0-c51723856e64"
      },
      "outputs": [
        {
          "output_type": "execute_result",
          "data": {
            "text/plain": [
              "{'pilou': 121,\n",
              " 'balo': 141,\n",
              " 'pata': 145,\n",
              " 'mani': 110,\n",
              " 'tika': 115,\n",
              " 'bibi': 130,\n",
              " 'theo': 140,\n",
              " 'bidule': 1000}"
            ]
          },
          "metadata": {},
          "execution_count": 82
        }
      ],
      "source": [
        "### =====                ==== ####\n",
        "###       YOUR CODE HERE      ####\n",
        "### =====                ==== ####\n",
        "dico_stu['bibi']=130\n",
        "dico_stu['theo']=140\n",
        "dico_stu['bidule']=1000\n",
        "dico_stu['pilou']=121\n",
        "dico_stu['balo']=141\n",
        "dico_stu\n"
      ]
    },
    {
      "cell_type": "markdown",
      "metadata": {
        "id": "TalyPClgtPbY"
      },
      "source": [
        "Question\n",
        "\n",
        "1. Delete the key bibi"
      ]
    },
    {
      "cell_type": "code",
      "execution_count": 83,
      "metadata": {
        "id": "xCsm2JYhtPbY"
      },
      "outputs": [],
      "source": [
        "from ast import Add\n",
        "### =====                ==== ####\n",
        "###       YOUR CODE HERE      ####\n",
        "### =====                ==== ####\n",
        "\n"
      ]
    },
    {
      "cell_type": "markdown",
      "metadata": {
        "id": "ZIci9p_ptPbY"
      },
      "source": [
        "Question\n",
        "\n",
        "1. Add the values of theo and pilou\n",
        "2. Compute the average of theo and pilou values"
      ]
    },
    {
      "cell_type": "code",
      "execution_count": 84,
      "metadata": {
        "id": "qBHarACgtPbY",
        "colab": {
          "base_uri": "https://localhost:8080/"
        },
        "outputId": "b57d3318-b723-4119-cf4b-46be2a532810"
      },
      "outputs": [
        {
          "output_type": "stream",
          "name": "stdout",
          "text": [
            "261\n",
            "average= 130.5\n"
          ]
        }
      ],
      "source": [
        "### =====                ==== ####\n",
        "###       YOUR CODE HERE      ####\n",
        "### =====                ==== ####\n",
        "print((dico_stu['theo']+dico_stu['pilou']))\n",
        "print(\"average=\",(dico_stu['theo']+dico_stu['pilou'])/2)\n",
        "\n",
        "\n"
      ]
    },
    {
      "cell_type": "markdown",
      "metadata": {
        "id": "xkdGCTiAtPbY"
      },
      "source": [
        "### Chaining operations"
      ]
    },
    {
      "cell_type": "markdown",
      "metadata": {
        "id": "miyFfpAktPbY"
      },
      "source": [
        "We can actually use a combination of functions. To understand how it works you should mentally replace each operation by its result. Each operation is applied on the result of the previous set of operations"
      ]
    },
    {
      "cell_type": "code",
      "execution_count": 85,
      "metadata": {
        "id": "APQl7BQhtPbY",
        "outputId": "d871df6d-daab-47a2-e84e-2485584e0158",
        "colab": {
          "base_uri": "https://localhost:8080/"
        }
      },
      "outputs": [
        {
          "output_type": "stream",
          "name": "stdout",
          "text": [
            "['jp', 'xx', 'ma', 'fo', 'zi']\n",
            "jp\n"
          ]
        }
      ],
      "source": [
        "# Extract the first element of the list contained in the key 'surname'\n",
        "# First, understand how to extract the list contained in the dictionnary under the key 'surname'\n",
        "print(dico['surname'])\n",
        "\n",
        "# Second, since we know how to obtain the list, we can simply use the method to extract elements of a list\n",
        "# Using the square brackets and the number indicating the position of the element to extract (here 0 for the first)\n",
        "print(dico['surname'][0])"
      ]
    },
    {
      "cell_type": "code",
      "execution_count": 86,
      "metadata": {
        "id": "GA95JF49tPbY",
        "outputId": "9d258403-3d12-41c6-fa89-40b2fe726fa2",
        "colab": {
          "base_uri": "https://localhost:8080/"
        }
      },
      "outputs": [
        {
          "output_type": "stream",
          "name": "stdout",
          "text": [
            "xx\n",
            "99\n"
          ]
        }
      ],
      "source": [
        "# Extract the second element of the list contained in the key 'surname'\n",
        "print(dico['surname'][1])\n",
        "\n",
        "# Extract the last element of the list contained in the key 'age'\n",
        "print(dico['age'][-1])"
      ]
    },
    {
      "cell_type": "code",
      "execution_count": 87,
      "metadata": {
        "id": "SZWglYQEtPbY",
        "outputId": "4ae3a7e5-9718-403a-bfbe-55d7a5b7fa2e",
        "colab": {
          "base_uri": "https://localhost:8080/"
        }
      },
      "outputs": [
        {
          "output_type": "stream",
          "name": "stdout",
          "text": [
            "<built-in function print>\n",
            "ok\n"
          ]
        }
      ],
      "source": [
        "# Execute the function print contained in the dictionary under the key 'objects'\n",
        "\n",
        "# First, extract the function print\n",
        "print(dico['objects'])\n",
        "\n",
        "# Second, execute the function since dico['objects'] is equivalent to print\n",
        "# Thus make a standard use of it with parenthesis containing a text print('ok')\n",
        "dico['objects']('ok')"
      ]
    },
    {
      "cell_type": "code",
      "execution_count": 88,
      "metadata": {
        "id": "cpUfNUmvtPbY",
        "outputId": "d9ab9b85-ddb4-4c50-d8f1-464e9b1020f3",
        "colab": {
          "base_uri": "https://localhost:8080/",
          "height": 104
        }
      },
      "outputs": [
        {
          "output_type": "stream",
          "name": "stdout",
          "text": [
            "jp-xx-ma-fo-zi\n",
            "JP-XX-MA-FO-ZI\n",
            "XX\n",
            "xx\n"
          ]
        },
        {
          "output_type": "execute_result",
          "data": {
            "text/plain": [
              "'JP-xx-MA-FO-ZI'"
            ],
            "application/vnd.google.colaboratory.intrinsic+json": {
              "type": "string"
            }
          },
          "metadata": {},
          "execution_count": 88
        }
      ],
      "source": [
        "# Let's use some functions from the standard library\n",
        "\n",
        "# Join all surnames and separate them with a dash\n",
        "print('-'.join(dico['surname']))\n",
        "\n",
        "# Then put them in capital letters\n",
        "print('-'.join(dico['surname']).upper())\n",
        "\n",
        "# Then extract the third and fourth letters\n",
        "print('-'.join(dico['surname']).upper()[3:5])\n",
        "\n",
        "# Then transform them back to lower letters\n",
        "print('-'.join(dico['surname']).upper()[3:5].lower())\n",
        "\n",
        "# Instead of extracting them, keep the whole suite of letters with the same modifications than above\n",
        "# This could be done with a cleaner and code, but we keep it complex to make a point (see in next cell)\n",
        "'-'.join(dico['surname']).upper()[:3] + '-'.join(dico['surname'])[3:5] + '-'.join(dico['surname']).upper()[5:]\n",
        "\n",
        "# Do the same with a shorter one-liner\n",
        "'-'.join(dico['surname']).upper()[:3] + '-'.join(dico['surname'])[3:5] + '-'.join(dico['surname']).upper()[5:]"
      ]
    },
    {
      "cell_type": "code",
      "execution_count": 89,
      "metadata": {
        "id": "zR5zUokdtPbY",
        "outputId": "5161c8a0-8a70-41f4-fb7f-0e195bccb01b",
        "colab": {
          "base_uri": "https://localhost:8080/",
          "height": 35
        }
      },
      "outputs": [
        {
          "output_type": "execute_result",
          "data": {
            "text/plain": [
              "'JP-xx-MA-FO-ZI'"
            ],
            "application/vnd.google.colaboratory.intrinsic+json": {
              "type": "string"
            }
          },
          "metadata": {},
          "execution_count": 89
        }
      ],
      "source": [
        "# Okkkkkk we get it! Its possible to compose functions indefinitely, but its not digestible anymore.\n",
        "# Let's use variables for intermediate steps, and appreciate how its way clearer\n",
        "# Even though it requires more lines of code, its easier to understand and maintain (so its definitely prefered)\n",
        "surnames_combined = '-'.join(dico['surname'])\n",
        "surnames_combined_upper = surnames_combined.upper()\n",
        "\n",
        "middle_letters = surnames_combined[3:5]\n",
        "\n",
        "start_letters = surnames_combined_upper[:3]\n",
        "end_letters = surnames_combined_upper[5:]\n",
        "\n",
        "full_combination = start_letters + middle_letters + end_letters\n",
        "full_combination"
      ]
    },
    {
      "cell_type": "code",
      "execution_count": 90,
      "metadata": {
        "id": "PBU-3165tPbY",
        "outputId": "d2d6dd5b-4ed2-43bc-f412-c3330a1daff1",
        "colab": {
          "base_uri": "https://localhost:8080/"
        }
      },
      "outputs": [
        {
          "output_type": "stream",
          "name": "stdout",
          "text": [
            "JP-xx-MA-FO-ZI\n",
            "JP-xx-MA-FO-ZI\n"
          ]
        }
      ],
      "source": [
        "# That was clearer but very verbosy!\n",
        "# Depending on the use case we should try to use the best balance between short code vs long and readable\n",
        "# V1\n",
        "surnames_combined = \"-\".join(dico[\"surname\"])\n",
        "full_combination = surnames_combined.upper()[:3] + surnames_combined[3:5] + surnames_combined.upper()[5:]\n",
        "print(full_combination)\n",
        "\n",
        "# V2\n",
        "surnames_combined = \"-\".join(dico[\"surname\"]).upper()\n",
        "full_combination = surnames_combined[:3] + surnames_combined[3:5].lower() + surnames_combined[5:]\n",
        "print(full_combination)"
      ]
    },
    {
      "cell_type": "code",
      "execution_count": 91,
      "metadata": {
        "id": "JWc7X0o2tPbY",
        "outputId": "5b0029df-a63a-480a-c16c-83ae035d3cee",
        "colab": {
          "base_uri": "https://localhost:8080/",
          "height": 35
        }
      },
      "outputs": [
        {
          "output_type": "execute_result",
          "data": {
            "text/plain": [
              "'JP-xx-MA-FO-ZI'"
            ],
            "application/vnd.google.colaboratory.intrinsic+json": {
              "type": "string"
            }
          },
          "metadata": {},
          "execution_count": 91
        }
      ],
      "source": [
        "# Eventually we can accept to name the variable in a more compact way if it is not used lated in the code (here 's')\n",
        "# Please don't name variables like this if used later in the code, because you would not understand what 's' means\n",
        "# which would force you to go back to this portion of code to understand what 's' means before using it.\n",
        "# Ideally we want the variable name to be self-explanatory and obvious enough to avoid having to go back to the portion\n",
        "# of code where it was defined (imagine doing this for each line of code, it would be a big time waste)\n",
        "s = \"-\".join(dico[\"surname\"])\n",
        "full_combination = s.upper()[:3] + s[3:5] + s.upper()[5:]\n",
        "full_combination"
      ]
    },
    {
      "cell_type": "code",
      "execution_count": 92,
      "metadata": {
        "id": "NuOVSHiRtPbZ",
        "outputId": "e9ac1dec-53cc-4be2-fe38-71e6fe0355e2",
        "colab": {
          "base_uri": "https://localhost:8080/",
          "height": 35
        }
      },
      "outputs": [
        {
          "output_type": "execute_result",
          "data": {
            "text/plain": [
              "'JP-xx-MA-FO-ZI'"
            ],
            "application/vnd.google.colaboratory.intrinsic+json": {
              "type": "string"
            }
          },
          "metadata": {},
          "execution_count": 92
        }
      ],
      "source": [
        "# We can even make use of more advanced coding practices, but if its not clearer, its better to use the long verbosy version\n",
        "# We'll explore the lambda version later in this notebook\n",
        "(lambda s: s[:3].upper() + s[3:5] + s[5:].upper())(\"-\".join(dico[\"surname\"]))"
      ]
    },
    {
      "cell_type": "markdown",
      "metadata": {
        "id": "RuwhF_VqtPbZ"
      },
      "source": [
        "___________________\n",
        "\n",
        "Question\n",
        "\n",
        "1. Store 'machin' and 'bidule' in variables named val1 and val2\n",
        "2. Create this text from the two variables: 'mAcHiN-BiDuLe'"
      ]
    },
    {
      "cell_type": "code",
      "execution_count": 93,
      "metadata": {
        "id": "W0GfL8YotPbZ",
        "colab": {
          "base_uri": "https://localhost:8080/"
        },
        "outputId": "cc6f8548-372b-44da-cc06-27a1cd9a2519"
      },
      "outputs": [
        {
          "output_type": "stream",
          "name": "stdout",
          "text": [
            "MaChIn-BiDuLe\n"
          ]
        }
      ],
      "source": [
        "### =====                ==== ####\n",
        "###       YOUR CODE HERE      ####\n",
        "### =====                ==== ####\n",
        "val1=\"machin\"\n",
        "val2=\"bidule\"\n",
        "stylize = lambda s: ''.join(c.upper() if i % 2 == 0 else c.lower() for i, c in enumerate(s))\n",
        "\n",
        "result = f\"{stylize(val1)}-{stylize(val2)}\"\n",
        "print(result)\n",
        "\n"
      ]
    },
    {
      "cell_type": "markdown",
      "metadata": {
        "id": "-unIIrfEtPbZ"
      },
      "source": [
        "Question\n",
        "\n",
        "1. Using the function join, combine the values of pilou and bibi from dico_stu. The result should be like this: '121-130' (hint: be careful, the values are initially integers, the join function only works for string values)."
      ]
    },
    {
      "cell_type": "code",
      "execution_count": 94,
      "metadata": {
        "id": "B7S1NpXDtPbZ",
        "colab": {
          "base_uri": "https://localhost:8080/"
        },
        "outputId": "cc07a8de-518d-4af1-f41e-de9fe59a37e1"
      },
      "outputs": [
        {
          "output_type": "stream",
          "name": "stdout",
          "text": [
            "121 130\n",
            "'121-130'\n"
          ]
        }
      ],
      "source": [
        "### =====                ==== ####\n",
        "###       YOUR CODE HERE      ####\n",
        "### =====                ==== ####\n",
        "val1 = dico_stu[\"pilou\"]\n",
        "val2 = dico_stu[\"bibi\"]\n",
        "print(val1,val2)\n",
        "result = '-'.join([str(val1),str(val2)])\n",
        "print(repr(result))  # '121-130'"
      ]
    }
  ]
}